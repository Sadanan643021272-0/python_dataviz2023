{
  "nbformat": 4,
  "nbformat_minor": 0,
  "metadata": {
    "colab": {
      "name": " Pandas101.ipynb",
      "provenance": [],
      "toc_visible": true,
      "include_colab_link": true
    },
    "kernelspec": {
      "name": "python3",
      "display_name": "Python 3"
    }
  },
  "cells": [
    {
      "cell_type": "markdown",
      "metadata": {
        "id": "view-in-github",
        "colab_type": "text"
      },
      "source": [
        "<a href=\"https://colab.research.google.com/github/Sadanan643021272-0/python_dataviz2023/blob/main/Pandas101.ipynb\" target=\"_parent\"><img src=\"https://colab.research.google.com/assets/colab-badge.svg\" alt=\"Open In Colab\"/></a>"
      ]
    },
    {
      "cell_type": "code",
      "metadata": {
        "id": "-db5CJRNlwyL",
        "outputId": "768b4a1e-f927-43ed-f693-fb91a8586184",
        "colab": {
          "base_uri": "https://localhost:8080/",
          "height": 345
        }
      },
      "source": [
        "import pandas as pd\n",
        "data0 = pd.read_csv('/content/csv.csv')"
      ],
      "execution_count": 20,
      "outputs": [
        {
          "output_type": "error",
          "ename": "FileNotFoundError",
          "evalue": "ignored",
          "traceback": [
            "\u001b[0;31m---------------------------------------------------------------------------\u001b[0m",
            "\u001b[0;31mFileNotFoundError\u001b[0m                         Traceback (most recent call last)",
            "\u001b[0;32m<ipython-input-20-70cbf84ea5b3>\u001b[0m in \u001b[0;36m<cell line: 2>\u001b[0;34m()\u001b[0m\n\u001b[1;32m      1\u001b[0m \u001b[0;32mimport\u001b[0m \u001b[0mpandas\u001b[0m \u001b[0;32mas\u001b[0m \u001b[0mpd\u001b[0m\u001b[0;34m\u001b[0m\u001b[0;34m\u001b[0m\u001b[0m\n\u001b[0;32m----> 2\u001b[0;31m \u001b[0mdata0\u001b[0m \u001b[0;34m=\u001b[0m \u001b[0mpd\u001b[0m\u001b[0;34m.\u001b[0m\u001b[0mread_csv\u001b[0m\u001b[0;34m(\u001b[0m\u001b[0;34m'/content/csv.csv'\u001b[0m\u001b[0;34m)\u001b[0m\u001b[0;34m\u001b[0m\u001b[0;34m\u001b[0m\u001b[0m\n\u001b[0m",
            "\u001b[0;32m/usr/local/lib/python3.10/dist-packages/pandas/util/_decorators.py\u001b[0m in \u001b[0;36mwrapper\u001b[0;34m(*args, **kwargs)\u001b[0m\n\u001b[1;32m    209\u001b[0m                 \u001b[0;32melse\u001b[0m\u001b[0;34m:\u001b[0m\u001b[0;34m\u001b[0m\u001b[0;34m\u001b[0m\u001b[0m\n\u001b[1;32m    210\u001b[0m                     \u001b[0mkwargs\u001b[0m\u001b[0;34m[\u001b[0m\u001b[0mnew_arg_name\u001b[0m\u001b[0;34m]\u001b[0m \u001b[0;34m=\u001b[0m \u001b[0mnew_arg_value\u001b[0m\u001b[0;34m\u001b[0m\u001b[0;34m\u001b[0m\u001b[0m\n\u001b[0;32m--> 211\u001b[0;31m             \u001b[0;32mreturn\u001b[0m \u001b[0mfunc\u001b[0m\u001b[0;34m(\u001b[0m\u001b[0;34m*\u001b[0m\u001b[0margs\u001b[0m\u001b[0;34m,\u001b[0m \u001b[0;34m**\u001b[0m\u001b[0mkwargs\u001b[0m\u001b[0;34m)\u001b[0m\u001b[0;34m\u001b[0m\u001b[0;34m\u001b[0m\u001b[0m\n\u001b[0m\u001b[1;32m    212\u001b[0m \u001b[0;34m\u001b[0m\u001b[0m\n\u001b[1;32m    213\u001b[0m         \u001b[0;32mreturn\u001b[0m \u001b[0mcast\u001b[0m\u001b[0;34m(\u001b[0m\u001b[0mF\u001b[0m\u001b[0;34m,\u001b[0m \u001b[0mwrapper\u001b[0m\u001b[0;34m)\u001b[0m\u001b[0;34m\u001b[0m\u001b[0;34m\u001b[0m\u001b[0m\n",
            "\u001b[0;32m/usr/local/lib/python3.10/dist-packages/pandas/util/_decorators.py\u001b[0m in \u001b[0;36mwrapper\u001b[0;34m(*args, **kwargs)\u001b[0m\n\u001b[1;32m    329\u001b[0m                     \u001b[0mstacklevel\u001b[0m\u001b[0;34m=\u001b[0m\u001b[0mfind_stack_level\u001b[0m\u001b[0;34m(\u001b[0m\u001b[0;34m)\u001b[0m\u001b[0;34m,\u001b[0m\u001b[0;34m\u001b[0m\u001b[0;34m\u001b[0m\u001b[0m\n\u001b[1;32m    330\u001b[0m                 )\n\u001b[0;32m--> 331\u001b[0;31m             \u001b[0;32mreturn\u001b[0m \u001b[0mfunc\u001b[0m\u001b[0;34m(\u001b[0m\u001b[0;34m*\u001b[0m\u001b[0margs\u001b[0m\u001b[0;34m,\u001b[0m \u001b[0;34m**\u001b[0m\u001b[0mkwargs\u001b[0m\u001b[0;34m)\u001b[0m\u001b[0;34m\u001b[0m\u001b[0;34m\u001b[0m\u001b[0m\n\u001b[0m\u001b[1;32m    332\u001b[0m \u001b[0;34m\u001b[0m\u001b[0m\n\u001b[1;32m    333\u001b[0m         \u001b[0;31m# error: \"Callable[[VarArg(Any), KwArg(Any)], Any]\" has no\u001b[0m\u001b[0;34m\u001b[0m\u001b[0;34m\u001b[0m\u001b[0m\n",
            "\u001b[0;32m/usr/local/lib/python3.10/dist-packages/pandas/io/parsers/readers.py\u001b[0m in \u001b[0;36mread_csv\u001b[0;34m(filepath_or_buffer, sep, delimiter, header, names, index_col, usecols, squeeze, prefix, mangle_dupe_cols, dtype, engine, converters, true_values, false_values, skipinitialspace, skiprows, skipfooter, nrows, na_values, keep_default_na, na_filter, verbose, skip_blank_lines, parse_dates, infer_datetime_format, keep_date_col, date_parser, dayfirst, cache_dates, iterator, chunksize, compression, thousands, decimal, lineterminator, quotechar, quoting, doublequote, escapechar, comment, encoding, encoding_errors, dialect, error_bad_lines, warn_bad_lines, on_bad_lines, delim_whitespace, low_memory, memory_map, float_precision, storage_options)\u001b[0m\n\u001b[1;32m    948\u001b[0m     \u001b[0mkwds\u001b[0m\u001b[0;34m.\u001b[0m\u001b[0mupdate\u001b[0m\u001b[0;34m(\u001b[0m\u001b[0mkwds_defaults\u001b[0m\u001b[0;34m)\u001b[0m\u001b[0;34m\u001b[0m\u001b[0;34m\u001b[0m\u001b[0m\n\u001b[1;32m    949\u001b[0m \u001b[0;34m\u001b[0m\u001b[0m\n\u001b[0;32m--> 950\u001b[0;31m     \u001b[0;32mreturn\u001b[0m \u001b[0m_read\u001b[0m\u001b[0;34m(\u001b[0m\u001b[0mfilepath_or_buffer\u001b[0m\u001b[0;34m,\u001b[0m \u001b[0mkwds\u001b[0m\u001b[0;34m)\u001b[0m\u001b[0;34m\u001b[0m\u001b[0;34m\u001b[0m\u001b[0m\n\u001b[0m\u001b[1;32m    951\u001b[0m \u001b[0;34m\u001b[0m\u001b[0m\n\u001b[1;32m    952\u001b[0m \u001b[0;34m\u001b[0m\u001b[0m\n",
            "\u001b[0;32m/usr/local/lib/python3.10/dist-packages/pandas/io/parsers/readers.py\u001b[0m in \u001b[0;36m_read\u001b[0;34m(filepath_or_buffer, kwds)\u001b[0m\n\u001b[1;32m    603\u001b[0m \u001b[0;34m\u001b[0m\u001b[0m\n\u001b[1;32m    604\u001b[0m     \u001b[0;31m# Create the parser.\u001b[0m\u001b[0;34m\u001b[0m\u001b[0;34m\u001b[0m\u001b[0m\n\u001b[0;32m--> 605\u001b[0;31m     \u001b[0mparser\u001b[0m \u001b[0;34m=\u001b[0m \u001b[0mTextFileReader\u001b[0m\u001b[0;34m(\u001b[0m\u001b[0mfilepath_or_buffer\u001b[0m\u001b[0;34m,\u001b[0m \u001b[0;34m**\u001b[0m\u001b[0mkwds\u001b[0m\u001b[0;34m)\u001b[0m\u001b[0;34m\u001b[0m\u001b[0;34m\u001b[0m\u001b[0m\n\u001b[0m\u001b[1;32m    606\u001b[0m \u001b[0;34m\u001b[0m\u001b[0m\n\u001b[1;32m    607\u001b[0m     \u001b[0;32mif\u001b[0m \u001b[0mchunksize\u001b[0m \u001b[0;32mor\u001b[0m \u001b[0miterator\u001b[0m\u001b[0;34m:\u001b[0m\u001b[0;34m\u001b[0m\u001b[0;34m\u001b[0m\u001b[0m\n",
            "\u001b[0;32m/usr/local/lib/python3.10/dist-packages/pandas/io/parsers/readers.py\u001b[0m in \u001b[0;36m__init__\u001b[0;34m(self, f, engine, **kwds)\u001b[0m\n\u001b[1;32m   1440\u001b[0m \u001b[0;34m\u001b[0m\u001b[0m\n\u001b[1;32m   1441\u001b[0m         \u001b[0mself\u001b[0m\u001b[0;34m.\u001b[0m\u001b[0mhandles\u001b[0m\u001b[0;34m:\u001b[0m \u001b[0mIOHandles\u001b[0m \u001b[0;34m|\u001b[0m \u001b[0;32mNone\u001b[0m \u001b[0;34m=\u001b[0m \u001b[0;32mNone\u001b[0m\u001b[0;34m\u001b[0m\u001b[0;34m\u001b[0m\u001b[0m\n\u001b[0;32m-> 1442\u001b[0;31m         \u001b[0mself\u001b[0m\u001b[0;34m.\u001b[0m\u001b[0m_engine\u001b[0m \u001b[0;34m=\u001b[0m \u001b[0mself\u001b[0m\u001b[0;34m.\u001b[0m\u001b[0m_make_engine\u001b[0m\u001b[0;34m(\u001b[0m\u001b[0mf\u001b[0m\u001b[0;34m,\u001b[0m \u001b[0mself\u001b[0m\u001b[0;34m.\u001b[0m\u001b[0mengine\u001b[0m\u001b[0;34m)\u001b[0m\u001b[0;34m\u001b[0m\u001b[0;34m\u001b[0m\u001b[0m\n\u001b[0m\u001b[1;32m   1443\u001b[0m \u001b[0;34m\u001b[0m\u001b[0m\n\u001b[1;32m   1444\u001b[0m     \u001b[0;32mdef\u001b[0m \u001b[0mclose\u001b[0m\u001b[0;34m(\u001b[0m\u001b[0mself\u001b[0m\u001b[0;34m)\u001b[0m \u001b[0;34m->\u001b[0m \u001b[0;32mNone\u001b[0m\u001b[0;34m:\u001b[0m\u001b[0;34m\u001b[0m\u001b[0;34m\u001b[0m\u001b[0m\n",
            "\u001b[0;32m/usr/local/lib/python3.10/dist-packages/pandas/io/parsers/readers.py\u001b[0m in \u001b[0;36m_make_engine\u001b[0;34m(self, f, engine)\u001b[0m\n\u001b[1;32m   1733\u001b[0m                 \u001b[0;32mif\u001b[0m \u001b[0;34m\"b\"\u001b[0m \u001b[0;32mnot\u001b[0m \u001b[0;32min\u001b[0m \u001b[0mmode\u001b[0m\u001b[0;34m:\u001b[0m\u001b[0;34m\u001b[0m\u001b[0;34m\u001b[0m\u001b[0m\n\u001b[1;32m   1734\u001b[0m                     \u001b[0mmode\u001b[0m \u001b[0;34m+=\u001b[0m \u001b[0;34m\"b\"\u001b[0m\u001b[0;34m\u001b[0m\u001b[0;34m\u001b[0m\u001b[0m\n\u001b[0;32m-> 1735\u001b[0;31m             self.handles = get_handle(\n\u001b[0m\u001b[1;32m   1736\u001b[0m                 \u001b[0mf\u001b[0m\u001b[0;34m,\u001b[0m\u001b[0;34m\u001b[0m\u001b[0;34m\u001b[0m\u001b[0m\n\u001b[1;32m   1737\u001b[0m                 \u001b[0mmode\u001b[0m\u001b[0;34m,\u001b[0m\u001b[0;34m\u001b[0m\u001b[0;34m\u001b[0m\u001b[0m\n",
            "\u001b[0;32m/usr/local/lib/python3.10/dist-packages/pandas/io/common.py\u001b[0m in \u001b[0;36mget_handle\u001b[0;34m(path_or_buf, mode, encoding, compression, memory_map, is_text, errors, storage_options)\u001b[0m\n\u001b[1;32m    854\u001b[0m         \u001b[0;32mif\u001b[0m \u001b[0mioargs\u001b[0m\u001b[0;34m.\u001b[0m\u001b[0mencoding\u001b[0m \u001b[0;32mand\u001b[0m \u001b[0;34m\"b\"\u001b[0m \u001b[0;32mnot\u001b[0m \u001b[0;32min\u001b[0m \u001b[0mioargs\u001b[0m\u001b[0;34m.\u001b[0m\u001b[0mmode\u001b[0m\u001b[0;34m:\u001b[0m\u001b[0;34m\u001b[0m\u001b[0;34m\u001b[0m\u001b[0m\n\u001b[1;32m    855\u001b[0m             \u001b[0;31m# Encoding\u001b[0m\u001b[0;34m\u001b[0m\u001b[0;34m\u001b[0m\u001b[0m\n\u001b[0;32m--> 856\u001b[0;31m             handle = open(\n\u001b[0m\u001b[1;32m    857\u001b[0m                 \u001b[0mhandle\u001b[0m\u001b[0;34m,\u001b[0m\u001b[0;34m\u001b[0m\u001b[0;34m\u001b[0m\u001b[0m\n\u001b[1;32m    858\u001b[0m                 \u001b[0mioargs\u001b[0m\u001b[0;34m.\u001b[0m\u001b[0mmode\u001b[0m\u001b[0;34m,\u001b[0m\u001b[0;34m\u001b[0m\u001b[0;34m\u001b[0m\u001b[0m\n",
            "\u001b[0;31mFileNotFoundError\u001b[0m: [Errno 2] No such file or directory: '/content/csv.csv'"
          ]
        }
      ]
    },
    {
      "cell_type": "code",
      "source": [
        "import pandas as pd"
      ],
      "metadata": {
        "id": "qxLxLLg8LTjO"
      },
      "execution_count": 21,
      "outputs": []
    },
    {
      "cell_type": "markdown",
      "source": [
        "## Meta data = Data that describtion data\n",
        "\n",
        "ใช้อธิบายช้อมูล\n",
        "\n",
        "## CSV = Comma Separated Values\n",
        "ในการจะใส่ค่าแต่ละค่า จะใช้  comma ในการแย่ง"
      ],
      "metadata": {
        "id": "RuhVtlerGS4Q"
      }
    },
    {
      "cell_type": "markdown",
      "source": [
        ".csv = Comma Separated Values"
      ],
      "metadata": {
        "id": "nG20ex-3NX6H"
      }
    },
    {
      "cell_type": "markdown",
      "source": [
        "data.go.th"
      ],
      "metadata": {
        "id": "AyRXEjDINX3K"
      }
    },
    {
      "cell_type": "markdown",
      "source": [
        "# นำ Data เข้า\n",
        "- upload to colab  # กรณีใช้เเค่ครั้งเดียว\n",
        "- link with google drive"
      ],
      "metadata": {
        "id": "_rHnnYlYIGsG"
      }
    },
    {
      "cell_type": "markdown",
      "source": [
        "## upload to colab"
      ],
      "metadata": {
        "id": "9qyXeNjjJpaF"
      }
    },
    {
      "cell_type": "code",
      "source": [
        "data0 = pd.read_csv('/content/opendata_project.csv')"
      ],
      "metadata": {
        "id": "baOzFVR9JqwU",
        "colab": {
          "base_uri": "https://localhost:8080/",
          "height": 165
        },
        "outputId": "94746eac-4842-42eb-ca93-9e2e287e803f"
      },
      "execution_count": 11,
      "outputs": [
        {
          "output_type": "error",
          "ename": "NameError",
          "evalue": "ignored",
          "traceback": [
            "\u001b[0;31m---------------------------------------------------------------------------\u001b[0m",
            "\u001b[0;31mNameError\u001b[0m                                 Traceback (most recent call last)",
            "\u001b[0;32m<ipython-input-11-7ed313870bfb>\u001b[0m in \u001b[0;36m<cell line: 1>\u001b[0;34m()\u001b[0m\n\u001b[0;32m----> 1\u001b[0;31m \u001b[0mdata0\u001b[0m \u001b[0;34m=\u001b[0m \u001b[0mpd\u001b[0m\u001b[0;34m.\u001b[0m\u001b[0mread_csv\u001b[0m\u001b[0;34m(\u001b[0m\u001b[0;34m'/content/opendata_project.csv'\u001b[0m\u001b[0;34m)\u001b[0m\u001b[0;34m\u001b[0m\u001b[0;34m\u001b[0m\u001b[0m\n\u001b[0m",
            "\u001b[0;31mNameError\u001b[0m: name 'pd' is not defined"
          ]
        }
      ]
    },
    {
      "cell_type": "code",
      "source": [
        "data0.tail()   ##โชว์เเค่ท้ายตาราง"
      ],
      "metadata": {
        "colab": {
          "base_uri": "https://localhost:8080/",
          "height": 165
        },
        "id": "cUr1kbUXK8L8",
        "outputId": "7d5ef90c-a1ad-43d5-ea6f-24c5ce42cf20"
      },
      "execution_count": 12,
      "outputs": [
        {
          "output_type": "error",
          "ename": "NameError",
          "evalue": "ignored",
          "traceback": [
            "\u001b[0;31m---------------------------------------------------------------------------\u001b[0m",
            "\u001b[0;31mNameError\u001b[0m                                 Traceback (most recent call last)",
            "\u001b[0;32m<ipython-input-12-7270e0977ca4>\u001b[0m in \u001b[0;36m<cell line: 1>\u001b[0;34m()\u001b[0m\n\u001b[0;32m----> 1\u001b[0;31m \u001b[0mdata0\u001b[0m\u001b[0;34m.\u001b[0m\u001b[0mtail\u001b[0m\u001b[0;34m(\u001b[0m\u001b[0;34m)\u001b[0m   \u001b[0;31m##โชว์เเค่ท้ายตาราง\u001b[0m\u001b[0;34m\u001b[0m\u001b[0;34m\u001b[0m\u001b[0m\n\u001b[0m",
            "\u001b[0;31mNameError\u001b[0m: name 'data0' is not defined"
          ]
        }
      ]
    },
    {
      "cell_type": "code",
      "source": [
        "data0.shape ##ดูROW เเละColumn"
      ],
      "metadata": {
        "id": "WDJXZ95SKRrW",
        "outputId": "6a343cf3-2aba-4198-c4cd-28be6029c24c",
        "colab": {
          "base_uri": "https://localhost:8080/",
          "height": 165
        }
      },
      "execution_count": 13,
      "outputs": [
        {
          "output_type": "error",
          "ename": "NameError",
          "evalue": "ignored",
          "traceback": [
            "\u001b[0;31m---------------------------------------------------------------------------\u001b[0m",
            "\u001b[0;31mNameError\u001b[0m                                 Traceback (most recent call last)",
            "\u001b[0;32m<ipython-input-13-f415ce2e60c5>\u001b[0m in \u001b[0;36m<cell line: 1>\u001b[0;34m()\u001b[0m\n\u001b[0;32m----> 1\u001b[0;31m \u001b[0mdata0\u001b[0m\u001b[0;34m.\u001b[0m\u001b[0mshape\u001b[0m \u001b[0;31m##ดูROW เเละColumn\u001b[0m\u001b[0;34m\u001b[0m\u001b[0;34m\u001b[0m\u001b[0m\n\u001b[0m",
            "\u001b[0;31mNameError\u001b[0m: name 'data0' is not defined"
          ]
        }
      ]
    },
    {
      "cell_type": "code",
      "source": [
        "data0.describe()##25% ควอไทล์ที่1"
      ],
      "metadata": {
        "id": "ve_I3lsxKjO2"
      },
      "execution_count": null,
      "outputs": []
    },
    {
      "cell_type": "code",
      "source": [
        "data0.head()"
      ],
      "metadata": {
        "id": "e35OrKdqKAMu"
      },
      "execution_count": null,
      "outputs": []
    },
    {
      "cell_type": "code",
      "source": [
        "data0"
      ],
      "metadata": {
        "id": "_-UzDis5IMbV"
      },
      "execution_count": null,
      "outputs": []
    },
    {
      "cell_type": "markdown",
      "source": [
        "## link with google drive"
      ],
      "metadata": {
        "id": "CgUMNJxVO9FV"
      }
    },
    {
      "cell_type": "code",
      "metadata": {
        "colab": {
          "base_uri": "https://localhost:8080/"
        },
        "id": "RwYRFJocm086",
        "outputId": "73f97caf-2679-4669-a83f-7d30d996680b"
      },
      "source": [
        "from google.colab import drive\n",
        "drive.mount('/content/drive')  # mount =  เชื่อมไดร์ฟ"
      ],
      "execution_count": 22,
      "outputs": [
        {
          "output_type": "stream",
          "name": "stdout",
          "text": [
            "Drive already mounted at /content/drive; to attempt to forcibly remount, call drive.mount(\"/content/drive\", force_remount=True).\n"
          ]
        }
      ]
    },
    {
      "cell_type": "code",
      "source": [
        "data1 = pd.read_csv('/content/drive/MyDrive/DataViz23Data/csv.csv')\n",
        "data1.head(10)"
      ],
      "metadata": {
        "colab": {
          "base_uri": "https://localhost:8080/",
          "height": 840
        },
        "id": "PSxrUlEWPjHE",
        "outputId": "be026bff-340b-4212-9d21-6dd46233dd4e"
      },
      "execution_count": 23,
      "outputs": [
        {
          "output_type": "execute_result",
          "data": {
            "text/plain": [
              "  Budget_resource  Issue_No  Fiscal_year  Department_code          Department  \\\n",
              "0       งบประจำปี         0           62         11000000    สำนักการระบายน้ำ   \n",
              "1       งบประจำปี         0           62         11000000    สำนักการระบายน้ำ   \n",
              "2       งบประจำปี         0           62         11000000    สำนักการระบายน้ำ   \n",
              "3       งบประจำปี         0           62         11000000    สำนักการระบายน้ำ   \n",
              "4       งบประจำปี         0           62         11000000    สำนักการระบายน้ำ   \n",
              "5       งบประจำปี         0           62         11000000    สำนักการระบายน้ำ   \n",
              "6       งบประจำปี         0           62         50130000  สำนักงานเขตมีนบุรี   \n",
              "7       งบประจำปี         0           62         50130000  สำนักงานเขตมีนบุรี   \n",
              "8       งบประจำปี         0           62         50150000  สำนักงานเขตหนองจอก   \n",
              "9       งบประจำปี         0           62         50150000  สำนักงานเขตหนองจอก   \n",
              "\n",
              "                                    Core_budget_code Expenditure_category  \\\n",
              "0  12-เงินสำรองจ่ายทั่วไป กรณีค่าใช้จ่ายต่างๆ เกี...              งบลงทุน   \n",
              "1  12-เงินสำรองจ่ายทั่วไป กรณีค่าใช้จ่ายต่างๆ เกี...              งบลงทุน   \n",
              "2  12-เงินสำรองจ่ายทั่วไป กรณีค่าใช้จ่ายต่างๆ เกี...              งบลงทุน   \n",
              "3  12-เงินสำรองจ่ายทั่วไป กรณีค่าใช้จ่ายต่างๆ เกี...              งบลงทุน   \n",
              "4  12-เงินสำรองจ่ายทั่วไป กรณีค่าใช้จ่ายต่างๆ เกี...              งบลงทุน   \n",
              "5  12-เงินสำรองจ่ายทั่วไป กรณีค่าใช้จ่ายต่างๆ เกี...              งบลงทุน   \n",
              "6  12-เงินสำรองจ่ายทั่วไป กรณีค่าใช้จ่ายต่างๆ เกี...              งบลงทุน   \n",
              "7  12-เงินสำรองจ่ายทั่วไป กรณีค่าใช้จ่ายต่างๆ เกี...              งบลงทุน   \n",
              "8               28-เงินสำรองค่าใช้จ่าย ในการพัฒนาเขต              งบลงทุน   \n",
              "9               28-เงินสำรองค่าใช้จ่าย ในการพัฒนาเขต              งบลงทุน   \n",
              "\n",
              "                                           Item_name  Approved_buget  \n",
              "0        ขุดลอกคลองบางกะปิจากคลองสามเสนถึงคลองแสนแสบ         1193000  \n",
              "1  ขุดลอกคลองทรงกระเทียมจากคลองลาดพร้าวถึงถนนโชคช...         1100000  \n",
              "2          ขุดลอกคลองเป้งจากคลองแสนแสบถึงซอยเจริญสุข         3075000  \n",
              "3  ขุดลอกคลองลำพังพวยจากถนนศรีบูรพาถึงสถานีสูบน้ำ...         6240000  \n",
              "4  ขุดลอกบึงรางเข้จากคลองพระยาราชมนตรีถึงถนนบางขุ...         2685000  \n",
              "5  ขุดลอกคลองราษฎร์สามัคคีจากคลองทวีวัฒนาถึงคลองม...         1207000  \n",
              "6  ขุดลอกลำรางโต๊ะรอด ตั้งแต่คลองสองต้นนุ่นถึงระย...          225400  \n",
              "7  ขุดลอกลำรางเลียบคลองบึงขวาง ตั้งแต่คลองบึงขวาง...          452500  \n",
              "8  ขุดลอกคลองลำแขก จากคลองลำปลาทิว \\nถึงคลองลำตาเ...          447000  \n",
              "9  ขุดลอกคลองอู่ตะเภา จากคลองลำนกแขวก\\nถึงคลองลำม...          497000  "
            ],
            "text/html": [
              "\n",
              "\n",
              "  <div id=\"df-058b1753-52b0-4e82-a3ab-2014e6a7fd24\">\n",
              "    <div class=\"colab-df-container\">\n",
              "      <div>\n",
              "<style scoped>\n",
              "    .dataframe tbody tr th:only-of-type {\n",
              "        vertical-align: middle;\n",
              "    }\n",
              "\n",
              "    .dataframe tbody tr th {\n",
              "        vertical-align: top;\n",
              "    }\n",
              "\n",
              "    .dataframe thead th {\n",
              "        text-align: right;\n",
              "    }\n",
              "</style>\n",
              "<table border=\"1\" class=\"dataframe\">\n",
              "  <thead>\n",
              "    <tr style=\"text-align: right;\">\n",
              "      <th></th>\n",
              "      <th>Budget_resource</th>\n",
              "      <th>Issue_No</th>\n",
              "      <th>Fiscal_year</th>\n",
              "      <th>Department_code</th>\n",
              "      <th>Department</th>\n",
              "      <th>Core_budget_code</th>\n",
              "      <th>Expenditure_category</th>\n",
              "      <th>Item_name</th>\n",
              "      <th>Approved_buget</th>\n",
              "    </tr>\n",
              "  </thead>\n",
              "  <tbody>\n",
              "    <tr>\n",
              "      <th>0</th>\n",
              "      <td>งบประจำปี</td>\n",
              "      <td>0</td>\n",
              "      <td>62</td>\n",
              "      <td>11000000</td>\n",
              "      <td>สำนักการระบายน้ำ</td>\n",
              "      <td>12-เงินสำรองจ่ายทั่วไป กรณีค่าใช้จ่ายต่างๆ เกี...</td>\n",
              "      <td>งบลงทุน</td>\n",
              "      <td>ขุดลอกคลองบางกะปิจากคลองสามเสนถึงคลองแสนแสบ</td>\n",
              "      <td>1193000</td>\n",
              "    </tr>\n",
              "    <tr>\n",
              "      <th>1</th>\n",
              "      <td>งบประจำปี</td>\n",
              "      <td>0</td>\n",
              "      <td>62</td>\n",
              "      <td>11000000</td>\n",
              "      <td>สำนักการระบายน้ำ</td>\n",
              "      <td>12-เงินสำรองจ่ายทั่วไป กรณีค่าใช้จ่ายต่างๆ เกี...</td>\n",
              "      <td>งบลงทุน</td>\n",
              "      <td>ขุดลอกคลองทรงกระเทียมจากคลองลาดพร้าวถึงถนนโชคช...</td>\n",
              "      <td>1100000</td>\n",
              "    </tr>\n",
              "    <tr>\n",
              "      <th>2</th>\n",
              "      <td>งบประจำปี</td>\n",
              "      <td>0</td>\n",
              "      <td>62</td>\n",
              "      <td>11000000</td>\n",
              "      <td>สำนักการระบายน้ำ</td>\n",
              "      <td>12-เงินสำรองจ่ายทั่วไป กรณีค่าใช้จ่ายต่างๆ เกี...</td>\n",
              "      <td>งบลงทุน</td>\n",
              "      <td>ขุดลอกคลองเป้งจากคลองแสนแสบถึงซอยเจริญสุข</td>\n",
              "      <td>3075000</td>\n",
              "    </tr>\n",
              "    <tr>\n",
              "      <th>3</th>\n",
              "      <td>งบประจำปี</td>\n",
              "      <td>0</td>\n",
              "      <td>62</td>\n",
              "      <td>11000000</td>\n",
              "      <td>สำนักการระบายน้ำ</td>\n",
              "      <td>12-เงินสำรองจ่ายทั่วไป กรณีค่าใช้จ่ายต่างๆ เกี...</td>\n",
              "      <td>งบลงทุน</td>\n",
              "      <td>ขุดลอกคลองลำพังพวยจากถนนศรีบูรพาถึงสถานีสูบน้ำ...</td>\n",
              "      <td>6240000</td>\n",
              "    </tr>\n",
              "    <tr>\n",
              "      <th>4</th>\n",
              "      <td>งบประจำปี</td>\n",
              "      <td>0</td>\n",
              "      <td>62</td>\n",
              "      <td>11000000</td>\n",
              "      <td>สำนักการระบายน้ำ</td>\n",
              "      <td>12-เงินสำรองจ่ายทั่วไป กรณีค่าใช้จ่ายต่างๆ เกี...</td>\n",
              "      <td>งบลงทุน</td>\n",
              "      <td>ขุดลอกบึงรางเข้จากคลองพระยาราชมนตรีถึงถนนบางขุ...</td>\n",
              "      <td>2685000</td>\n",
              "    </tr>\n",
              "    <tr>\n",
              "      <th>5</th>\n",
              "      <td>งบประจำปี</td>\n",
              "      <td>0</td>\n",
              "      <td>62</td>\n",
              "      <td>11000000</td>\n",
              "      <td>สำนักการระบายน้ำ</td>\n",
              "      <td>12-เงินสำรองจ่ายทั่วไป กรณีค่าใช้จ่ายต่างๆ เกี...</td>\n",
              "      <td>งบลงทุน</td>\n",
              "      <td>ขุดลอกคลองราษฎร์สามัคคีจากคลองทวีวัฒนาถึงคลองม...</td>\n",
              "      <td>1207000</td>\n",
              "    </tr>\n",
              "    <tr>\n",
              "      <th>6</th>\n",
              "      <td>งบประจำปี</td>\n",
              "      <td>0</td>\n",
              "      <td>62</td>\n",
              "      <td>50130000</td>\n",
              "      <td>สำนักงานเขตมีนบุรี</td>\n",
              "      <td>12-เงินสำรองจ่ายทั่วไป กรณีค่าใช้จ่ายต่างๆ เกี...</td>\n",
              "      <td>งบลงทุน</td>\n",
              "      <td>ขุดลอกลำรางโต๊ะรอด ตั้งแต่คลองสองต้นนุ่นถึงระย...</td>\n",
              "      <td>225400</td>\n",
              "    </tr>\n",
              "    <tr>\n",
              "      <th>7</th>\n",
              "      <td>งบประจำปี</td>\n",
              "      <td>0</td>\n",
              "      <td>62</td>\n",
              "      <td>50130000</td>\n",
              "      <td>สำนักงานเขตมีนบุรี</td>\n",
              "      <td>12-เงินสำรองจ่ายทั่วไป กรณีค่าใช้จ่ายต่างๆ เกี...</td>\n",
              "      <td>งบลงทุน</td>\n",
              "      <td>ขุดลอกลำรางเลียบคลองบึงขวาง ตั้งแต่คลองบึงขวาง...</td>\n",
              "      <td>452500</td>\n",
              "    </tr>\n",
              "    <tr>\n",
              "      <th>8</th>\n",
              "      <td>งบประจำปี</td>\n",
              "      <td>0</td>\n",
              "      <td>62</td>\n",
              "      <td>50150000</td>\n",
              "      <td>สำนักงานเขตหนองจอก</td>\n",
              "      <td>28-เงินสำรองค่าใช้จ่าย ในการพัฒนาเขต</td>\n",
              "      <td>งบลงทุน</td>\n",
              "      <td>ขุดลอกคลองลำแขก จากคลองลำปลาทิว \\nถึงคลองลำตาเ...</td>\n",
              "      <td>447000</td>\n",
              "    </tr>\n",
              "    <tr>\n",
              "      <th>9</th>\n",
              "      <td>งบประจำปี</td>\n",
              "      <td>0</td>\n",
              "      <td>62</td>\n",
              "      <td>50150000</td>\n",
              "      <td>สำนักงานเขตหนองจอก</td>\n",
              "      <td>28-เงินสำรองค่าใช้จ่าย ในการพัฒนาเขต</td>\n",
              "      <td>งบลงทุน</td>\n",
              "      <td>ขุดลอกคลองอู่ตะเภา จากคลองลำนกแขวก\\nถึงคลองลำม...</td>\n",
              "      <td>497000</td>\n",
              "    </tr>\n",
              "  </tbody>\n",
              "</table>\n",
              "</div>\n",
              "      <button class=\"colab-df-convert\" onclick=\"convertToInteractive('df-058b1753-52b0-4e82-a3ab-2014e6a7fd24')\"\n",
              "              title=\"Convert this dataframe to an interactive table.\"\n",
              "              style=\"display:none;\">\n",
              "\n",
              "  <svg xmlns=\"http://www.w3.org/2000/svg\" height=\"24px\"viewBox=\"0 0 24 24\"\n",
              "       width=\"24px\">\n",
              "    <path d=\"M0 0h24v24H0V0z\" fill=\"none\"/>\n",
              "    <path d=\"M18.56 5.44l.94 2.06.94-2.06 2.06-.94-2.06-.94-.94-2.06-.94 2.06-2.06.94zm-11 1L8.5 8.5l.94-2.06 2.06-.94-2.06-.94L8.5 2.5l-.94 2.06-2.06.94zm10 10l.94 2.06.94-2.06 2.06-.94-2.06-.94-.94-2.06-.94 2.06-2.06.94z\"/><path d=\"M17.41 7.96l-1.37-1.37c-.4-.4-.92-.59-1.43-.59-.52 0-1.04.2-1.43.59L10.3 9.45l-7.72 7.72c-.78.78-.78 2.05 0 2.83L4 21.41c.39.39.9.59 1.41.59.51 0 1.02-.2 1.41-.59l7.78-7.78 2.81-2.81c.8-.78.8-2.07 0-2.86zM5.41 20L4 18.59l7.72-7.72 1.47 1.35L5.41 20z\"/>\n",
              "  </svg>\n",
              "      </button>\n",
              "\n",
              "\n",
              "\n",
              "    <div id=\"df-9ba0cea7-a03f-4f03-b6eb-d9832ae67bb4\">\n",
              "      <button class=\"colab-df-quickchart\" onclick=\"quickchart('df-9ba0cea7-a03f-4f03-b6eb-d9832ae67bb4')\"\n",
              "              title=\"Suggest charts.\"\n",
              "              style=\"display:none;\">\n",
              "\n",
              "<svg xmlns=\"http://www.w3.org/2000/svg\" height=\"24px\"viewBox=\"0 0 24 24\"\n",
              "     width=\"24px\">\n",
              "    <g>\n",
              "        <path d=\"M19 3H5c-1.1 0-2 .9-2 2v14c0 1.1.9 2 2 2h14c1.1 0 2-.9 2-2V5c0-1.1-.9-2-2-2zM9 17H7v-7h2v7zm4 0h-2V7h2v10zm4 0h-2v-4h2v4z\"/>\n",
              "    </g>\n",
              "</svg>\n",
              "      </button>\n",
              "    </div>\n",
              "\n",
              "<style>\n",
              "  .colab-df-quickchart {\n",
              "    background-color: #E8F0FE;\n",
              "    border: none;\n",
              "    border-radius: 50%;\n",
              "    cursor: pointer;\n",
              "    display: none;\n",
              "    fill: #1967D2;\n",
              "    height: 32px;\n",
              "    padding: 0 0 0 0;\n",
              "    width: 32px;\n",
              "  }\n",
              "\n",
              "  .colab-df-quickchart:hover {\n",
              "    background-color: #E2EBFA;\n",
              "    box-shadow: 0px 1px 2px rgba(60, 64, 67, 0.3), 0px 1px 3px 1px rgba(60, 64, 67, 0.15);\n",
              "    fill: #174EA6;\n",
              "  }\n",
              "\n",
              "  [theme=dark] .colab-df-quickchart {\n",
              "    background-color: #3B4455;\n",
              "    fill: #D2E3FC;\n",
              "  }\n",
              "\n",
              "  [theme=dark] .colab-df-quickchart:hover {\n",
              "    background-color: #434B5C;\n",
              "    box-shadow: 0px 1px 3px 1px rgba(0, 0, 0, 0.15);\n",
              "    filter: drop-shadow(0px 1px 2px rgba(0, 0, 0, 0.3));\n",
              "    fill: #FFFFFF;\n",
              "  }\n",
              "</style>\n",
              "\n",
              "    <script>\n",
              "      async function quickchart(key) {\n",
              "        const containerElement = document.querySelector('#' + key);\n",
              "        const charts = await google.colab.kernel.invokeFunction(\n",
              "            'suggestCharts', [key], {});\n",
              "      }\n",
              "    </script>\n",
              "\n",
              "      <script>\n",
              "\n",
              "function displayQuickchartButton(domScope) {\n",
              "  let quickchartButtonEl =\n",
              "    domScope.querySelector('#df-9ba0cea7-a03f-4f03-b6eb-d9832ae67bb4 button.colab-df-quickchart');\n",
              "  quickchartButtonEl.style.display =\n",
              "    google.colab.kernel.accessAllowed ? 'block' : 'none';\n",
              "}\n",
              "\n",
              "        displayQuickchartButton(document);\n",
              "      </script>\n",
              "      <style>\n",
              "    .colab-df-container {\n",
              "      display:flex;\n",
              "      flex-wrap:wrap;\n",
              "      gap: 12px;\n",
              "    }\n",
              "\n",
              "    .colab-df-convert {\n",
              "      background-color: #E8F0FE;\n",
              "      border: none;\n",
              "      border-radius: 50%;\n",
              "      cursor: pointer;\n",
              "      display: none;\n",
              "      fill: #1967D2;\n",
              "      height: 32px;\n",
              "      padding: 0 0 0 0;\n",
              "      width: 32px;\n",
              "    }\n",
              "\n",
              "    .colab-df-convert:hover {\n",
              "      background-color: #E2EBFA;\n",
              "      box-shadow: 0px 1px 2px rgba(60, 64, 67, 0.3), 0px 1px 3px 1px rgba(60, 64, 67, 0.15);\n",
              "      fill: #174EA6;\n",
              "    }\n",
              "\n",
              "    [theme=dark] .colab-df-convert {\n",
              "      background-color: #3B4455;\n",
              "      fill: #D2E3FC;\n",
              "    }\n",
              "\n",
              "    [theme=dark] .colab-df-convert:hover {\n",
              "      background-color: #434B5C;\n",
              "      box-shadow: 0px 1px 3px 1px rgba(0, 0, 0, 0.15);\n",
              "      filter: drop-shadow(0px 1px 2px rgba(0, 0, 0, 0.3));\n",
              "      fill: #FFFFFF;\n",
              "    }\n",
              "  </style>\n",
              "\n",
              "      <script>\n",
              "        const buttonEl =\n",
              "          document.querySelector('#df-058b1753-52b0-4e82-a3ab-2014e6a7fd24 button.colab-df-convert');\n",
              "        buttonEl.style.display =\n",
              "          google.colab.kernel.accessAllowed ? 'block' : 'none';\n",
              "\n",
              "        async function convertToInteractive(key) {\n",
              "          const element = document.querySelector('#df-058b1753-52b0-4e82-a3ab-2014e6a7fd24');\n",
              "          const dataTable =\n",
              "            await google.colab.kernel.invokeFunction('convertToInteractive',\n",
              "                                                     [key], {});\n",
              "          if (!dataTable) return;\n",
              "\n",
              "          const docLinkHtml = 'Like what you see? Visit the ' +\n",
              "            '<a target=\"_blank\" href=https://colab.research.google.com/notebooks/data_table.ipynb>data table notebook</a>'\n",
              "            + ' to learn more about interactive tables.';\n",
              "          element.innerHTML = '';\n",
              "          dataTable['output_type'] = 'display_data';\n",
              "          await google.colab.output.renderOutput(dataTable, element);\n",
              "          const docLink = document.createElement('div');\n",
              "          docLink.innerHTML = docLinkHtml;\n",
              "          element.appendChild(docLink);\n",
              "        }\n",
              "      </script>\n",
              "    </div>\n",
              "  </div>\n"
            ]
          },
          "metadata": {},
          "execution_count": 23
        }
      ]
    },
    {
      "cell_type": "code",
      "source": [
        "data1.head(10)  # ดูหัวตาราง จากแถวบน 10 แถวแรก นับจาก 0-9"
      ],
      "metadata": {
        "id": "x2yBLVzVQZp0"
      },
      "execution_count": null,
      "outputs": []
    },
    {
      "cell_type": "code",
      "source": [
        "data1.tail(10) # ดูท้ายตาราง จากข้างล่าง"
      ],
      "metadata": {
        "id": "ekG57u89QWrH"
      },
      "execution_count": null,
      "outputs": []
    },
    {
      "cell_type": "code",
      "source": [
        "data1.shape # ดูขนาด กี่เเถวกี่หลัก"
      ],
      "metadata": {
        "id": "QQMkd0xvQhvJ"
      },
      "execution_count": null,
      "outputs": []
    },
    {
      "cell_type": "code",
      "source": [
        "data1.describe()"
      ],
      "metadata": {
        "id": "nTnEhgEnTMSX"
      },
      "execution_count": null,
      "outputs": []
    },
    {
      "cell_type": "markdown",
      "source": [
        "NaN = Not a Number"
      ],
      "metadata": {
        "id": "4GLanX2ocuyZ"
      }
    },
    {
      "cell_type": "markdown",
      "source": [
        "# ชี้ค่าในตาราง (indexing)\n",
        "ชี้ค่าติดลบไม่ได้"
      ],
      "metadata": {
        "id": "GYQmkd9IdAKj"
      }
    },
    {
      "cell_type": "code",
      "source": [
        "data1['Budget_resource'][690]"
      ],
      "metadata": {
        "id": "xDWwYMEJeSsz"
      },
      "execution_count": null,
      "outputs": []
    },
    {
      "cell_type": "code",
      "source": [
        "data1['Budget_resource'][-3:-1]"
      ],
      "metadata": {
        "id": "0AFYyNv-dJEg"
      },
      "execution_count": null,
      "outputs": []
    },
    {
      "cell_type": "code",
      "source": [
        "data1.columns"
      ],
      "metadata": {
        "colab": {
          "base_uri": "https://localhost:8080/",
          "height": 165
        },
        "id": "nZTsNj1C2D6d",
        "outputId": "13d74eea-c21d-447d-f8a1-970b4fd4181c"
      },
      "execution_count": 14,
      "outputs": [
        {
          "output_type": "error",
          "ename": "NameError",
          "evalue": "ignored",
          "traceback": [
            "\u001b[0;31m---------------------------------------------------------------------------\u001b[0m",
            "\u001b[0;31mNameError\u001b[0m                                 Traceback (most recent call last)",
            "\u001b[0;32m<ipython-input-14-b4f9ec43aab6>\u001b[0m in \u001b[0;36m<cell line: 1>\u001b[0;34m()\u001b[0m\n\u001b[0;32m----> 1\u001b[0;31m \u001b[0mdata1\u001b[0m\u001b[0;34m.\u001b[0m\u001b[0mcolumns\u001b[0m\u001b[0;34m\u001b[0m\u001b[0;34m\u001b[0m\u001b[0m\n\u001b[0m",
            "\u001b[0;31mNameError\u001b[0m: name 'data1' is not defined"
          ]
        }
      ]
    },
    {
      "cell_type": "code",
      "source": [
        "data1[['Approved_buget', 'Item_name','Department']] #เรียงตามลำดับ"
      ],
      "metadata": {
        "id": "yO_Pc-_X2I2h"
      },
      "execution_count": null,
      "outputs": []
    },
    {
      "cell_type": "code",
      "source": [
        "data1[['Approved_buget', 'Item_name','Department']][6:11] #วงเล็บ2เป็นROW"
      ],
      "metadata": {
        "id": "3237KvNK2zKb"
      },
      "execution_count": null,
      "outputs": []
    },
    {
      "cell_type": "markdown",
      "source": [
        "#มุมมองเเบบ Array"
      ],
      "metadata": {
        "id": "VoleA-qp4OGl"
      }
    },
    {
      "cell_type": "code",
      "source": [
        " data1.iloc[0,0] # .iloc เปลี่ยนมุมมองเป็น np.arry  ชี้เป็นเเถว คอลัม ติดลบ สไลด์ได้"
      ],
      "metadata": {
        "id": "g1CFntgVeC8v"
      },
      "execution_count": null,
      "outputs": []
    },
    {
      "cell_type": "code",
      "source": [
        " data1.iloc[-6,5] ##-6คือเเถวที่ลบ6ออกจากด้านล่าง"
      ],
      "metadata": {
        "id": "Rob2z77HeqMx"
      },
      "execution_count": null,
      "outputs": []
    },
    {
      "cell_type": "code",
      "source": [
        "data1.tail(7)"
      ],
      "metadata": {
        "id": "eBuv7M9T48Us"
      },
      "execution_count": null,
      "outputs": []
    },
    {
      "cell_type": "markdown",
      "source": [
        "#มุมมองคอลัมน์"
      ],
      "metadata": {
        "id": "q7YvxNvm3RJg"
      }
    },
    {
      "cell_type": "markdown",
      "source": [
        "DF คือ DATAFRAME  เป็นชื่อ Data structure ที่Pandas ใช้\n"
      ],
      "metadata": {
        "id": "C1TR2Se13cKQ"
      }
    },
    {
      "cell_type": "markdown",
      "source": [
        "# Table Slicing\n",
        "ไม่ค่อยมีประสิทธิภาพ\n",
        "ต้องทราบพิกัด"
      ],
      "metadata": {
        "id": "C503gqEWeuuj"
      }
    },
    {
      "cell_type": "code",
      "source": [
        "data1.iloc[-20 :,7:10]"
      ],
      "metadata": {
        "id": "jblMyFWufTfW"
      },
      "execution_count": null,
      "outputs": []
    },
    {
      "cell_type": "markdown",
      "source": [
        " ## table Query"
      ],
      "metadata": {
        "id": "h9oTu2hKgMBK"
      }
    },
    {
      "cell_type": "markdown",
      "source": [
        "#####อยากได้รายการที่ได้อนุมัติงบเกิน 1,000,00บาท\n",
        "```df[logics]``` โดยที่Logics จะต้องมีจำนวนสมาชิกเท่ากับจำนวนเเถวของdf"
      ],
      "metadata": {
        "id": "YsT9ogWP52io"
      }
    },
    {
      "cell_type": "code",
      "source": [
        "small_df = data1.iloc[-5:,:]\n",
        "small_df"
      ],
      "metadata": {
        "colab": {
          "base_uri": "https://localhost:8080/",
          "height": 371
        },
        "id": "SUE38XTn7RTw",
        "outputId": "f936df61-e0c4-4aa7-c179-b3f0c29e270f"
      },
      "execution_count": 29,
      "outputs": [
        {
          "output_type": "execute_result",
          "data": {
            "text/plain": [
              "    Budget_resource  Issue_No  Fiscal_year  Department_code  \\\n",
              "687     งบเพิ่มเติม         1           66         50460000   \n",
              "688     งบเพิ่มเติม         1           66         50460000   \n",
              "689     งบเพิ่มเติม         1           66         50460000   \n",
              "690     งบเพิ่มเติม         1           66         50460000   \n",
              "691     งบเพิ่มเติม         1           66         50500000   \n",
              "\n",
              "               Department Core_budget_code Expenditure_category  \\\n",
              "687  สำนักงานเขตคลองสามวา              NaN              งบลงทุน   \n",
              "688  สำนักงานเขตคลองสามวา              NaN              งบลงทุน   \n",
              "689  สำนักงานเขตคลองสามวา              NaN              งบลงทุน   \n",
              "690  สำนักงานเขตคลองสามวา              NaN              งบลงทุน   \n",
              "691     สำนักงานเขตบางบอน              NaN              งบลงทุน   \n",
              "\n",
              "                                     Item_name  Approved_buget  \n",
              "687                         ขุดลอกคลองผักกะเฉด         3686000  \n",
              "688                    ขุดลอกคลองบึงทรายกองดิน         2575000  \n",
              "689                          ขุดลอกลำรางซาฟารี          689000  \n",
              "690                        ขุดลอกลำรางตาจันทร์          464000  \n",
              "691  ขุดลอกคลองบางบอนต่อจากของเดิมถึงคลองนายผล         7578000  "
            ],
            "text/html": [
              "\n",
              "\n",
              "  <div id=\"df-e7ce572b-95dd-4c9a-a9b0-3234c62db4e8\">\n",
              "    <div class=\"colab-df-container\">\n",
              "      <div>\n",
              "<style scoped>\n",
              "    .dataframe tbody tr th:only-of-type {\n",
              "        vertical-align: middle;\n",
              "    }\n",
              "\n",
              "    .dataframe tbody tr th {\n",
              "        vertical-align: top;\n",
              "    }\n",
              "\n",
              "    .dataframe thead th {\n",
              "        text-align: right;\n",
              "    }\n",
              "</style>\n",
              "<table border=\"1\" class=\"dataframe\">\n",
              "  <thead>\n",
              "    <tr style=\"text-align: right;\">\n",
              "      <th></th>\n",
              "      <th>Budget_resource</th>\n",
              "      <th>Issue_No</th>\n",
              "      <th>Fiscal_year</th>\n",
              "      <th>Department_code</th>\n",
              "      <th>Department</th>\n",
              "      <th>Core_budget_code</th>\n",
              "      <th>Expenditure_category</th>\n",
              "      <th>Item_name</th>\n",
              "      <th>Approved_buget</th>\n",
              "    </tr>\n",
              "  </thead>\n",
              "  <tbody>\n",
              "    <tr>\n",
              "      <th>687</th>\n",
              "      <td>งบเพิ่มเติม</td>\n",
              "      <td>1</td>\n",
              "      <td>66</td>\n",
              "      <td>50460000</td>\n",
              "      <td>สำนักงานเขตคลองสามวา</td>\n",
              "      <td>NaN</td>\n",
              "      <td>งบลงทุน</td>\n",
              "      <td>ขุดลอกคลองผักกะเฉด</td>\n",
              "      <td>3686000</td>\n",
              "    </tr>\n",
              "    <tr>\n",
              "      <th>688</th>\n",
              "      <td>งบเพิ่มเติม</td>\n",
              "      <td>1</td>\n",
              "      <td>66</td>\n",
              "      <td>50460000</td>\n",
              "      <td>สำนักงานเขตคลองสามวา</td>\n",
              "      <td>NaN</td>\n",
              "      <td>งบลงทุน</td>\n",
              "      <td>ขุดลอกคลองบึงทรายกองดิน</td>\n",
              "      <td>2575000</td>\n",
              "    </tr>\n",
              "    <tr>\n",
              "      <th>689</th>\n",
              "      <td>งบเพิ่มเติม</td>\n",
              "      <td>1</td>\n",
              "      <td>66</td>\n",
              "      <td>50460000</td>\n",
              "      <td>สำนักงานเขตคลองสามวา</td>\n",
              "      <td>NaN</td>\n",
              "      <td>งบลงทุน</td>\n",
              "      <td>ขุดลอกลำรางซาฟารี</td>\n",
              "      <td>689000</td>\n",
              "    </tr>\n",
              "    <tr>\n",
              "      <th>690</th>\n",
              "      <td>งบเพิ่มเติม</td>\n",
              "      <td>1</td>\n",
              "      <td>66</td>\n",
              "      <td>50460000</td>\n",
              "      <td>สำนักงานเขตคลองสามวา</td>\n",
              "      <td>NaN</td>\n",
              "      <td>งบลงทุน</td>\n",
              "      <td>ขุดลอกลำรางตาจันทร์</td>\n",
              "      <td>464000</td>\n",
              "    </tr>\n",
              "    <tr>\n",
              "      <th>691</th>\n",
              "      <td>งบเพิ่มเติม</td>\n",
              "      <td>1</td>\n",
              "      <td>66</td>\n",
              "      <td>50500000</td>\n",
              "      <td>สำนักงานเขตบางบอน</td>\n",
              "      <td>NaN</td>\n",
              "      <td>งบลงทุน</td>\n",
              "      <td>ขุดลอกคลองบางบอนต่อจากของเดิมถึงคลองนายผล</td>\n",
              "      <td>7578000</td>\n",
              "    </tr>\n",
              "  </tbody>\n",
              "</table>\n",
              "</div>\n",
              "      <button class=\"colab-df-convert\" onclick=\"convertToInteractive('df-e7ce572b-95dd-4c9a-a9b0-3234c62db4e8')\"\n",
              "              title=\"Convert this dataframe to an interactive table.\"\n",
              "              style=\"display:none;\">\n",
              "\n",
              "  <svg xmlns=\"http://www.w3.org/2000/svg\" height=\"24px\"viewBox=\"0 0 24 24\"\n",
              "       width=\"24px\">\n",
              "    <path d=\"M0 0h24v24H0V0z\" fill=\"none\"/>\n",
              "    <path d=\"M18.56 5.44l.94 2.06.94-2.06 2.06-.94-2.06-.94-.94-2.06-.94 2.06-2.06.94zm-11 1L8.5 8.5l.94-2.06 2.06-.94-2.06-.94L8.5 2.5l-.94 2.06-2.06.94zm10 10l.94 2.06.94-2.06 2.06-.94-2.06-.94-.94-2.06-.94 2.06-2.06.94z\"/><path d=\"M17.41 7.96l-1.37-1.37c-.4-.4-.92-.59-1.43-.59-.52 0-1.04.2-1.43.59L10.3 9.45l-7.72 7.72c-.78.78-.78 2.05 0 2.83L4 21.41c.39.39.9.59 1.41.59.51 0 1.02-.2 1.41-.59l7.78-7.78 2.81-2.81c.8-.78.8-2.07 0-2.86zM5.41 20L4 18.59l7.72-7.72 1.47 1.35L5.41 20z\"/>\n",
              "  </svg>\n",
              "      </button>\n",
              "\n",
              "\n",
              "\n",
              "    <div id=\"df-fdbd44b6-1d70-44b2-962b-cd92f0b63b33\">\n",
              "      <button class=\"colab-df-quickchart\" onclick=\"quickchart('df-fdbd44b6-1d70-44b2-962b-cd92f0b63b33')\"\n",
              "              title=\"Suggest charts.\"\n",
              "              style=\"display:none;\">\n",
              "\n",
              "<svg xmlns=\"http://www.w3.org/2000/svg\" height=\"24px\"viewBox=\"0 0 24 24\"\n",
              "     width=\"24px\">\n",
              "    <g>\n",
              "        <path d=\"M19 3H5c-1.1 0-2 .9-2 2v14c0 1.1.9 2 2 2h14c1.1 0 2-.9 2-2V5c0-1.1-.9-2-2-2zM9 17H7v-7h2v7zm4 0h-2V7h2v10zm4 0h-2v-4h2v4z\"/>\n",
              "    </g>\n",
              "</svg>\n",
              "      </button>\n",
              "    </div>\n",
              "\n",
              "<style>\n",
              "  .colab-df-quickchart {\n",
              "    background-color: #E8F0FE;\n",
              "    border: none;\n",
              "    border-radius: 50%;\n",
              "    cursor: pointer;\n",
              "    display: none;\n",
              "    fill: #1967D2;\n",
              "    height: 32px;\n",
              "    padding: 0 0 0 0;\n",
              "    width: 32px;\n",
              "  }\n",
              "\n",
              "  .colab-df-quickchart:hover {\n",
              "    background-color: #E2EBFA;\n",
              "    box-shadow: 0px 1px 2px rgba(60, 64, 67, 0.3), 0px 1px 3px 1px rgba(60, 64, 67, 0.15);\n",
              "    fill: #174EA6;\n",
              "  }\n",
              "\n",
              "  [theme=dark] .colab-df-quickchart {\n",
              "    background-color: #3B4455;\n",
              "    fill: #D2E3FC;\n",
              "  }\n",
              "\n",
              "  [theme=dark] .colab-df-quickchart:hover {\n",
              "    background-color: #434B5C;\n",
              "    box-shadow: 0px 1px 3px 1px rgba(0, 0, 0, 0.15);\n",
              "    filter: drop-shadow(0px 1px 2px rgba(0, 0, 0, 0.3));\n",
              "    fill: #FFFFFF;\n",
              "  }\n",
              "</style>\n",
              "\n",
              "    <script>\n",
              "      async function quickchart(key) {\n",
              "        const containerElement = document.querySelector('#' + key);\n",
              "        const charts = await google.colab.kernel.invokeFunction(\n",
              "            'suggestCharts', [key], {});\n",
              "      }\n",
              "    </script>\n",
              "\n",
              "      <script>\n",
              "\n",
              "function displayQuickchartButton(domScope) {\n",
              "  let quickchartButtonEl =\n",
              "    domScope.querySelector('#df-fdbd44b6-1d70-44b2-962b-cd92f0b63b33 button.colab-df-quickchart');\n",
              "  quickchartButtonEl.style.display =\n",
              "    google.colab.kernel.accessAllowed ? 'block' : 'none';\n",
              "}\n",
              "\n",
              "        displayQuickchartButton(document);\n",
              "      </script>\n",
              "      <style>\n",
              "    .colab-df-container {\n",
              "      display:flex;\n",
              "      flex-wrap:wrap;\n",
              "      gap: 12px;\n",
              "    }\n",
              "\n",
              "    .colab-df-convert {\n",
              "      background-color: #E8F0FE;\n",
              "      border: none;\n",
              "      border-radius: 50%;\n",
              "      cursor: pointer;\n",
              "      display: none;\n",
              "      fill: #1967D2;\n",
              "      height: 32px;\n",
              "      padding: 0 0 0 0;\n",
              "      width: 32px;\n",
              "    }\n",
              "\n",
              "    .colab-df-convert:hover {\n",
              "      background-color: #E2EBFA;\n",
              "      box-shadow: 0px 1px 2px rgba(60, 64, 67, 0.3), 0px 1px 3px 1px rgba(60, 64, 67, 0.15);\n",
              "      fill: #174EA6;\n",
              "    }\n",
              "\n",
              "    [theme=dark] .colab-df-convert {\n",
              "      background-color: #3B4455;\n",
              "      fill: #D2E3FC;\n",
              "    }\n",
              "\n",
              "    [theme=dark] .colab-df-convert:hover {\n",
              "      background-color: #434B5C;\n",
              "      box-shadow: 0px 1px 3px 1px rgba(0, 0, 0, 0.15);\n",
              "      filter: drop-shadow(0px 1px 2px rgba(0, 0, 0, 0.3));\n",
              "      fill: #FFFFFF;\n",
              "    }\n",
              "  </style>\n",
              "\n",
              "      <script>\n",
              "        const buttonEl =\n",
              "          document.querySelector('#df-e7ce572b-95dd-4c9a-a9b0-3234c62db4e8 button.colab-df-convert');\n",
              "        buttonEl.style.display =\n",
              "          google.colab.kernel.accessAllowed ? 'block' : 'none';\n",
              "\n",
              "        async function convertToInteractive(key) {\n",
              "          const element = document.querySelector('#df-e7ce572b-95dd-4c9a-a9b0-3234c62db4e8');\n",
              "          const dataTable =\n",
              "            await google.colab.kernel.invokeFunction('convertToInteractive',\n",
              "                                                     [key], {});\n",
              "          if (!dataTable) return;\n",
              "\n",
              "          const docLinkHtml = 'Like what you see? Visit the ' +\n",
              "            '<a target=\"_blank\" href=https://colab.research.google.com/notebooks/data_table.ipynb>data table notebook</a>'\n",
              "            + ' to learn more about interactive tables.';\n",
              "          element.innerHTML = '';\n",
              "          dataTable['output_type'] = 'display_data';\n",
              "          await google.colab.output.renderOutput(dataTable, element);\n",
              "          const docLink = document.createElement('div');\n",
              "          docLink.innerHTML = docLinkHtml;\n",
              "          element.appendChild(docLink);\n",
              "        }\n",
              "      </script>\n",
              "    </div>\n",
              "  </div>\n"
            ]
          },
          "metadata": {},
          "execution_count": 29
        }
      ]
    },
    {
      "cell_type": "code",
      "source": [
        "small_df[[False, True,True,False,False]] ##small_df คือชื่อDF ##เลือกเฉพาะ rowที่ต้องการ โดยนับเเถวเเรกเป็น0"
      ],
      "metadata": {
        "colab": {
          "base_uri": "https://localhost:8080/",
          "height": 191
        },
        "id": "quZZJLHD648g",
        "outputId": "67b9b606-4fa0-4f7e-fbe9-8dc5dac1dfa2"
      },
      "execution_count": 30,
      "outputs": [
        {
          "output_type": "execute_result",
          "data": {
            "text/plain": [
              "    Budget_resource  Issue_No  Fiscal_year  Department_code  \\\n",
              "688     งบเพิ่มเติม         1           66         50460000   \n",
              "689     งบเพิ่มเติม         1           66         50460000   \n",
              "\n",
              "               Department Core_budget_code Expenditure_category  \\\n",
              "688  สำนักงานเขตคลองสามวา              NaN              งบลงทุน   \n",
              "689  สำนักงานเขตคลองสามวา              NaN              งบลงทุน   \n",
              "\n",
              "                   Item_name  Approved_buget  \n",
              "688  ขุดลอกคลองบึงทรายกองดิน         2575000  \n",
              "689        ขุดลอกลำรางซาฟารี          689000  "
            ],
            "text/html": [
              "\n",
              "\n",
              "  <div id=\"df-a116ff1a-d752-4e88-be6f-e798b33feec5\">\n",
              "    <div class=\"colab-df-container\">\n",
              "      <div>\n",
              "<style scoped>\n",
              "    .dataframe tbody tr th:only-of-type {\n",
              "        vertical-align: middle;\n",
              "    }\n",
              "\n",
              "    .dataframe tbody tr th {\n",
              "        vertical-align: top;\n",
              "    }\n",
              "\n",
              "    .dataframe thead th {\n",
              "        text-align: right;\n",
              "    }\n",
              "</style>\n",
              "<table border=\"1\" class=\"dataframe\">\n",
              "  <thead>\n",
              "    <tr style=\"text-align: right;\">\n",
              "      <th></th>\n",
              "      <th>Budget_resource</th>\n",
              "      <th>Issue_No</th>\n",
              "      <th>Fiscal_year</th>\n",
              "      <th>Department_code</th>\n",
              "      <th>Department</th>\n",
              "      <th>Core_budget_code</th>\n",
              "      <th>Expenditure_category</th>\n",
              "      <th>Item_name</th>\n",
              "      <th>Approved_buget</th>\n",
              "    </tr>\n",
              "  </thead>\n",
              "  <tbody>\n",
              "    <tr>\n",
              "      <th>688</th>\n",
              "      <td>งบเพิ่มเติม</td>\n",
              "      <td>1</td>\n",
              "      <td>66</td>\n",
              "      <td>50460000</td>\n",
              "      <td>สำนักงานเขตคลองสามวา</td>\n",
              "      <td>NaN</td>\n",
              "      <td>งบลงทุน</td>\n",
              "      <td>ขุดลอกคลองบึงทรายกองดิน</td>\n",
              "      <td>2575000</td>\n",
              "    </tr>\n",
              "    <tr>\n",
              "      <th>689</th>\n",
              "      <td>งบเพิ่มเติม</td>\n",
              "      <td>1</td>\n",
              "      <td>66</td>\n",
              "      <td>50460000</td>\n",
              "      <td>สำนักงานเขตคลองสามวา</td>\n",
              "      <td>NaN</td>\n",
              "      <td>งบลงทุน</td>\n",
              "      <td>ขุดลอกลำรางซาฟารี</td>\n",
              "      <td>689000</td>\n",
              "    </tr>\n",
              "  </tbody>\n",
              "</table>\n",
              "</div>\n",
              "      <button class=\"colab-df-convert\" onclick=\"convertToInteractive('df-a116ff1a-d752-4e88-be6f-e798b33feec5')\"\n",
              "              title=\"Convert this dataframe to an interactive table.\"\n",
              "              style=\"display:none;\">\n",
              "\n",
              "  <svg xmlns=\"http://www.w3.org/2000/svg\" height=\"24px\"viewBox=\"0 0 24 24\"\n",
              "       width=\"24px\">\n",
              "    <path d=\"M0 0h24v24H0V0z\" fill=\"none\"/>\n",
              "    <path d=\"M18.56 5.44l.94 2.06.94-2.06 2.06-.94-2.06-.94-.94-2.06-.94 2.06-2.06.94zm-11 1L8.5 8.5l.94-2.06 2.06-.94-2.06-.94L8.5 2.5l-.94 2.06-2.06.94zm10 10l.94 2.06.94-2.06 2.06-.94-2.06-.94-.94-2.06-.94 2.06-2.06.94z\"/><path d=\"M17.41 7.96l-1.37-1.37c-.4-.4-.92-.59-1.43-.59-.52 0-1.04.2-1.43.59L10.3 9.45l-7.72 7.72c-.78.78-.78 2.05 0 2.83L4 21.41c.39.39.9.59 1.41.59.51 0 1.02-.2 1.41-.59l7.78-7.78 2.81-2.81c.8-.78.8-2.07 0-2.86zM5.41 20L4 18.59l7.72-7.72 1.47 1.35L5.41 20z\"/>\n",
              "  </svg>\n",
              "      </button>\n",
              "\n",
              "\n",
              "\n",
              "    <div id=\"df-1d71ad71-d3ad-47be-a395-5bf227458f74\">\n",
              "      <button class=\"colab-df-quickchart\" onclick=\"quickchart('df-1d71ad71-d3ad-47be-a395-5bf227458f74')\"\n",
              "              title=\"Suggest charts.\"\n",
              "              style=\"display:none;\">\n",
              "\n",
              "<svg xmlns=\"http://www.w3.org/2000/svg\" height=\"24px\"viewBox=\"0 0 24 24\"\n",
              "     width=\"24px\">\n",
              "    <g>\n",
              "        <path d=\"M19 3H5c-1.1 0-2 .9-2 2v14c0 1.1.9 2 2 2h14c1.1 0 2-.9 2-2V5c0-1.1-.9-2-2-2zM9 17H7v-7h2v7zm4 0h-2V7h2v10zm4 0h-2v-4h2v4z\"/>\n",
              "    </g>\n",
              "</svg>\n",
              "      </button>\n",
              "    </div>\n",
              "\n",
              "<style>\n",
              "  .colab-df-quickchart {\n",
              "    background-color: #E8F0FE;\n",
              "    border: none;\n",
              "    border-radius: 50%;\n",
              "    cursor: pointer;\n",
              "    display: none;\n",
              "    fill: #1967D2;\n",
              "    height: 32px;\n",
              "    padding: 0 0 0 0;\n",
              "    width: 32px;\n",
              "  }\n",
              "\n",
              "  .colab-df-quickchart:hover {\n",
              "    background-color: #E2EBFA;\n",
              "    box-shadow: 0px 1px 2px rgba(60, 64, 67, 0.3), 0px 1px 3px 1px rgba(60, 64, 67, 0.15);\n",
              "    fill: #174EA6;\n",
              "  }\n",
              "\n",
              "  [theme=dark] .colab-df-quickchart {\n",
              "    background-color: #3B4455;\n",
              "    fill: #D2E3FC;\n",
              "  }\n",
              "\n",
              "  [theme=dark] .colab-df-quickchart:hover {\n",
              "    background-color: #434B5C;\n",
              "    box-shadow: 0px 1px 3px 1px rgba(0, 0, 0, 0.15);\n",
              "    filter: drop-shadow(0px 1px 2px rgba(0, 0, 0, 0.3));\n",
              "    fill: #FFFFFF;\n",
              "  }\n",
              "</style>\n",
              "\n",
              "    <script>\n",
              "      async function quickchart(key) {\n",
              "        const containerElement = document.querySelector('#' + key);\n",
              "        const charts = await google.colab.kernel.invokeFunction(\n",
              "            'suggestCharts', [key], {});\n",
              "      }\n",
              "    </script>\n",
              "\n",
              "      <script>\n",
              "\n",
              "function displayQuickchartButton(domScope) {\n",
              "  let quickchartButtonEl =\n",
              "    domScope.querySelector('#df-1d71ad71-d3ad-47be-a395-5bf227458f74 button.colab-df-quickchart');\n",
              "  quickchartButtonEl.style.display =\n",
              "    google.colab.kernel.accessAllowed ? 'block' : 'none';\n",
              "}\n",
              "\n",
              "        displayQuickchartButton(document);\n",
              "      </script>\n",
              "      <style>\n",
              "    .colab-df-container {\n",
              "      display:flex;\n",
              "      flex-wrap:wrap;\n",
              "      gap: 12px;\n",
              "    }\n",
              "\n",
              "    .colab-df-convert {\n",
              "      background-color: #E8F0FE;\n",
              "      border: none;\n",
              "      border-radius: 50%;\n",
              "      cursor: pointer;\n",
              "      display: none;\n",
              "      fill: #1967D2;\n",
              "      height: 32px;\n",
              "      padding: 0 0 0 0;\n",
              "      width: 32px;\n",
              "    }\n",
              "\n",
              "    .colab-df-convert:hover {\n",
              "      background-color: #E2EBFA;\n",
              "      box-shadow: 0px 1px 2px rgba(60, 64, 67, 0.3), 0px 1px 3px 1px rgba(60, 64, 67, 0.15);\n",
              "      fill: #174EA6;\n",
              "    }\n",
              "\n",
              "    [theme=dark] .colab-df-convert {\n",
              "      background-color: #3B4455;\n",
              "      fill: #D2E3FC;\n",
              "    }\n",
              "\n",
              "    [theme=dark] .colab-df-convert:hover {\n",
              "      background-color: #434B5C;\n",
              "      box-shadow: 0px 1px 3px 1px rgba(0, 0, 0, 0.15);\n",
              "      filter: drop-shadow(0px 1px 2px rgba(0, 0, 0, 0.3));\n",
              "      fill: #FFFFFF;\n",
              "    }\n",
              "  </style>\n",
              "\n",
              "      <script>\n",
              "        const buttonEl =\n",
              "          document.querySelector('#df-a116ff1a-d752-4e88-be6f-e798b33feec5 button.colab-df-convert');\n",
              "        buttonEl.style.display =\n",
              "          google.colab.kernel.accessAllowed ? 'block' : 'none';\n",
              "\n",
              "        async function convertToInteractive(key) {\n",
              "          const element = document.querySelector('#df-a116ff1a-d752-4e88-be6f-e798b33feec5');\n",
              "          const dataTable =\n",
              "            await google.colab.kernel.invokeFunction('convertToInteractive',\n",
              "                                                     [key], {});\n",
              "          if (!dataTable) return;\n",
              "\n",
              "          const docLinkHtml = 'Like what you see? Visit the ' +\n",
              "            '<a target=\"_blank\" href=https://colab.research.google.com/notebooks/data_table.ipynb>data table notebook</a>'\n",
              "            + ' to learn more about interactive tables.';\n",
              "          element.innerHTML = '';\n",
              "          dataTable['output_type'] = 'display_data';\n",
              "          await google.colab.output.renderOutput(dataTable, element);\n",
              "          const docLink = document.createElement('div');\n",
              "          docLink.innerHTML = docLinkHtml;\n",
              "          element.appendChild(docLink);\n",
              "        }\n",
              "      </script>\n",
              "    </div>\n",
              "  </div>\n"
            ]
          },
          "metadata": {},
          "execution_count": 30
        }
      ]
    },
    {
      "cell_type": "markdown",
      "source": [
        "##ปั้น list  of logics จากตาราง PANDAS"
      ],
      "metadata": {
        "id": "cYLEuTTn8Ie2"
      }
    },
    {
      "cell_type": "code",
      "source": [
        "small_df['Approved_buget'] < 1,000,000"
      ],
      "metadata": {
        "colab": {
          "base_uri": "https://localhost:8080/",
          "height": 165
        },
        "id": "21iEgdZ78bI8",
        "outputId": "801f842a-1764-42fc-8d3c-bfcabd4b0c79"
      },
      "execution_count": 15,
      "outputs": [
        {
          "output_type": "error",
          "ename": "NameError",
          "evalue": "ignored",
          "traceback": [
            "\u001b[0;31m---------------------------------------------------------------------------\u001b[0m",
            "\u001b[0;31mNameError\u001b[0m                                 Traceback (most recent call last)",
            "\u001b[0;32m<ipython-input-15-7fa98bf8ae84>\u001b[0m in \u001b[0;36m<cell line: 1>\u001b[0;34m()\u001b[0m\n\u001b[0;32m----> 1\u001b[0;31m \u001b[0msmall_df\u001b[0m\u001b[0;34m[\u001b[0m\u001b[0;34m'Approved_buget'\u001b[0m\u001b[0;34m]\u001b[0m \u001b[0;34m<\u001b[0m \u001b[0;36m1\u001b[0m\u001b[0;34m,\u001b[0m\u001b[0;36m000\u001b[0m\u001b[0;34m,\u001b[0m\u001b[0;36m000\u001b[0m\u001b[0;34m\u001b[0m\u001b[0;34m\u001b[0m\u001b[0m\n\u001b[0m",
            "\u001b[0;31mNameError\u001b[0m: name 'small_df' is not defined"
          ]
        }
      ]
    },
    {
      "cell_type": "code",
      "source": [
        "small_df[small_df['Approved_buget'] < 1000000]"
      ],
      "metadata": {
        "id": "izVFZaGK87Ct"
      },
      "execution_count": null,
      "outputs": []
    },
    {
      "cell_type": "code",
      "source": [
        "data1[data1['propertytype_name_en']== 'condo'] #ใช้ logi"
      ],
      "metadata": {
        "id": "Q065m9jHgSaM"
      },
      "execution_count": null,
      "outputs": []
    },
    {
      "cell_type": "markdown",
      "source": [
        "####QUIZ3 อยากได้รายการที่ได้รับอนุมัติงบมากกว่า 1 ล้านบาท เเต่ไม่เกิน 2 ล้านบาท"
      ],
      "metadata": {
        "id": "69HSt--69UEe"
      }
    },
    {
      "cell_type": "code",
      "source": [
        "data1[(data1['Approved_buget'] >1000000) & (data1['Approved_buget']<=2000000)]"
      ],
      "metadata": {
        "id": "VjjiXK3G-y7w"
      },
      "execution_count": null,
      "outputs": []
    },
    {
      "cell_type": "code",
      "source": [
        "data1['propertytype_name_en']== 'condo'"
      ],
      "metadata": {
        "id": "W7ovnaO2g66t"
      },
      "execution_count": null,
      "outputs": []
    },
    {
      "cell_type": "code",
      "source": [
        "data1[data1['price_min'] > 10000000]"
      ],
      "metadata": {
        "id": "VH3dH6jhd7-v"
      },
      "execution_count": null,
      "outputs": []
    },
    {
      "cell_type": "code",
      "source": [
        "data1[data1['price_min'] > 10000000].describe()"
      ],
      "metadata": {
        "id": "ki9C2z_ghf_w"
      },
      "execution_count": null,
      "outputs": []
    },
    {
      "cell_type": "markdown",
      "source": [
        "# Quiz 4\n",
        "1. ราคาเฉลี่ยของบ้านที่มีราคาระหว่าง 3-5 ร้านบาท\n",
        "2. พื้นที่ และ จำนวนห้องนอนของบ้านที่แพงที่สุด\n",
        "3. จำนวนที่จอดรถและห้องน้ำของบ้านที่ถูกที่สุด\n",
        "4. ชนิดของบ้านที่แพงที่สุด\n",
        "5. บ้านชนิดไหนมีปริมาณมากที่สุด"
      ],
      "metadata": {
        "id": "Hub_AdJqiOAO"
      }
    },
    {
      "cell_type": "code",
      "source": [
        "# 1. ราคาเฉลี่ยของบ้านที่มีราคาระหว่าง 3-5 ร้านบาท\n",
        "data1[(data1['price_min'] >=3000000) & (data1['price_min']<=5000000)].describe()\n",
        "# Ans 3.928111e+06\t = 3.928111  ล้านบาท"
      ],
      "metadata": {
        "id": "njQLgbSyjHUS"
      },
      "execution_count": null,
      "outputs": []
    },
    {
      "cell_type": "code",
      "source": [
        "price_mean = data1[(data1['price_min'] >=3000000) & (data1['price_min']<=5000000)]['price_min'].mean()"
      ],
      "metadata": {
        "id": "Gs_qnLEBfhHp"
      },
      "execution_count": null,
      "outputs": []
    },
    {
      "cell_type": "code",
      "source": [
        "print(f'ราคาเฉลี่ยของบ้านที่มีราคาระหว่าง 3-5 ล้านบาท คือ {int(price_mean):,}')"
      ],
      "metadata": {
        "id": "YI0IJnQVfuQe"
      },
      "execution_count": null,
      "outputs": []
    },
    {
      "cell_type": "code",
      "source": [
        "#2.พื้นที่และจำนวนห้องนอนของบ้านที่แพงที่สุด\n",
        "data1['price_min'].max()"
      ],
      "metadata": {
        "id": "leHcW5KnkLGb"
      },
      "execution_count": null,
      "outputs": []
    },
    {
      "cell_type": "code",
      "source": [
        "data1[data1['price_min']==580000000][['area_usable_min','count_room_bed']]"
      ],
      "metadata": {
        "id": "hgtvSVt1bOQy"
      },
      "execution_count": null,
      "outputs": []
    },
    {
      "cell_type": "code",
      "source": [
        "data1[data1['price_min']==data1['price_min'].max()][['area_usable_min','count_room_bed','price_min']]"
      ],
      "metadata": {
        "id": "ZcCyJtAMgx0r"
      },
      "execution_count": null,
      "outputs": []
    },
    {
      "cell_type": "code",
      "source": [
        "data1[data1['price_min']==data1['price_min'].max()]"
      ],
      "metadata": {
        "id": "xe7bkCjVhCTF"
      },
      "execution_count": null,
      "outputs": []
    },
    {
      "cell_type": "code",
      "source": [
        "#3.จำนวนที่จอดรถและห้องน้ำที่ถูกที่สุด\n",
        "data1['price_min'].min()"
      ],
      "metadata": {
        "id": "9LBy2jtkl-CS"
      },
      "execution_count": null,
      "outputs": []
    },
    {
      "cell_type": "code",
      "source": [
        "data1[data1['price_min']==100000][['count_parking','count_room_bath']]"
      ],
      "metadata": {
        "id": "qPEw_eRmnyzx"
      },
      "execution_count": null,
      "outputs": []
    },
    {
      "cell_type": "code",
      "source": [
        "data1[data1['price_min']==data1['price_min'].min()][['propertytype_name_en','count_parking','count_room_bath','price_min']]"
      ],
      "metadata": {
        "id": "OIumzGQ_hh2i"
      },
      "execution_count": null,
      "outputs": []
    },
    {
      "cell_type": "code",
      "source": [
        "# 4. ชนิดของบ้านที่แพงที่สุด\n",
        "data1.describe()\n",
        "data1[data1['price_min'] == 580000000]\n",
        "# Ans Condo"
      ],
      "metadata": {
        "id": "Xc5DbZbjoDB5"
      },
      "execution_count": null,
      "outputs": []
    },
    {
      "cell_type": "code",
      "source": [
        "# 4. ชนิดของบ้านที่แพงที่สุด\n",
        "data1['propertytype_name_en'][data1['price_min'] == 580000000]"
      ],
      "metadata": {
        "id": "eiEo-9QLsTtQ"
      },
      "execution_count": null,
      "outputs": []
    },
    {
      "cell_type": "code",
      "source": [
        "data1[data1['price_min']==data1['price_min'].max()][['propertytype_name_en','price_min']]"
      ],
      "metadata": {
        "id": "JpVQ3BZUh9aq"
      },
      "execution_count": null,
      "outputs": []
    },
    {
      "cell_type": "code",
      "source": [
        "#5. บ้านชนิดไหนมีปริมาณมากที่สุด\n",
        "data1['propertytype_name_en'].describe()"
      ],
      "metadata": {
        "id": "rczL22K4r99n"
      },
      "execution_count": null,
      "outputs": []
    },
    {
      "cell_type": "code",
      "source": [],
      "metadata": {
        "id": "BuYu_3MCiSuU"
      },
      "execution_count": null,
      "outputs": []
    },
    {
      "cell_type": "code",
      "source": [],
      "metadata": {
        "id": "jc18tzVap6PX"
      },
      "execution_count": null,
      "outputs": []
    },
    {
      "cell_type": "code",
      "source": [
        "import os"
      ],
      "metadata": {
        "id": "P1yKlhjQOTxx"
      },
      "execution_count": null,
      "outputs": []
    },
    {
      "cell_type": "code",
      "metadata": {
        "id": "8aVuLimaokIK"
      },
      "source": [
        "path = '/content/drive/My Drive/dataviz_2021_data'"
      ],
      "execution_count": null,
      "outputs": []
    },
    {
      "cell_type": "code",
      "metadata": {
        "id": "bJMZpuMsrLG1"
      },
      "source": [
        "covid_file_path = os.path.join(path,'pm-20-jan-2021.csv')\n",
        "print(covid_file_path)"
      ],
      "execution_count": null,
      "outputs": []
    },
    {
      "cell_type": "code",
      "metadata": {
        "id": "k1NDGhW8rjb6"
      },
      "source": [
        "a = path + '/pm-18-jan-2021.csv'\n",
        "print(a)"
      ],
      "execution_count": null,
      "outputs": []
    },
    {
      "cell_type": "markdown",
      "source": [
        "###Missing Values\n",
        "\n",
        "\n",
        "\n"
      ],
      "metadata": {
        "id": "Q4M1f0ePBuQ3"
      }
    },
    {
      "cell_type": "markdown",
      "metadata": {
        "id": "l3oehUans3Vr"
      },
      "source": [
        "## load data to memory"
      ]
    },
    {
      "cell_type": "code",
      "metadata": {
        "id": "lxKqSaR3sScc"
      },
      "source": [
        "data_covid = pd.read_csv(covid_file_path)\n",
        "data_covid"
      ],
      "execution_count": null,
      "outputs": []
    },
    {
      "cell_type": "code",
      "metadata": {
        "id": "sHTOPUJttJJ8"
      },
      "source": [
        "data_covid.head()"
      ],
      "execution_count": null,
      "outputs": []
    },
    {
      "cell_type": "markdown",
      "source": [
        "NaN = Not a Number"
      ],
      "metadata": {
        "id": "rlAYwIleTDBT"
      }
    },
    {
      "cell_type": "code",
      "source": [
        "data_covid.head(20)"
      ],
      "metadata": {
        "id": "Slh1ACWSSGLW"
      },
      "execution_count": null,
      "outputs": []
    },
    {
      "cell_type": "code",
      "source": [
        "data_covid.tail()"
      ],
      "metadata": {
        "id": "bmXcnfi-Stf6"
      },
      "execution_count": null,
      "outputs": []
    },
    {
      "cell_type": "code",
      "metadata": {
        "id": "zj5UmHPtySZ4"
      },
      "source": [
        "data_covid.shape"
      ],
      "execution_count": null,
      "outputs": []
    },
    {
      "cell_type": "markdown",
      "metadata": {
        "id": "CRYEuv0dzLtW"
      },
      "source": [
        "## ชี้ค่าในตาราง"
      ]
    },
    {
      "cell_type": "markdown",
      "metadata": {
        "id": "KFqGDG0c0AYI"
      },
      "source": [
        "#### basic"
      ]
    },
    {
      "cell_type": "code",
      "metadata": {
        "id": "vQ8Fvpgkyp4E"
      },
      "source": [
        "data_covid['province_of_onset']"
      ],
      "execution_count": null,
      "outputs": []
    },
    {
      "cell_type": "code",
      "metadata": {
        "id": "tHxuEWK6zjSH"
      },
      "source": [
        "data_covid['risk'][12649]"
      ],
      "execution_count": null,
      "outputs": []
    },
    {
      "cell_type": "markdown",
      "metadata": {
        "id": "dZ3UfzfV0DIy"
      },
      "source": [
        "#### .iloc"
      ]
    },
    {
      "cell_type": "code",
      "metadata": {
        "id": "oTb8mQj6z6DN"
      },
      "source": [
        "data_covid.iloc[4,7]"
      ],
      "execution_count": null,
      "outputs": []
    },
    {
      "cell_type": "markdown",
      "source": [
        "# เรียนถึงนี่ 12 Jan 2022"
      ],
      "metadata": {
        "id": "9Y9kGLs5TXZa"
      }
    },
    {
      "cell_type": "markdown",
      "metadata": {
        "id": "shzgCJfy0x2z"
      },
      "source": [
        "## Table slicing"
      ]
    },
    {
      "cell_type": "markdown",
      "metadata": {
        "id": "NWxhCozt0757"
      },
      "source": [
        "#### ตัดมาเฉพาะ column ที่ต้องการ"
      ]
    },
    {
      "cell_type": "code",
      "metadata": {
        "id": "x7I7LHQY0gLe"
      },
      "source": [
        "smaller_table = data_covid[['province_of_onset','announce_date','risk']]\n",
        "smaller_table"
      ],
      "execution_count": null,
      "outputs": []
    },
    {
      "cell_type": "markdown",
      "metadata": {
        "id": "nrVTN03F2GpV"
      },
      "source": [
        "#### ตัดเฉพาะ rows ที่ต้องการ"
      ]
    },
    {
      "cell_type": "markdown",
      "metadata": {
        "id": "58aOjVTl2SK0"
      },
      "source": [
        "##### แบบง่าย แต่ใช้การอะไรไม่ค่อยจะได้ (มองเป็น array แล้วตัดแบบ array)"
      ]
    },
    {
      "cell_type": "code",
      "metadata": {
        "id": "NYFm0KkM1vqR"
      },
      "source": [
        "data_covid.iloc[1:5,:]"
      ],
      "execution_count": null,
      "outputs": []
    },
    {
      "cell_type": "markdown",
      "metadata": {
        "id": "yR2j59YD2y65"
      },
      "source": [
        "แบบ advanced แต่ใช้ประโยชน์ได้เยอะกว่า (ตัดแบบใช้ logic query)"
      ]
    },
    {
      "cell_type": "markdown",
      "source": [
        "```pddf```[list_of_logical_values] คือการเลือก row ที่ logical values เป็น True"
      ],
      "metadata": {
        "id": "CHJVF0-bW8vD"
      }
    },
    {
      "cell_type": "code",
      "source": [
        "data_covid['province_of_onset']"
      ],
      "metadata": {
        "id": "6I1Mfj_VXjbt"
      },
      "execution_count": null,
      "outputs": []
    },
    {
      "cell_type": "code",
      "source": [
        "data_covid['province_of_onset']=='ขอนแก่น'"
      ],
      "metadata": {
        "id": "tfwtOaG1W55V"
      },
      "execution_count": null,
      "outputs": []
    },
    {
      "cell_type": "code",
      "metadata": {
        "id": "7l8BC42x2qSm"
      },
      "source": [
        "data_covid[data_covid['province_of_onset']=='ขอนแก่น']"
      ],
      "execution_count": null,
      "outputs": []
    },
    {
      "cell_type": "code",
      "source": [
        "data_covid[data_covid['age']>=70]"
      ],
      "metadata": {
        "id": "ZHpDomPuYT3n"
      },
      "execution_count": null,
      "outputs": []
    },
    {
      "cell_type": "markdown",
      "metadata": {
        "id": "z9IC5md533qS"
      },
      "source": [
        "การชี้ค่าในตารางด้วย data_covid[***x***] ค่า ***x*** สามารถมีค่าที่ใส่เข้าไปได้ 2 แบบ\n",
        "\n",
        "\n",
        "1.   ชื่อ column\n",
        "2.   ใส่ rows ที่ต้องการ (ใส่ list ที่มี***ขนาดเท่ากับจำนวนแถว*** แล้วบอกว่าเอา แถวไหนบ้างโดยใช้ logical expression (```True```/```False```))\n",
        "\n"
      ]
    },
    {
      "cell_type": "code",
      "metadata": {
        "id": "jQu4sr_53Ytk"
      },
      "source": [
        "eight_rows_covid = data_covid.iloc[:8,3:] # ตารางตัวอย่าง\n",
        "eight_rows_covid"
      ],
      "execution_count": null,
      "outputs": []
    },
    {
      "cell_type": "code",
      "metadata": {
        "id": "3NeywU6J48Vv"
      },
      "source": [
        "eight_rows_covid[[True,False,True,True,False,True,False,False]]   #2.   ใส่ list ที่ มีค่า logic ของ แต่ละ row โดยที่ ค่า True คือ เลือก ค่า False คือไม่เลืิอก"
      ],
      "execution_count": null,
      "outputs": []
    },
    {
      "cell_type": "code",
      "metadata": {
        "id": "VaD8Uq625Xsk"
      },
      "source": [
        "eight_rows_covid['province_of_onset'] == 'กรุงเทพมหานคร'  #สร้าง list ของ logical expression"
      ],
      "execution_count": null,
      "outputs": []
    },
    {
      "cell_type": "code",
      "metadata": {
        "id": "Ch14sJ-c6MFP"
      },
      "source": [
        "eight_rows_covid[eight_rows_covid['province_of_onset'] == 'กรุงเทพมหานคร']  #เราเอา 2 บรรทัดบนมาบวกกัน"
      ],
      "execution_count": null,
      "outputs": []
    },
    {
      "cell_type": "code",
      "source": [
        "eight_rows_covid['district_of_onset'] == 'เมือง'"
      ],
      "metadata": {
        "id": "omeJ7wj4a0rN"
      },
      "execution_count": null,
      "outputs": []
    },
    {
      "cell_type": "code",
      "source": [
        "import numpy as np"
      ],
      "metadata": {
        "id": "rtXDtcyScGO-"
      },
      "execution_count": null,
      "outputs": []
    },
    {
      "cell_type": "markdown",
      "source": [
        "$.isnull()$ ใช้ตรวจสอบว่าเป็น NaN หรือไม่"
      ],
      "metadata": {
        "id": "WLHyHltKcwRH"
      }
    },
    {
      "cell_type": "code",
      "source": [
        "eight_rows_covid['district_of_onset'].isnull()"
      ],
      "metadata": {
        "id": "DTEFmdAmbQYu"
      },
      "execution_count": null,
      "outputs": []
    },
    {
      "cell_type": "code",
      "source": [
        "sum(eight_rows_covid['district_of_onset'].isnull())"
      ],
      "metadata": {
        "id": "lNLVa-vFi2Sn"
      },
      "execution_count": null,
      "outputs": []
    },
    {
      "cell_type": "markdown",
      "metadata": {
        "id": "HTZIBf0a7wTM"
      },
      "source": [
        "Quiz (ให้ใช้เฉพาะที่อาจารย์สอนไปแล้วในวิชานี้)\n",
        "\n",
        "1.   คำนวณ อายุเฉลี่ย ของ**ผู้ชาย** ในข้อมูลทั้งหมด\n",
        "2.   คำนวณ อายุเฉลี่ย ของ**ผู้ชาย** ในจังหวัดขอนแก่น\n",
        "3.   หาจำนวนผู้ป่วยที่เป็นคน **ที่ไม่ใช่คนไทย**"
      ]
    },
    {
      "cell_type": "code",
      "metadata": {
        "id": "hxkhDHOK6hoc"
      },
      "source": [
        "this_data = data_covid[['sex','age','province_of_onset']]"
      ],
      "execution_count": null,
      "outputs": []
    },
    {
      "cell_type": "code",
      "metadata": {
        "id": "KZvCLjtIYfV9"
      },
      "source": [
        "this_data"
      ],
      "execution_count": null,
      "outputs": []
    },
    {
      "cell_type": "code",
      "metadata": {
        "id": "O-364VUjYgxw"
      },
      "source": [
        "female = this_data[this_data['sex']=='หญิง']\n",
        "female"
      ],
      "execution_count": null,
      "outputs": []
    },
    {
      "cell_type": "code",
      "source": [
        "female['age']"
      ],
      "metadata": {
        "id": "ydY1eWvAutHQ",
        "outputId": "ac4b9557-57e7-450d-ed18-ddc9f376586f",
        "colab": {
          "base_uri": "https://localhost:8080/",
          "height": 165
        }
      },
      "execution_count": 16,
      "outputs": [
        {
          "output_type": "error",
          "ename": "NameError",
          "evalue": "ignored",
          "traceback": [
            "\u001b[0;31m---------------------------------------------------------------------------\u001b[0m",
            "\u001b[0;31mNameError\u001b[0m                                 Traceback (most recent call last)",
            "\u001b[0;32m<ipython-input-16-4952b00ba050>\u001b[0m in \u001b[0;36m<cell line: 1>\u001b[0;34m()\u001b[0m\n\u001b[0;32m----> 1\u001b[0;31m \u001b[0mfemale\u001b[0m\u001b[0;34m[\u001b[0m\u001b[0;34m'age'\u001b[0m\u001b[0;34m]\u001b[0m\u001b[0;34m\u001b[0m\u001b[0;34m\u001b[0m\u001b[0m\n\u001b[0m",
            "\u001b[0;31mNameError\u001b[0m: name 'female' is not defined"
          ]
        }
      ]
    },
    {
      "cell_type": "code",
      "metadata": {
        "id": "jdDlyCZiY_U3"
      },
      "source": [
        "sum = 0\n",
        "N = 0\n",
        "for a in female['age']:\n",
        "\n",
        "    if a > 0:\n",
        "        sum += a # sum = sum + a\n",
        "        N += 1\n",
        "\n",
        "print(f'อายุเฉลี่ย ของ ผู้ป่วยหญิง {sum/N}')"
      ],
      "execution_count": null,
      "outputs": []
    },
    {
      "cell_type": "code",
      "metadata": {
        "id": "LpQi57Z8ZhIF"
      },
      "source": [
        "female_KK = female[female['province_of_onset']=='ขอนแก่น']\n",
        "\n",
        "sum = 0\n",
        "N = 0\n",
        "for a in female_KK['age']:\n",
        "\n",
        "    if a > 0:\n",
        "        sum += a # sum = sum + a\n",
        "        N += 1\n",
        "\n",
        "print(f'อายุเฉลี่ย ของ ผู้ป่วยหญิง ในจังหวัดขอนแก่น {sum/N}')"
      ],
      "execution_count": null,
      "outputs": []
    },
    {
      "cell_type": "code",
      "source": [
        "female[(female['province_of_onset']=='ขอนแก่น') | (female['province_of_onset']=='หนองคาย')]"
      ],
      "metadata": {
        "id": "6uofVICgwPw8"
      },
      "execution_count": null,
      "outputs": []
    },
    {
      "cell_type": "markdown",
      "source": [
        "#### หาจำนวนคนป่วยที่ไม่ใช่คนไทย"
      ],
      "metadata": {
        "id": "3Enfi22gXjJQ"
      }
    },
    {
      "cell_type": "code",
      "source": [
        "import numpy as np"
      ],
      "metadata": {
        "id": "WSiCLw5vYGQv"
      },
      "execution_count": null,
      "outputs": []
    },
    {
      "cell_type": "code",
      "source": [
        "np.sum(data_covid['nationality'].dropna() != 'Thailand')"
      ],
      "metadata": {
        "id": "9kXcQaq7Xij5"
      },
      "execution_count": null,
      "outputs": []
    },
    {
      "cell_type": "markdown",
      "metadata": {
        "id": "Jol0oyUYb2-9"
      },
      "source": [
        "การจัดการ Missing Value\n",
        "\n",
        "- ลบ record ที่เป็น missing\n",
        "- แทนที่ ค่า missing ด้วยค่าที่เหมาะสม mean, default, category-unknown\n",
        "- ใช้ ค่าจาก columns อื่นๆ ช่วยประมาณค่า ค่าใน column ที่หายไป (regression, deep learning, etc.)"
      ]
    },
    {
      "cell_type": "markdown",
      "metadata": {
        "id": "wedBfQPMePi6"
      },
      "source": [
        "### ลบ record (dropna)\n",
        "\n",
        "missing = ```None``` ```NA```(not autorized) ```NaN``` (not a number)"
      ]
    },
    {
      "cell_type": "code",
      "source": [
        "this_data"
      ],
      "metadata": {
        "id": "DagWgMmSC47b"
      },
      "execution_count": null,
      "outputs": []
    },
    {
      "cell_type": "code",
      "metadata": {
        "id": "x_f9i5-UePB-"
      },
      "source": [
        "this_data.shape #(12423, 3)"
      ],
      "execution_count": null,
      "outputs": []
    },
    {
      "cell_type": "code",
      "source": [
        "this_data.dropna()"
      ],
      "metadata": {
        "id": "1jUEAe7nDDxa"
      },
      "execution_count": null,
      "outputs": []
    },
    {
      "cell_type": "code",
      "metadata": {
        "id": "XHrGf2AUfSko"
      },
      "source": [
        "print(data_covid.shape)\n",
        "print(data_covid.dropna().shape)"
      ],
      "execution_count": null,
      "outputs": []
    },
    {
      "cell_type": "code",
      "source": [
        "this_data.dropna(subset=['age','sex'])"
      ],
      "metadata": {
        "id": "y2kDzWaPDkcH"
      },
      "execution_count": null,
      "outputs": []
    },
    {
      "cell_type": "markdown",
      "source": [
        "###การจัดการ misiing values\n",
        "-ลบ record ที่เป็น misiing (dropna)\n",
        "\n",
        "-เเทนที่ค่าmissing ด้วยค่าที่เหมาะสม mean,dafault,category-unknown(fillna)\n",
        "\n",
        "-ใช้ค่าจากcolumn อื่นๆ ช่วยประมาณค่า ค่าในcolumn ที่หายไป(regression,deep learning.etc.)(fillna)"
      ],
      "metadata": {
        "id": "V7BVd-yiELM9"
      }
    },
    {
      "cell_type": "markdown",
      "source": [
        "#####NAN- NOT A NUMBER\n",
        "\n",
        "##### NULL\n",
        "\n",
        "#####NA -NOT Available\n"
      ],
      "metadata": {
        "id": "0b8_uQ95FSo2"
      }
    },
    {
      "cell_type": "code",
      "source": [
        "data1.shape"
      ],
      "metadata": {
        "id": "3Falg8wfFtEl"
      },
      "execution_count": null,
      "outputs": []
    },
    {
      "cell_type": "code",
      "source": [
        "data1.dropna().shape"
      ],
      "metadata": {
        "id": "9Ho6XcIDF3g8"
      },
      "execution_count": null,
      "outputs": []
    },
    {
      "cell_type": "code",
      "source": [
        "print(this_data.dropna().shape)\n",
        "print(this_data.dropna(subset=['sex','age']).shape)"
      ],
      "metadata": {
        "id": "TzVFFCWBDkQ4"
      },
      "execution_count": null,
      "outputs": []
    },
    {
      "cell_type": "markdown",
      "source": [
        "# ตรวจสอบ Missing (```isnull()```)\n",
        "เซลล์ที่ว่างจะเป็น True\n",
        "\n"
      ],
      "metadata": {
        "id": "HT8aUn3kEzRI"
      }
    },
    {
      "cell_type": "code",
      "source": [
        "data1.isnull().any()  ## .any()เอาค่าความจริงใน colum มา or กัน"
      ],
      "metadata": {
        "id": "oeht9dsGCiyi"
      },
      "execution_count": null,
      "outputs": []
    },
    {
      "cell_type": "code",
      "source": [
        "data1.isnull().any().any()  #เอาค่าความจริง มา orกัน"
      ],
      "metadata": {
        "id": "dMUtvyqzDxbt"
      },
      "execution_count": null,
      "outputs": []
    },
    {
      "cell_type": "code",
      "source": [
        "data1.isnull().all()  ## .any()เอาค่าความจริงใน colum มา and กัน"
      ],
      "metadata": {
        "id": "_CIX-q7aDl1F"
      },
      "execution_count": null,
      "outputs": []
    },
    {
      "cell_type": "code",
      "source": [
        "this_data.isnull()"
      ],
      "metadata": {
        "id": "jm0kpFrRDkOM"
      },
      "execution_count": null,
      "outputs": []
    },
    {
      "cell_type": "code",
      "source": [
        "this_data.isnull().any() # .any() เอาค่าความจริงใน column มา OR กัน"
      ],
      "metadata": {
        "id": "Xedt7QXqDkJ6"
      },
      "execution_count": null,
      "outputs": []
    },
    {
      "cell_type": "code",
      "source": [
        "this_data.isnull().all() # .all() เอาค่าความจริงใน column มา AND กัน"
      ],
      "metadata": {
        "id": "D2OrckdlE5Ot"
      },
      "execution_count": null,
      "outputs": []
    },
    {
      "cell_type": "code",
      "source": [
        "this_data.isnull().any().any()"
      ],
      "metadata": {
        "id": "jTfgKcyiE5Dg"
      },
      "execution_count": null,
      "outputs": []
    },
    {
      "cell_type": "code",
      "source": [
        "data1.shape"
      ],
      "metadata": {
        "id": "YCnl7lYFIE6t"
      },
      "execution_count": null,
      "outputs": []
    },
    {
      "cell_type": "code",
      "source": [
        "data1_1 = data1.dropna(subset=['Fiscal_year'])"
      ],
      "metadata": {
        "id": "Pjzqd6ddIsr6"
      },
      "execution_count": null,
      "outputs": []
    },
    {
      "cell_type": "code",
      "source": [
        "data1_1.isnull().any() ##ต้องมีตัวเเปรรับถึงจะอัพเดท"
      ],
      "metadata": {
        "id": "WM_IbLmrIfTm"
      },
      "execution_count": null,
      "outputs": []
    },
    {
      "cell_type": "code",
      "source": [
        "data1.dropna(subset=['Fiscal_year'],inplace = True)##อัพเดทตารางเดิม"
      ],
      "metadata": {
        "id": "h2KvQCUfJR83"
      },
      "execution_count": null,
      "outputs": []
    },
    {
      "cell_type": "code",
      "source": [
        "this_data.dropna(subset=['sex','age']).isnull().any()"
      ],
      "metadata": {
        "id": "WAkQ3SPPE42d"
      },
      "execution_count": null,
      "outputs": []
    },
    {
      "cell_type": "code",
      "source": [
        "this_data.dropna(subset=['sex','age'])"
      ],
      "metadata": {
        "id": "jzKzRmS0HvKS"
      },
      "execution_count": null,
      "outputs": []
    },
    {
      "cell_type": "markdown",
      "source": [
        "##Filna"
      ],
      "metadata": {
        "id": "cz7FAj1zKrZD"
      }
    },
    {
      "cell_type": "code",
      "source": [
        "data1['Core_budget_code']"
      ],
      "metadata": {
        "id": "tQ-CsplWKqgh"
      },
      "execution_count": null,
      "outputs": []
    },
    {
      "cell_type": "code",
      "source": [
        "set(data1['Core_budget_code']) #ถ้าหน้าตาเหมือนกันจะเลือกมาอันเดียว"
      ],
      "metadata": {
        "id": "mPiYhaFCK2yU"
      },
      "execution_count": null,
      "outputs": []
    },
    {
      "cell_type": "code",
      "source": [
        "data1.fillna('-',inplace=True)"
      ],
      "metadata": {
        "id": "3HQ6osdHLIkl"
      },
      "execution_count": null,
      "outputs": []
    },
    {
      "cell_type": "code",
      "source": [
        "data1.isnull().any()"
      ],
      "metadata": {
        "id": "W9NWmc0HLa3N"
      },
      "execution_count": null,
      "outputs": []
    },
    {
      "cell_type": "markdown",
      "source": [
        "#HW3\n",
        "-รายการที่เเพงที่สุดเเละถูกที่สุดคือรายการอะไร\n",
        "\n",
        "-รายการขุดลอกคูคอง 'สำนักงานเขตคลองสาม'เเละ'สำนักงานเขตคลองสามวา'\n",
        "\n",
        "-จากข้อ2  เขตไหนใช้งบประมาณเยอะกว่ากัน\n",
        "\n",
        "-Core Budget ไหน ('12-เงินสำรองจ่ายทั่วไป กรณีค่าใช้จ่ายต่างๆ เกี่ยวกับน้ำท่วม',\n",
        " '17-เงินสำรองจ่ายทั่วไป กรณีค่าใช้จ่ายเพื่อการพัฒนากรุงเทพมหานคร',\n",
        " '28-เงินสำรองค่าใช้จ่าย ในการพัฒนาเขต') มีค่าเฉลี่ยงบประมาณที่ถูกอนุมัติมากที่สุด\n"
      ],
      "metadata": {
        "id": "LJcepE2DLyiW"
      }
    },
    {
      "cell_type": "markdown",
      "source": [
        "##ข้อ1 รายการที่เเพงที่สุดเเละถูกที่สุดคือรายการอะไร"
      ],
      "metadata": {
        "id": "Zc_IwYPHv73r"
      }
    },
    {
      "cell_type": "code",
      "source": [
        "data1"
      ],
      "metadata": {
        "id": "RbYFxZajvd-y"
      },
      "execution_count": null,
      "outputs": []
    },
    {
      "cell_type": "code",
      "source": [
        "data1.max()\n",
        "data1.min()"
      ],
      "metadata": {
        "id": "vhDxSrt9vgp2"
      },
      "execution_count": null,
      "outputs": []
    },
    {
      "cell_type": "code",
      "source": [
        "data1_max =data1['Approved_buget'].max()\n",
        "data1_min = data1['Approved_buget'].min()\n",
        "data1[(data1['Approved_buget'] == data1_max)|(data1['Approved_buget'] == data1_min)]"
      ],
      "metadata": {
        "id": "LTMIEnTHvnvO"
      },
      "execution_count": null,
      "outputs": []
    },
    {
      "cell_type": "markdown",
      "source": [
        "##ข้อ2 รายการขุดลอกคูคอง 'สำนักงานเขตคลองสาม'เเละ'สำนักงานเขตคลองสามวา'"
      ],
      "metadata": {
        "id": "yhEjV7thvwJw"
      }
    },
    {
      "cell_type": "code",
      "source": [
        "data1[(data1['Department'] == 'สำนักงานเขตคลองสาน') | (data1['Department'] == 'สำนักงานเขตคลองสามวา')]"
      ],
      "metadata": {
        "id": "EksHDoX5wCLY"
      },
      "execution_count": null,
      "outputs": []
    },
    {
      "cell_type": "markdown",
      "source": [
        "##ข้อ3 -จากข้อ2  เขตไหนใช้งบประมาณเยอะกว่ากัน\n",
        "\n",
        "```\n",
        "# This is formatted as code\n",
        "```\n",
        "\n"
      ],
      "metadata": {
        "id": "_iqZ2Z8twFn9"
      }
    },
    {
      "cell_type": "code",
      "source": [
        "data_6= data1[(data1['Department'] == 'สำนักงานเขตคลองสาน')]\n",
        "data_7= data_6['Approved_buget'].sum()\n",
        "print('สำนักงานเขตคลองสาน ใช้งบประมาณไปทั้งหมด', data_7) ,\n",
        "data_8 = data1[(data1['Department'] == 'สำนักงานเขตคลองสามวา')]\n",
        "data_9 = data_8['Approved_buget'].sum()\n",
        "print('สำนักงานเขตคลองสามวา ใช้งบประมาณไปทั้งหมด', data_9)\n"
      ],
      "metadata": {
        "id": "PjQrIZW2wZBk"
      },
      "execution_count": null,
      "outputs": []
    },
    {
      "cell_type": "code",
      "source": [
        "if (data_7 < data_9):\n",
        "   print('สำนักงานเขตคลองสานใช้งบประมาณมากกว่า')\n",
        "elif (data_7 > data_9):\n",
        "   print('สำนักงานเขตคลองสามวาใช้งบประมาณมากว่า')"
      ],
      "metadata": {
        "id": "b_KxGx3yxFDQ"
      },
      "execution_count": null,
      "outputs": []
    },
    {
      "cell_type": "markdown",
      "source": [
        "##ข้อ4 Core Budget ไหน ('12-เงินสำรองจ่ายทั่วไป กรณีค่าใช้จ่ายต่างๆ เกี่ยวกับน้ำท่วม', '17-เงินสำรองจ่ายทั่วไป กรณีค่าใช้จ่ายเพื่อการพัฒนากรุงเทพมหานคร', '28-เงินสำรองค่าใช้จ่าย ในการพัฒนาเขต') มีค่าเฉลี่ยงบประมาณที่ถูกอนุมัติมากที่สุด"
      ],
      "metadata": {
        "id": "78uvpfZnx-DV"
      }
    },
    {
      "cell_type": "code",
      "source": [
        "Core_data1 = data1.dropna()\n",
        "CoreBudget_data1 = Core_data1[Core_data1['Core_budget_code'] != '-']\n",
        "CoreBudget_data1_12 =CoreBudget_data1[CoreBudget_data1['Core_budget_code'] == '12-เงินสำรองจ่ายทั่วไป กรณีค่าใช้จ่ายต่างๆ เกี่ยวกับน้ำท่วม']\n",
        "CoreBudget_data1_28 =CoreBudget_data1[CoreBudget_data1['Core_budget_code'] == '28-เงินสำรองค่าใช้จ่าย ในการพัฒนาเขต']\n",
        "CoreBudget_data1_17 =CoreBudget_data1[CoreBudget_data1['Core_budget_code'] == '17-เงินสำรองจ่ายทั่วไป กรณีค่าใช้จ่ายเพื่อการพัฒนากรุงเทพมหานคร']\n",
        "CoreBudget = []\n",
        "x=set(CoreBudget_data1['Core_budget_code'])\n",
        "for n in x:\n",
        "  CoreBudget.append(n)\n",
        "CoreBudget_data1_12_MEAN =CoreBudget_data1_12['Approved_buget'].mean()\n",
        "CoreBudget_data1_17_MEAN =CoreBudget_data1_17['Approved_buget'].mean()\n",
        "CoreBudget_data1_28_MEAN =CoreBudget_data1_28['Approved_buget'].mean()\n",
        "if (CoreBudget_data1_12_MEAN > CoreBudget_data1_17_MEAN ) & (CoreBudget_data1_12_MEAN > CoreBudget_data1_28_MEAN ):\n",
        "  print(f'รายการนี้ {CoreBudget[2]} มีค่าเฉลี่ยงบประมาณที่ถูกอนุมัติสูงที่สุด {CoreBudget_data1_12_MEAN}')\n",
        "elif (CoreBudget_data1_17_MEAN > CoreBudget_data1_12_MEAN ) & (CoreBudget_data1_17_MEAN > CoreBudget_data1_28_MEAN ):\n",
        "  print(f'รายการนี้ {CoreBudget[0]} มีค่าเฉลี่ยงบประมาณที่ถูกอนุมัติสูงที่สุด {CoreBudget_data1_17_MEAN}')\n",
        "elif (CoreBudget_data1_28_MEAN > CoreBudget_data1_12_MEAN ) & (CoreBudget_data1_28_MEAN > CoreBudget_data1_17_MEAN ):\n",
        "  print(f'รายการนี้ {CoreBudget[1]} มีค่าเฉลี่ยงบประมาณที่ถูกอนุมัติสูงที่สุด {CoreBudget_data1_28_MEAN}')"
      ],
      "metadata": {
        "id": "PezOdi_Ix2FB"
      },
      "execution_count": null,
      "outputs": []
    },
    {
      "cell_type": "markdown",
      "source": [
        "### 1. เพื่อให้ได้ผลลัพธ์การจัดการ ```dropna()``` ต้องเอาตัวแปรมารับ"
      ],
      "metadata": {
        "id": "Zk1jlJifH4dr"
      }
    },
    {
      "cell_type": "code",
      "source": [
        "this_data_nonull = this_data.dropna(subset=['sex','age'])"
      ],
      "metadata": {
        "id": "Eel9ffG3IGVR"
      },
      "execution_count": null,
      "outputs": []
    },
    {
      "cell_type": "code",
      "source": [
        "this_data_nonull.isnull().any()"
      ],
      "metadata": {
        "id": "vuKKQdJGE4pr"
      },
      "execution_count": null,
      "outputs": []
    },
    {
      "cell_type": "markdown",
      "source": [
        "### 2. update ตารางด้วยตัวแปร ```inplace```"
      ],
      "metadata": {
        "id": "0t2Z-fDwITjk"
      }
    },
    {
      "cell_type": "code",
      "source": [
        "this_data.dropna(subset=['sex','age'],inplace=True)"
      ],
      "metadata": {
        "id": "J9xXSTGPIerx"
      },
      "execution_count": null,
      "outputs": []
    },
    {
      "cell_type": "code",
      "source": [
        "this_data.isnull().any()"
      ],
      "metadata": {
        "id": "xmXVdVexIebF"
      },
      "execution_count": null,
      "outputs": []
    },
    {
      "cell_type": "code",
      "source": [
        "aa = this_data.dropna(subset=['sex','age'],inplace=True)"
      ],
      "metadata": {
        "id": "JnDdRvgkJKIt"
      },
      "execution_count": null,
      "outputs": []
    },
    {
      "cell_type": "code",
      "source": [
        "aa"
      ],
      "metadata": {
        "id": "BKZ2ZQD9JQJd"
      },
      "execution_count": null,
      "outputs": []
    },
    {
      "cell_type": "markdown",
      "metadata": {
        "id": "m5hChDmpjkyN"
      },
      "source": [
        "### แทน missing ด้วยค่าที่เหมาะสม (```fillna()```)"
      ]
    },
    {
      "cell_type": "code",
      "metadata": {
        "id": "KvRsTv4umSnR"
      },
      "source": [
        "this_data = data_covid[['sex','age','province_of_onset']]"
      ],
      "execution_count": null,
      "outputs": []
    },
    {
      "cell_type": "code",
      "metadata": {
        "id": "8n1Qyl0ibKrL"
      },
      "source": [
        "this_data"
      ],
      "execution_count": null,
      "outputs": []
    },
    {
      "cell_type": "code",
      "metadata": {
        "id": "wnlhDEjpkgUr"
      },
      "source": [
        "print(f'จำนวน record ก่อน drop missing ใน province {this_data.shape[0]}')\n",
        "print(f'จำนวน record หลัง drop missing ใน province {this_data.dropna(subset=[\"province_of_onset\"]).shape[0]}')"
      ],
      "execution_count": null,
      "outputs": []
    },
    {
      "cell_type": "markdown",
      "source": [
        "### 1. แทนด้วย class ใหม่"
      ],
      "metadata": {
        "id": "VafsBJyuLzul"
      }
    },
    {
      "cell_type": "code",
      "metadata": {
        "id": "rFrzt9d7mZx4"
      },
      "source": [
        "this_data_updated = this_data.fillna(value={'sex':'ไม่รู้', 'age':-99, 'province_of_onset':'ไม่รู้'})\n",
        "this_data_updated.head()"
      ],
      "execution_count": null,
      "outputs": []
    },
    {
      "cell_type": "code",
      "source": [
        "this_data_updated.tail(15)"
      ],
      "metadata": {
        "id": "K-i3Ni62MCD_"
      },
      "execution_count": null,
      "outputs": []
    },
    {
      "cell_type": "code",
      "source": [
        "this_data_updated.isnull().any()"
      ],
      "metadata": {
        "id": "keFV6MJCLqAJ"
      },
      "execution_count": null,
      "outputs": []
    },
    {
      "cell_type": "markdown",
      "source": [
        "### 2. แทนด้วยค่าที่เหมาะสม\n",
        "\n",
        "\n",
        "*   ตามใจคนทำ\n",
        "*   ค่ากลาง\n",
        "\n"
      ],
      "metadata": {
        "id": "VqyI1LblMUx-"
      }
    },
    {
      "cell_type": "markdown",
      "source": [
        "#### ตามใจคนทำ"
      ],
      "metadata": {
        "id": "wHh1S-4KN_RZ"
      }
    },
    {
      "cell_type": "code",
      "source": [
        "data_covid.head()"
      ],
      "metadata": {
        "id": "F7UXHr-IMpyR"
      },
      "execution_count": null,
      "outputs": []
    },
    {
      "cell_type": "code",
      "source": [
        "data_covid_fillasiwant = data_covid.fillna(value={'sex':'หญิง'})  #เรามีข้อมูลว่า เพศหญิงมีเยอะกว่าเพศชาย"
      ],
      "metadata": {
        "id": "ExtImcdMMgTY"
      },
      "execution_count": null,
      "outputs": []
    },
    {
      "cell_type": "code",
      "source": [
        "data_covid_fillasiwant.isnull().any()"
      ],
      "metadata": {
        "id": "6GqvCJQSNUBd"
      },
      "execution_count": null,
      "outputs": []
    },
    {
      "cell_type": "markdown",
      "source": [
        "#### แทนด้วยค่ากลาง"
      ],
      "metadata": {
        "id": "01ChEOM6OCUs"
      }
    },
    {
      "cell_type": "code",
      "source": [
        "data_covid['age']"
      ],
      "metadata": {
        "id": "GODZ_S29OMi_"
      },
      "execution_count": null,
      "outputs": []
    },
    {
      "cell_type": "code",
      "source": [
        "data_covid['age'].mean()"
      ],
      "metadata": {
        "id": "CNX3z3EqOSLj"
      },
      "execution_count": null,
      "outputs": []
    },
    {
      "cell_type": "code",
      "source": [
        "data_covid_fillwithmean = data_covid.fillna(value={'age':data_covid['age'].mean()})"
      ],
      "metadata": {
        "id": "dm3aeX6zMf-o"
      },
      "execution_count": null,
      "outputs": []
    },
    {
      "cell_type": "code",
      "source": [
        "data_covid_fillwithmean.isnull().any()"
      ],
      "metadata": {
        "id": "Ixiwxl1tOmac"
      },
      "execution_count": null,
      "outputs": []
    },
    {
      "cell_type": "markdown",
      "metadata": {
        "id": "ZbzScMVdb6U7"
      },
      "source": [
        "### การวนลูป record ในตาราง  (```.iterrows```)"
      ]
    },
    {
      "cell_type": "code",
      "source": [
        "for row in range(len(data1)):\n",
        "  print (row[1]['Fiscal_year'])\n",
        "  print('-----------------')"
      ],
      "metadata": {
        "id": "wD0s9gTeKQEB",
        "outputId": "e5d6f554-4d93-4eaf-b5d4-ac600c7ea820",
        "colab": {
          "base_uri": "https://localhost:8080/",
          "height": 200
        }
      },
      "execution_count": 25,
      "outputs": [
        {
          "output_type": "error",
          "ename": "NameError",
          "evalue": "ignored",
          "traceback": [
            "\u001b[0;31m---------------------------------------------------------------------------\u001b[0m",
            "\u001b[0;31mNameError\u001b[0m                                 Traceback (most recent call last)",
            "\u001b[0;32m<ipython-input-25-acc4b608fe8e>\u001b[0m in \u001b[0;36m<cell line: 1>\u001b[0;34m()\u001b[0m\n\u001b[1;32m      1\u001b[0m \u001b[0;32mfor\u001b[0m \u001b[0mrow_i\u001b[0m \u001b[0;32min\u001b[0m \u001b[0mrange\u001b[0m\u001b[0;34m(\u001b[0m\u001b[0mlen\u001b[0m\u001b[0;34m(\u001b[0m\u001b[0mdata1\u001b[0m\u001b[0;34m)\u001b[0m\u001b[0;34m)\u001b[0m\u001b[0;34m:\u001b[0m\u001b[0;34m\u001b[0m\u001b[0;34m\u001b[0m\u001b[0m\n\u001b[0;32m----> 2\u001b[0;31m   \u001b[0mprint\u001b[0m \u001b[0;34m(\u001b[0m\u001b[0mrow\u001b[0m\u001b[0;34m[\u001b[0m\u001b[0;36m1\u001b[0m\u001b[0;34m]\u001b[0m\u001b[0;34m[\u001b[0m\u001b[0;34m'Fiscal_year'\u001b[0m\u001b[0;34m]\u001b[0m\u001b[0;34m)\u001b[0m\u001b[0;34m\u001b[0m\u001b[0;34m\u001b[0m\u001b[0m\n\u001b[0m\u001b[1;32m      3\u001b[0m   \u001b[0mprint\u001b[0m\u001b[0;34m(\u001b[0m\u001b[0;34m'-----------------'\u001b[0m\u001b[0;34m)\u001b[0m\u001b[0;34m\u001b[0m\u001b[0;34m\u001b[0m\u001b[0m\n",
            "\u001b[0;31mNameError\u001b[0m: name 'row' is not defined"
          ]
        }
      ]
    },
    {
      "cell_type": "code",
      "source": [
        "for row in data1.iterrows():\n",
        "  #PRINTZ=(row)\n",
        "  print (row[1]['Fiscal_year'])\n",
        "  print('------------')"
      ],
      "metadata": {
        "id": "dJUqNYoFMY9H",
        "outputId": "9261939d-218a-4521-ef46-52d8f8b71045",
        "colab": {
          "base_uri": "https://localhost:8080/"
        }
      },
      "execution_count": 27,
      "outputs": [
        {
          "output_type": "stream",
          "name": "stdout",
          "text": [
            "62\n",
            "------------\n",
            "62\n",
            "------------\n",
            "62\n",
            "------------\n",
            "62\n",
            "------------\n",
            "62\n",
            "------------\n",
            "62\n",
            "------------\n",
            "62\n",
            "------------\n",
            "62\n",
            "------------\n",
            "62\n",
            "------------\n",
            "62\n",
            "------------\n",
            "62\n",
            "------------\n",
            "62\n",
            "------------\n",
            "62\n",
            "------------\n",
            "62\n",
            "------------\n",
            "62\n",
            "------------\n",
            "62\n",
            "------------\n",
            "62\n",
            "------------\n",
            "62\n",
            "------------\n",
            "62\n",
            "------------\n",
            "62\n",
            "------------\n",
            "62\n",
            "------------\n",
            "62\n",
            "------------\n",
            "63\n",
            "------------\n",
            "63\n",
            "------------\n",
            "63\n",
            "------------\n",
            "63\n",
            "------------\n",
            "63\n",
            "------------\n",
            "63\n",
            "------------\n",
            "63\n",
            "------------\n",
            "63\n",
            "------------\n",
            "63\n",
            "------------\n",
            "63\n",
            "------------\n",
            "63\n",
            "------------\n",
            "62\n",
            "------------\n",
            "62\n",
            "------------\n",
            "62\n",
            "------------\n",
            "62\n",
            "------------\n",
            "62\n",
            "------------\n",
            "62\n",
            "------------\n",
            "62\n",
            "------------\n",
            "62\n",
            "------------\n",
            "62\n",
            "------------\n",
            "62\n",
            "------------\n",
            "62\n",
            "------------\n",
            "62\n",
            "------------\n",
            "62\n",
            "------------\n",
            "62\n",
            "------------\n",
            "62\n",
            "------------\n",
            "62\n",
            "------------\n",
            "62\n",
            "------------\n",
            "62\n",
            "------------\n",
            "62\n",
            "------------\n",
            "62\n",
            "------------\n",
            "62\n",
            "------------\n",
            "62\n",
            "------------\n",
            "62\n",
            "------------\n",
            "62\n",
            "------------\n",
            "62\n",
            "------------\n",
            "62\n",
            "------------\n",
            "62\n",
            "------------\n",
            "62\n",
            "------------\n",
            "62\n",
            "------------\n",
            "62\n",
            "------------\n",
            "62\n",
            "------------\n",
            "62\n",
            "------------\n",
            "62\n",
            "------------\n",
            "62\n",
            "------------\n",
            "62\n",
            "------------\n",
            "62\n",
            "------------\n",
            "62\n",
            "------------\n",
            "62\n",
            "------------\n",
            "62\n",
            "------------\n",
            "62\n",
            "------------\n",
            "62\n",
            "------------\n",
            "62\n",
            "------------\n",
            "62\n",
            "------------\n",
            "62\n",
            "------------\n",
            "62\n",
            "------------\n",
            "62\n",
            "------------\n",
            "62\n",
            "------------\n",
            "62\n",
            "------------\n",
            "62\n",
            "------------\n",
            "62\n",
            "------------\n",
            "62\n",
            "------------\n",
            "62\n",
            "------------\n",
            "62\n",
            "------------\n",
            "62\n",
            "------------\n",
            "62\n",
            "------------\n",
            "62\n",
            "------------\n",
            "62\n",
            "------------\n",
            "62\n",
            "------------\n",
            "62\n",
            "------------\n",
            "62\n",
            "------------\n",
            "62\n",
            "------------\n",
            "62\n",
            "------------\n",
            "62\n",
            "------------\n",
            "62\n",
            "------------\n",
            "62\n",
            "------------\n",
            "62\n",
            "------------\n",
            "62\n",
            "------------\n",
            "62\n",
            "------------\n",
            "62\n",
            "------------\n",
            "62\n",
            "------------\n",
            "62\n",
            "------------\n",
            "62\n",
            "------------\n",
            "62\n",
            "------------\n",
            "62\n",
            "------------\n",
            "62\n",
            "------------\n",
            "62\n",
            "------------\n",
            "63\n",
            "------------\n",
            "63\n",
            "------------\n",
            "63\n",
            "------------\n",
            "63\n",
            "------------\n",
            "63\n",
            "------------\n",
            "63\n",
            "------------\n",
            "63\n",
            "------------\n",
            "63\n",
            "------------\n",
            "63\n",
            "------------\n",
            "63\n",
            "------------\n",
            "63\n",
            "------------\n",
            "63\n",
            "------------\n",
            "63\n",
            "------------\n",
            "63\n",
            "------------\n",
            "63\n",
            "------------\n",
            "63\n",
            "------------\n",
            "63\n",
            "------------\n",
            "63\n",
            "------------\n",
            "63\n",
            "------------\n",
            "63\n",
            "------------\n",
            "63\n",
            "------------\n",
            "63\n",
            "------------\n",
            "63\n",
            "------------\n",
            "63\n",
            "------------\n",
            "63\n",
            "------------\n",
            "63\n",
            "------------\n",
            "63\n",
            "------------\n",
            "63\n",
            "------------\n",
            "63\n",
            "------------\n",
            "63\n",
            "------------\n",
            "63\n",
            "------------\n",
            "63\n",
            "------------\n",
            "63\n",
            "------------\n",
            "63\n",
            "------------\n",
            "63\n",
            "------------\n",
            "63\n",
            "------------\n",
            "63\n",
            "------------\n",
            "63\n",
            "------------\n",
            "63\n",
            "------------\n",
            "63\n",
            "------------\n",
            "63\n",
            "------------\n",
            "63\n",
            "------------\n",
            "63\n",
            "------------\n",
            "63\n",
            "------------\n",
            "63\n",
            "------------\n",
            "63\n",
            "------------\n",
            "63\n",
            "------------\n",
            "63\n",
            "------------\n",
            "63\n",
            "------------\n",
            "63\n",
            "------------\n",
            "63\n",
            "------------\n",
            "63\n",
            "------------\n",
            "63\n",
            "------------\n",
            "63\n",
            "------------\n",
            "63\n",
            "------------\n",
            "63\n",
            "------------\n",
            "63\n",
            "------------\n",
            "63\n",
            "------------\n",
            "63\n",
            "------------\n",
            "63\n",
            "------------\n",
            "63\n",
            "------------\n",
            "63\n",
            "------------\n",
            "63\n",
            "------------\n",
            "63\n",
            "------------\n",
            "63\n",
            "------------\n",
            "63\n",
            "------------\n",
            "63\n",
            "------------\n",
            "63\n",
            "------------\n",
            "63\n",
            "------------\n",
            "63\n",
            "------------\n",
            "63\n",
            "------------\n",
            "63\n",
            "------------\n",
            "63\n",
            "------------\n",
            "63\n",
            "------------\n",
            "63\n",
            "------------\n",
            "63\n",
            "------------\n",
            "63\n",
            "------------\n",
            "63\n",
            "------------\n",
            "63\n",
            "------------\n",
            "63\n",
            "------------\n",
            "63\n",
            "------------\n",
            "64\n",
            "------------\n",
            "64\n",
            "------------\n",
            "64\n",
            "------------\n",
            "64\n",
            "------------\n",
            "64\n",
            "------------\n",
            "64\n",
            "------------\n",
            "64\n",
            "------------\n",
            "64\n",
            "------------\n",
            "64\n",
            "------------\n",
            "64\n",
            "------------\n",
            "64\n",
            "------------\n",
            "64\n",
            "------------\n",
            "64\n",
            "------------\n",
            "64\n",
            "------------\n",
            "64\n",
            "------------\n",
            "64\n",
            "------------\n",
            "64\n",
            "------------\n",
            "64\n",
            "------------\n",
            "64\n",
            "------------\n",
            "64\n",
            "------------\n",
            "64\n",
            "------------\n",
            "64\n",
            "------------\n",
            "64\n",
            "------------\n",
            "64\n",
            "------------\n",
            "64\n",
            "------------\n",
            "64\n",
            "------------\n",
            "64\n",
            "------------\n",
            "64\n",
            "------------\n",
            "64\n",
            "------------\n",
            "64\n",
            "------------\n",
            "64\n",
            "------------\n",
            "64\n",
            "------------\n",
            "64\n",
            "------------\n",
            "64\n",
            "------------\n",
            "64\n",
            "------------\n",
            "64\n",
            "------------\n",
            "64\n",
            "------------\n",
            "64\n",
            "------------\n",
            "64\n",
            "------------\n",
            "64\n",
            "------------\n",
            "64\n",
            "------------\n",
            "64\n",
            "------------\n",
            "64\n",
            "------------\n",
            "64\n",
            "------------\n",
            "64\n",
            "------------\n",
            "64\n",
            "------------\n",
            "64\n",
            "------------\n",
            "64\n",
            "------------\n",
            "64\n",
            "------------\n",
            "64\n",
            "------------\n",
            "64\n",
            "------------\n",
            "64\n",
            "------------\n",
            "64\n",
            "------------\n",
            "64\n",
            "------------\n",
            "64\n",
            "------------\n",
            "64\n",
            "------------\n",
            "64\n",
            "------------\n",
            "64\n",
            "------------\n",
            "64\n",
            "------------\n",
            "64\n",
            "------------\n",
            "64\n",
            "------------\n",
            "64\n",
            "------------\n",
            "64\n",
            "------------\n",
            "64\n",
            "------------\n",
            "64\n",
            "------------\n",
            "64\n",
            "------------\n",
            "64\n",
            "------------\n",
            "64\n",
            "------------\n",
            "64\n",
            "------------\n",
            "64\n",
            "------------\n",
            "64\n",
            "------------\n",
            "64\n",
            "------------\n",
            "64\n",
            "------------\n",
            "64\n",
            "------------\n",
            "64\n",
            "------------\n",
            "64\n",
            "------------\n",
            "65\n",
            "------------\n",
            "65\n",
            "------------\n",
            "65\n",
            "------------\n",
            "65\n",
            "------------\n",
            "65\n",
            "------------\n",
            "65\n",
            "------------\n",
            "65\n",
            "------------\n",
            "65\n",
            "------------\n",
            "65\n",
            "------------\n",
            "65\n",
            "------------\n",
            "65\n",
            "------------\n",
            "65\n",
            "------------\n",
            "65\n",
            "------------\n",
            "65\n",
            "------------\n",
            "65\n",
            "------------\n",
            "65\n",
            "------------\n",
            "65\n",
            "------------\n",
            "65\n",
            "------------\n",
            "65\n",
            "------------\n",
            "65\n",
            "------------\n",
            "65\n",
            "------------\n",
            "65\n",
            "------------\n",
            "65\n",
            "------------\n",
            "65\n",
            "------------\n",
            "65\n",
            "------------\n",
            "65\n",
            "------------\n",
            "65\n",
            "------------\n",
            "65\n",
            "------------\n",
            "65\n",
            "------------\n",
            "65\n",
            "------------\n",
            "65\n",
            "------------\n",
            "65\n",
            "------------\n",
            "65\n",
            "------------\n",
            "65\n",
            "------------\n",
            "65\n",
            "------------\n",
            "65\n",
            "------------\n",
            "64\n",
            "------------\n",
            "64\n",
            "------------\n",
            "64\n",
            "------------\n",
            "64\n",
            "------------\n",
            "64\n",
            "------------\n",
            "64\n",
            "------------\n",
            "64\n",
            "------------\n",
            "64\n",
            "------------\n",
            "64\n",
            "------------\n",
            "64\n",
            "------------\n",
            "64\n",
            "------------\n",
            "64\n",
            "------------\n",
            "64\n",
            "------------\n",
            "64\n",
            "------------\n",
            "64\n",
            "------------\n",
            "64\n",
            "------------\n",
            "64\n",
            "------------\n",
            "64\n",
            "------------\n",
            "64\n",
            "------------\n",
            "64\n",
            "------------\n",
            "64\n",
            "------------\n",
            "64\n",
            "------------\n",
            "64\n",
            "------------\n",
            "64\n",
            "------------\n",
            "64\n",
            "------------\n",
            "64\n",
            "------------\n",
            "64\n",
            "------------\n",
            "64\n",
            "------------\n",
            "64\n",
            "------------\n",
            "64\n",
            "------------\n",
            "64\n",
            "------------\n",
            "64\n",
            "------------\n",
            "64\n",
            "------------\n",
            "64\n",
            "------------\n",
            "64\n",
            "------------\n",
            "64\n",
            "------------\n",
            "64\n",
            "------------\n",
            "64\n",
            "------------\n",
            "64\n",
            "------------\n",
            "64\n",
            "------------\n",
            "64\n",
            "------------\n",
            "64\n",
            "------------\n",
            "64\n",
            "------------\n",
            "65\n",
            "------------\n",
            "65\n",
            "------------\n",
            "65\n",
            "------------\n",
            "65\n",
            "------------\n",
            "65\n",
            "------------\n",
            "65\n",
            "------------\n",
            "65\n",
            "------------\n",
            "65\n",
            "------------\n",
            "65\n",
            "------------\n",
            "65\n",
            "------------\n",
            "65\n",
            "------------\n",
            "65\n",
            "------------\n",
            "65\n",
            "------------\n",
            "65\n",
            "------------\n",
            "65\n",
            "------------\n",
            "65\n",
            "------------\n",
            "65\n",
            "------------\n",
            "65\n",
            "------------\n",
            "65\n",
            "------------\n",
            "65\n",
            "------------\n",
            "65\n",
            "------------\n",
            "65\n",
            "------------\n",
            "65\n",
            "------------\n",
            "65\n",
            "------------\n",
            "65\n",
            "------------\n",
            "65\n",
            "------------\n",
            "65\n",
            "------------\n",
            "65\n",
            "------------\n",
            "65\n",
            "------------\n",
            "65\n",
            "------------\n",
            "65\n",
            "------------\n",
            "65\n",
            "------------\n",
            "65\n",
            "------------\n",
            "65\n",
            "------------\n",
            "65\n",
            "------------\n",
            "65\n",
            "------------\n",
            "65\n",
            "------------\n",
            "65\n",
            "------------\n",
            "65\n",
            "------------\n",
            "65\n",
            "------------\n",
            "65\n",
            "------------\n",
            "65\n",
            "------------\n",
            "65\n",
            "------------\n",
            "65\n",
            "------------\n",
            "65\n",
            "------------\n",
            "65\n",
            "------------\n",
            "65\n",
            "------------\n",
            "65\n",
            "------------\n",
            "65\n",
            "------------\n",
            "65\n",
            "------------\n",
            "65\n",
            "------------\n",
            "65\n",
            "------------\n",
            "65\n",
            "------------\n",
            "65\n",
            "------------\n",
            "65\n",
            "------------\n",
            "65\n",
            "------------\n",
            "65\n",
            "------------\n",
            "65\n",
            "------------\n",
            "65\n",
            "------------\n",
            "65\n",
            "------------\n",
            "65\n",
            "------------\n",
            "65\n",
            "------------\n",
            "65\n",
            "------------\n",
            "65\n",
            "------------\n",
            "65\n",
            "------------\n",
            "65\n",
            "------------\n",
            "66\n",
            "------------\n",
            "66\n",
            "------------\n",
            "66\n",
            "------------\n",
            "66\n",
            "------------\n",
            "66\n",
            "------------\n",
            "66\n",
            "------------\n",
            "66\n",
            "------------\n",
            "66\n",
            "------------\n",
            "66\n",
            "------------\n",
            "66\n",
            "------------\n",
            "66\n",
            "------------\n",
            "66\n",
            "------------\n",
            "66\n",
            "------------\n",
            "66\n",
            "------------\n",
            "66\n",
            "------------\n",
            "66\n",
            "------------\n",
            "66\n",
            "------------\n",
            "66\n",
            "------------\n",
            "66\n",
            "------------\n",
            "66\n",
            "------------\n",
            "66\n",
            "------------\n",
            "66\n",
            "------------\n",
            "66\n",
            "------------\n",
            "66\n",
            "------------\n",
            "66\n",
            "------------\n",
            "66\n",
            "------------\n",
            "66\n",
            "------------\n",
            "66\n",
            "------------\n",
            "66\n",
            "------------\n",
            "66\n",
            "------------\n",
            "66\n",
            "------------\n",
            "66\n",
            "------------\n",
            "66\n",
            "------------\n",
            "66\n",
            "------------\n",
            "66\n",
            "------------\n",
            "66\n",
            "------------\n",
            "66\n",
            "------------\n",
            "66\n",
            "------------\n",
            "66\n",
            "------------\n",
            "66\n",
            "------------\n",
            "66\n",
            "------------\n",
            "66\n",
            "------------\n",
            "66\n",
            "------------\n",
            "66\n",
            "------------\n",
            "66\n",
            "------------\n",
            "66\n",
            "------------\n",
            "66\n",
            "------------\n",
            "66\n",
            "------------\n",
            "66\n",
            "------------\n",
            "66\n",
            "------------\n",
            "66\n",
            "------------\n",
            "66\n",
            "------------\n",
            "66\n",
            "------------\n",
            "66\n",
            "------------\n",
            "66\n",
            "------------\n",
            "66\n",
            "------------\n",
            "66\n",
            "------------\n",
            "66\n",
            "------------\n",
            "66\n",
            "------------\n",
            "66\n",
            "------------\n",
            "66\n",
            "------------\n",
            "66\n",
            "------------\n",
            "66\n",
            "------------\n",
            "66\n",
            "------------\n",
            "66\n",
            "------------\n",
            "66\n",
            "------------\n",
            "66\n",
            "------------\n",
            "66\n",
            "------------\n",
            "66\n",
            "------------\n",
            "66\n",
            "------------\n",
            "66\n",
            "------------\n",
            "66\n",
            "------------\n",
            "66\n",
            "------------\n",
            "66\n",
            "------------\n",
            "66\n",
            "------------\n",
            "66\n",
            "------------\n",
            "66\n",
            "------------\n",
            "66\n",
            "------------\n",
            "66\n",
            "------------\n",
            "66\n",
            "------------\n",
            "66\n",
            "------------\n",
            "66\n",
            "------------\n",
            "66\n",
            "------------\n",
            "66\n",
            "------------\n",
            "66\n",
            "------------\n",
            "66\n",
            "------------\n",
            "66\n",
            "------------\n",
            "66\n",
            "------------\n",
            "66\n",
            "------------\n",
            "66\n",
            "------------\n",
            "66\n",
            "------------\n",
            "66\n",
            "------------\n",
            "66\n",
            "------------\n",
            "66\n",
            "------------\n",
            "66\n",
            "------------\n",
            "66\n",
            "------------\n",
            "66\n",
            "------------\n",
            "66\n",
            "------------\n",
            "66\n",
            "------------\n",
            "66\n",
            "------------\n",
            "66\n",
            "------------\n",
            "66\n",
            "------------\n",
            "66\n",
            "------------\n",
            "66\n",
            "------------\n",
            "66\n",
            "------------\n",
            "66\n",
            "------------\n",
            "66\n",
            "------------\n",
            "66\n",
            "------------\n",
            "66\n",
            "------------\n",
            "66\n",
            "------------\n",
            "66\n",
            "------------\n",
            "66\n",
            "------------\n",
            "66\n",
            "------------\n",
            "66\n",
            "------------\n",
            "66\n",
            "------------\n",
            "66\n",
            "------------\n",
            "66\n",
            "------------\n",
            "66\n",
            "------------\n",
            "66\n",
            "------------\n",
            "66\n",
            "------------\n",
            "66\n",
            "------------\n",
            "66\n",
            "------------\n",
            "66\n",
            "------------\n",
            "66\n",
            "------------\n",
            "66\n",
            "------------\n",
            "66\n",
            "------------\n",
            "66\n",
            "------------\n",
            "66\n",
            "------------\n",
            "66\n",
            "------------\n",
            "66\n",
            "------------\n",
            "66\n",
            "------------\n",
            "66\n",
            "------------\n",
            "66\n",
            "------------\n",
            "66\n",
            "------------\n",
            "66\n",
            "------------\n",
            "66\n",
            "------------\n",
            "66\n",
            "------------\n",
            "66\n",
            "------------\n",
            "66\n",
            "------------\n",
            "66\n",
            "------------\n",
            "66\n",
            "------------\n",
            "66\n",
            "------------\n",
            "66\n",
            "------------\n",
            "66\n",
            "------------\n",
            "66\n",
            "------------\n",
            "66\n",
            "------------\n",
            "66\n",
            "------------\n",
            "66\n",
            "------------\n",
            "66\n",
            "------------\n",
            "66\n",
            "------------\n",
            "66\n",
            "------------\n",
            "66\n",
            "------------\n",
            "66\n",
            "------------\n",
            "66\n",
            "------------\n",
            "66\n",
            "------------\n",
            "66\n",
            "------------\n",
            "66\n",
            "------------\n",
            "66\n",
            "------------\n",
            "66\n",
            "------------\n",
            "66\n",
            "------------\n",
            "66\n",
            "------------\n",
            "66\n",
            "------------\n",
            "66\n",
            "------------\n",
            "66\n",
            "------------\n",
            "66\n",
            "------------\n",
            "66\n",
            "------------\n",
            "66\n",
            "------------\n",
            "66\n",
            "------------\n",
            "66\n",
            "------------\n",
            "66\n",
            "------------\n",
            "66\n",
            "------------\n",
            "66\n",
            "------------\n",
            "66\n",
            "------------\n",
            "66\n",
            "------------\n",
            "66\n",
            "------------\n",
            "66\n",
            "------------\n",
            "66\n",
            "------------\n",
            "66\n",
            "------------\n",
            "66\n",
            "------------\n",
            "66\n",
            "------------\n",
            "66\n",
            "------------\n",
            "66\n",
            "------------\n",
            "66\n",
            "------------\n",
            "66\n",
            "------------\n",
            "66\n",
            "------------\n",
            "66\n",
            "------------\n",
            "66\n",
            "------------\n",
            "66\n",
            "------------\n",
            "66\n",
            "------------\n",
            "66\n",
            "------------\n",
            "66\n",
            "------------\n",
            "66\n",
            "------------\n",
            "66\n",
            "------------\n",
            "66\n",
            "------------\n",
            "66\n",
            "------------\n",
            "66\n",
            "------------\n",
            "66\n",
            "------------\n",
            "66\n",
            "------------\n",
            "66\n",
            "------------\n",
            "66\n",
            "------------\n",
            "66\n",
            "------------\n",
            "66\n",
            "------------\n",
            "66\n",
            "------------\n",
            "66\n",
            "------------\n",
            "66\n",
            "------------\n",
            "66\n",
            "------------\n",
            "66\n",
            "------------\n",
            "66\n",
            "------------\n",
            "66\n",
            "------------\n",
            "66\n",
            "------------\n",
            "66\n",
            "------------\n",
            "66\n",
            "------------\n",
            "66\n",
            "------------\n",
            "66\n",
            "------------\n",
            "66\n",
            "------------\n",
            "66\n",
            "------------\n",
            "66\n",
            "------------\n",
            "66\n",
            "------------\n",
            "66\n",
            "------------\n",
            "66\n",
            "------------\n",
            "66\n",
            "------------\n",
            "66\n",
            "------------\n",
            "66\n",
            "------------\n",
            "66\n",
            "------------\n",
            "66\n",
            "------------\n",
            "66\n",
            "------------\n",
            "66\n",
            "------------\n",
            "66\n",
            "------------\n",
            "66\n",
            "------------\n",
            "66\n",
            "------------\n",
            "66\n",
            "------------\n",
            "66\n",
            "------------\n",
            "66\n",
            "------------\n",
            "66\n",
            "------------\n",
            "66\n",
            "------------\n",
            "66\n",
            "------------\n",
            "66\n",
            "------------\n",
            "66\n",
            "------------\n",
            "66\n",
            "------------\n",
            "66\n",
            "------------\n",
            "66\n",
            "------------\n",
            "66\n",
            "------------\n",
            "66\n",
            "------------\n",
            "66\n",
            "------------\n",
            "66\n",
            "------------\n",
            "66\n",
            "------------\n",
            "66\n",
            "------------\n",
            "66\n",
            "------------\n",
            "66\n",
            "------------\n",
            "66\n",
            "------------\n",
            "66\n",
            "------------\n",
            "66\n",
            "------------\n",
            "66\n",
            "------------\n",
            "66\n",
            "------------\n",
            "66\n",
            "------------\n",
            "66\n",
            "------------\n",
            "66\n",
            "------------\n",
            "66\n",
            "------------\n",
            "66\n",
            "------------\n",
            "66\n",
            "------------\n",
            "66\n",
            "------------\n",
            "66\n",
            "------------\n",
            "66\n",
            "------------\n",
            "66\n",
            "------------\n",
            "66\n",
            "------------\n",
            "66\n",
            "------------\n",
            "66\n",
            "------------\n",
            "66\n",
            "------------\n",
            "66\n",
            "------------\n",
            "66\n",
            "------------\n",
            "66\n",
            "------------\n",
            "66\n",
            "------------\n",
            "66\n",
            "------------\n",
            "66\n",
            "------------\n",
            "66\n",
            "------------\n",
            "66\n",
            "------------\n",
            "66\n",
            "------------\n",
            "66\n",
            "------------\n",
            "66\n",
            "------------\n",
            "66\n",
            "------------\n",
            "66\n",
            "------------\n"
          ]
        }
      ]
    },
    {
      "cell_type": "code",
      "metadata": {
        "id": "HuvNCoCRq1YQ"
      },
      "source": [
        "this_data = data_covid[['sex','age','province_of_onset']]\n",
        "this_data"
      ],
      "execution_count": null,
      "outputs": []
    },
    {
      "cell_type": "markdown",
      "source": [
        "##การสร้าง Columns เพิ่ม```['ชื่อ columnใหม่'] = list of data #list of data มีจำนวนสามาชิกเท่ากับจำนวนRowของตาราง"
      ],
      "metadata": {
        "id": "Xg9_1mvVM5bd"
      }
    },
    {
      "cell_type": "code",
      "source": [
        "small_df = data1.iloc[-5:,:]\n",
        "small_df"
      ],
      "metadata": {
        "id": "s5-e_hfqOkve",
        "outputId": "d6b1a990-2aad-44a4-a94d-0c30ba111821",
        "colab": {
          "base_uri": "https://localhost:8080/",
          "height": 371
        }
      },
      "execution_count": 33,
      "outputs": [
        {
          "output_type": "execute_result",
          "data": {
            "text/plain": [
              "    Budget_resource  Issue_No  Fiscal_year  Department_code  \\\n",
              "687     งบเพิ่มเติม         1           66         50460000   \n",
              "688     งบเพิ่มเติม         1           66         50460000   \n",
              "689     งบเพิ่มเติม         1           66         50460000   \n",
              "690     งบเพิ่มเติม         1           66         50460000   \n",
              "691     งบเพิ่มเติม         1           66         50500000   \n",
              "\n",
              "               Department Core_budget_code Expenditure_category  \\\n",
              "687  สำนักงานเขตคลองสามวา              NaN              งบลงทุน   \n",
              "688  สำนักงานเขตคลองสามวา              NaN              งบลงทุน   \n",
              "689  สำนักงานเขตคลองสามวา              NaN              งบลงทุน   \n",
              "690  สำนักงานเขตคลองสามวา              NaN              งบลงทุน   \n",
              "691     สำนักงานเขตบางบอน              NaN              งบลงทุน   \n",
              "\n",
              "                                     Item_name  Approved_buget  \n",
              "687                         ขุดลอกคลองผักกะเฉด         3686000  \n",
              "688                    ขุดลอกคลองบึงทรายกองดิน         2575000  \n",
              "689                          ขุดลอกลำรางซาฟารี          689000  \n",
              "690                        ขุดลอกลำรางตาจันทร์          464000  \n",
              "691  ขุดลอกคลองบางบอนต่อจากของเดิมถึงคลองนายผล         7578000  "
            ],
            "text/html": [
              "\n",
              "\n",
              "  <div id=\"df-9400b7eb-7853-423b-9b5a-09344d0b071d\">\n",
              "    <div class=\"colab-df-container\">\n",
              "      <div>\n",
              "<style scoped>\n",
              "    .dataframe tbody tr th:only-of-type {\n",
              "        vertical-align: middle;\n",
              "    }\n",
              "\n",
              "    .dataframe tbody tr th {\n",
              "        vertical-align: top;\n",
              "    }\n",
              "\n",
              "    .dataframe thead th {\n",
              "        text-align: right;\n",
              "    }\n",
              "</style>\n",
              "<table border=\"1\" class=\"dataframe\">\n",
              "  <thead>\n",
              "    <tr style=\"text-align: right;\">\n",
              "      <th></th>\n",
              "      <th>Budget_resource</th>\n",
              "      <th>Issue_No</th>\n",
              "      <th>Fiscal_year</th>\n",
              "      <th>Department_code</th>\n",
              "      <th>Department</th>\n",
              "      <th>Core_budget_code</th>\n",
              "      <th>Expenditure_category</th>\n",
              "      <th>Item_name</th>\n",
              "      <th>Approved_buget</th>\n",
              "    </tr>\n",
              "  </thead>\n",
              "  <tbody>\n",
              "    <tr>\n",
              "      <th>687</th>\n",
              "      <td>งบเพิ่มเติม</td>\n",
              "      <td>1</td>\n",
              "      <td>66</td>\n",
              "      <td>50460000</td>\n",
              "      <td>สำนักงานเขตคลองสามวา</td>\n",
              "      <td>NaN</td>\n",
              "      <td>งบลงทุน</td>\n",
              "      <td>ขุดลอกคลองผักกะเฉด</td>\n",
              "      <td>3686000</td>\n",
              "    </tr>\n",
              "    <tr>\n",
              "      <th>688</th>\n",
              "      <td>งบเพิ่มเติม</td>\n",
              "      <td>1</td>\n",
              "      <td>66</td>\n",
              "      <td>50460000</td>\n",
              "      <td>สำนักงานเขตคลองสามวา</td>\n",
              "      <td>NaN</td>\n",
              "      <td>งบลงทุน</td>\n",
              "      <td>ขุดลอกคลองบึงทรายกองดิน</td>\n",
              "      <td>2575000</td>\n",
              "    </tr>\n",
              "    <tr>\n",
              "      <th>689</th>\n",
              "      <td>งบเพิ่มเติม</td>\n",
              "      <td>1</td>\n",
              "      <td>66</td>\n",
              "      <td>50460000</td>\n",
              "      <td>สำนักงานเขตคลองสามวา</td>\n",
              "      <td>NaN</td>\n",
              "      <td>งบลงทุน</td>\n",
              "      <td>ขุดลอกลำรางซาฟารี</td>\n",
              "      <td>689000</td>\n",
              "    </tr>\n",
              "    <tr>\n",
              "      <th>690</th>\n",
              "      <td>งบเพิ่มเติม</td>\n",
              "      <td>1</td>\n",
              "      <td>66</td>\n",
              "      <td>50460000</td>\n",
              "      <td>สำนักงานเขตคลองสามวา</td>\n",
              "      <td>NaN</td>\n",
              "      <td>งบลงทุน</td>\n",
              "      <td>ขุดลอกลำรางตาจันทร์</td>\n",
              "      <td>464000</td>\n",
              "    </tr>\n",
              "    <tr>\n",
              "      <th>691</th>\n",
              "      <td>งบเพิ่มเติม</td>\n",
              "      <td>1</td>\n",
              "      <td>66</td>\n",
              "      <td>50500000</td>\n",
              "      <td>สำนักงานเขตบางบอน</td>\n",
              "      <td>NaN</td>\n",
              "      <td>งบลงทุน</td>\n",
              "      <td>ขุดลอกคลองบางบอนต่อจากของเดิมถึงคลองนายผล</td>\n",
              "      <td>7578000</td>\n",
              "    </tr>\n",
              "  </tbody>\n",
              "</table>\n",
              "</div>\n",
              "      <button class=\"colab-df-convert\" onclick=\"convertToInteractive('df-9400b7eb-7853-423b-9b5a-09344d0b071d')\"\n",
              "              title=\"Convert this dataframe to an interactive table.\"\n",
              "              style=\"display:none;\">\n",
              "\n",
              "  <svg xmlns=\"http://www.w3.org/2000/svg\" height=\"24px\"viewBox=\"0 0 24 24\"\n",
              "       width=\"24px\">\n",
              "    <path d=\"M0 0h24v24H0V0z\" fill=\"none\"/>\n",
              "    <path d=\"M18.56 5.44l.94 2.06.94-2.06 2.06-.94-2.06-.94-.94-2.06-.94 2.06-2.06.94zm-11 1L8.5 8.5l.94-2.06 2.06-.94-2.06-.94L8.5 2.5l-.94 2.06-2.06.94zm10 10l.94 2.06.94-2.06 2.06-.94-2.06-.94-.94-2.06-.94 2.06-2.06.94z\"/><path d=\"M17.41 7.96l-1.37-1.37c-.4-.4-.92-.59-1.43-.59-.52 0-1.04.2-1.43.59L10.3 9.45l-7.72 7.72c-.78.78-.78 2.05 0 2.83L4 21.41c.39.39.9.59 1.41.59.51 0 1.02-.2 1.41-.59l7.78-7.78 2.81-2.81c.8-.78.8-2.07 0-2.86zM5.41 20L4 18.59l7.72-7.72 1.47 1.35L5.41 20z\"/>\n",
              "  </svg>\n",
              "      </button>\n",
              "\n",
              "\n",
              "\n",
              "    <div id=\"df-f13ee54f-2914-47ce-a8f8-c708ae87f7f2\">\n",
              "      <button class=\"colab-df-quickchart\" onclick=\"quickchart('df-f13ee54f-2914-47ce-a8f8-c708ae87f7f2')\"\n",
              "              title=\"Suggest charts.\"\n",
              "              style=\"display:none;\">\n",
              "\n",
              "<svg xmlns=\"http://www.w3.org/2000/svg\" height=\"24px\"viewBox=\"0 0 24 24\"\n",
              "     width=\"24px\">\n",
              "    <g>\n",
              "        <path d=\"M19 3H5c-1.1 0-2 .9-2 2v14c0 1.1.9 2 2 2h14c1.1 0 2-.9 2-2V5c0-1.1-.9-2-2-2zM9 17H7v-7h2v7zm4 0h-2V7h2v10zm4 0h-2v-4h2v4z\"/>\n",
              "    </g>\n",
              "</svg>\n",
              "      </button>\n",
              "    </div>\n",
              "\n",
              "<style>\n",
              "  .colab-df-quickchart {\n",
              "    background-color: #E8F0FE;\n",
              "    border: none;\n",
              "    border-radius: 50%;\n",
              "    cursor: pointer;\n",
              "    display: none;\n",
              "    fill: #1967D2;\n",
              "    height: 32px;\n",
              "    padding: 0 0 0 0;\n",
              "    width: 32px;\n",
              "  }\n",
              "\n",
              "  .colab-df-quickchart:hover {\n",
              "    background-color: #E2EBFA;\n",
              "    box-shadow: 0px 1px 2px rgba(60, 64, 67, 0.3), 0px 1px 3px 1px rgba(60, 64, 67, 0.15);\n",
              "    fill: #174EA6;\n",
              "  }\n",
              "\n",
              "  [theme=dark] .colab-df-quickchart {\n",
              "    background-color: #3B4455;\n",
              "    fill: #D2E3FC;\n",
              "  }\n",
              "\n",
              "  [theme=dark] .colab-df-quickchart:hover {\n",
              "    background-color: #434B5C;\n",
              "    box-shadow: 0px 1px 3px 1px rgba(0, 0, 0, 0.15);\n",
              "    filter: drop-shadow(0px 1px 2px rgba(0, 0, 0, 0.3));\n",
              "    fill: #FFFFFF;\n",
              "  }\n",
              "</style>\n",
              "\n",
              "    <script>\n",
              "      async function quickchart(key) {\n",
              "        const containerElement = document.querySelector('#' + key);\n",
              "        const charts = await google.colab.kernel.invokeFunction(\n",
              "            'suggestCharts', [key], {});\n",
              "      }\n",
              "    </script>\n",
              "\n",
              "      <script>\n",
              "\n",
              "function displayQuickchartButton(domScope) {\n",
              "  let quickchartButtonEl =\n",
              "    domScope.querySelector('#df-f13ee54f-2914-47ce-a8f8-c708ae87f7f2 button.colab-df-quickchart');\n",
              "  quickchartButtonEl.style.display =\n",
              "    google.colab.kernel.accessAllowed ? 'block' : 'none';\n",
              "}\n",
              "\n",
              "        displayQuickchartButton(document);\n",
              "      </script>\n",
              "      <style>\n",
              "    .colab-df-container {\n",
              "      display:flex;\n",
              "      flex-wrap:wrap;\n",
              "      gap: 12px;\n",
              "    }\n",
              "\n",
              "    .colab-df-convert {\n",
              "      background-color: #E8F0FE;\n",
              "      border: none;\n",
              "      border-radius: 50%;\n",
              "      cursor: pointer;\n",
              "      display: none;\n",
              "      fill: #1967D2;\n",
              "      height: 32px;\n",
              "      padding: 0 0 0 0;\n",
              "      width: 32px;\n",
              "    }\n",
              "\n",
              "    .colab-df-convert:hover {\n",
              "      background-color: #E2EBFA;\n",
              "      box-shadow: 0px 1px 2px rgba(60, 64, 67, 0.3), 0px 1px 3px 1px rgba(60, 64, 67, 0.15);\n",
              "      fill: #174EA6;\n",
              "    }\n",
              "\n",
              "    [theme=dark] .colab-df-convert {\n",
              "      background-color: #3B4455;\n",
              "      fill: #D2E3FC;\n",
              "    }\n",
              "\n",
              "    [theme=dark] .colab-df-convert:hover {\n",
              "      background-color: #434B5C;\n",
              "      box-shadow: 0px 1px 3px 1px rgba(0, 0, 0, 0.15);\n",
              "      filter: drop-shadow(0px 1px 2px rgba(0, 0, 0, 0.3));\n",
              "      fill: #FFFFFF;\n",
              "    }\n",
              "  </style>\n",
              "\n",
              "      <script>\n",
              "        const buttonEl =\n",
              "          document.querySelector('#df-9400b7eb-7853-423b-9b5a-09344d0b071d button.colab-df-convert');\n",
              "        buttonEl.style.display =\n",
              "          google.colab.kernel.accessAllowed ? 'block' : 'none';\n",
              "\n",
              "        async function convertToInteractive(key) {\n",
              "          const element = document.querySelector('#df-9400b7eb-7853-423b-9b5a-09344d0b071d');\n",
              "          const dataTable =\n",
              "            await google.colab.kernel.invokeFunction('convertToInteractive',\n",
              "                                                     [key], {});\n",
              "          if (!dataTable) return;\n",
              "\n",
              "          const docLinkHtml = 'Like what you see? Visit the ' +\n",
              "            '<a target=\"_blank\" href=https://colab.research.google.com/notebooks/data_table.ipynb>data table notebook</a>'\n",
              "            + ' to learn more about interactive tables.';\n",
              "          element.innerHTML = '';\n",
              "          dataTable['output_type'] = 'display_data';\n",
              "          await google.colab.output.renderOutput(dataTable, element);\n",
              "          const docLink = document.createElement('div');\n",
              "          docLink.innerHTML = docLinkHtml;\n",
              "          element.appendChild(docLink);\n",
              "        }\n",
              "      </script>\n",
              "    </div>\n",
              "  </div>\n"
            ]
          },
          "metadata": {},
          "execution_count": 33
        }
      ]
    },
    {
      "cell_type": "code",
      "source": [
        "small_df['ผู้รับผิดชอบ'] = ['บักตู่','อีป้อม','ผู้ว่าชัชชาติ','คุณพิธา','คุณไอติม']\n",
        "small_df"
      ],
      "metadata": {
        "id": "ypBaT-UINsJt",
        "outputId": "e75add13-f412-49bc-c05b-6e703075a64f",
        "colab": {
          "base_uri": "https://localhost:8080/",
          "height": 634
        }
      },
      "execution_count": 35,
      "outputs": [
        {
          "output_type": "stream",
          "name": "stderr",
          "text": [
            "<ipython-input-35-c49edc911f26>:1: SettingWithCopyWarning: \n",
            "A value is trying to be set on a copy of a slice from a DataFrame.\n",
            "Try using .loc[row_indexer,col_indexer] = value instead\n",
            "\n",
            "See the caveats in the documentation: https://pandas.pydata.org/pandas-docs/stable/user_guide/indexing.html#returning-a-view-versus-a-copy\n",
            "  small_df['ผู้รับผิดชอบ'] = ['บักตู่','อีป้อม','ผู้ว่าชัชชาติ','คุณพิธา','คุณไอติม']\n"
          ]
        },
        {
          "output_type": "execute_result",
          "data": {
            "text/plain": [
              "    Budget_resource  Issue_No  Fiscal_year  Department_code  \\\n",
              "687     งบเพิ่มเติม         1           66         50460000   \n",
              "688     งบเพิ่มเติม         1           66         50460000   \n",
              "689     งบเพิ่มเติม         1           66         50460000   \n",
              "690     งบเพิ่มเติม         1           66         50460000   \n",
              "691     งบเพิ่มเติม         1           66         50500000   \n",
              "\n",
              "               Department Core_budget_code Expenditure_category  \\\n",
              "687  สำนักงานเขตคลองสามวา              NaN              งบลงทุน   \n",
              "688  สำนักงานเขตคลองสามวา              NaN              งบลงทุน   \n",
              "689  สำนักงานเขตคลองสามวา              NaN              งบลงทุน   \n",
              "690  สำนักงานเขตคลองสามวา              NaN              งบลงทุน   \n",
              "691     สำนักงานเขตบางบอน              NaN              งบลงทุน   \n",
              "\n",
              "                                     Item_name  Approved_buget   ผู้รับผิดชอบ  \n",
              "687                         ขุดลอกคลองผักกะเฉด         3686000         บักตู่  \n",
              "688                    ขุดลอกคลองบึงทรายกองดิน         2575000         อีป้อม  \n",
              "689                          ขุดลอกลำรางซาฟารี          689000  ผู้ว่าชัชชาติ  \n",
              "690                        ขุดลอกลำรางตาจันทร์          464000        คุณพิธา  \n",
              "691  ขุดลอกคลองบางบอนต่อจากของเดิมถึงคลองนายผล         7578000       คุณไอติม  "
            ],
            "text/html": [
              "\n",
              "\n",
              "  <div id=\"df-5c098835-131e-45ca-8a40-811164301640\">\n",
              "    <div class=\"colab-df-container\">\n",
              "      <div>\n",
              "<style scoped>\n",
              "    .dataframe tbody tr th:only-of-type {\n",
              "        vertical-align: middle;\n",
              "    }\n",
              "\n",
              "    .dataframe tbody tr th {\n",
              "        vertical-align: top;\n",
              "    }\n",
              "\n",
              "    .dataframe thead th {\n",
              "        text-align: right;\n",
              "    }\n",
              "</style>\n",
              "<table border=\"1\" class=\"dataframe\">\n",
              "  <thead>\n",
              "    <tr style=\"text-align: right;\">\n",
              "      <th></th>\n",
              "      <th>Budget_resource</th>\n",
              "      <th>Issue_No</th>\n",
              "      <th>Fiscal_year</th>\n",
              "      <th>Department_code</th>\n",
              "      <th>Department</th>\n",
              "      <th>Core_budget_code</th>\n",
              "      <th>Expenditure_category</th>\n",
              "      <th>Item_name</th>\n",
              "      <th>Approved_buget</th>\n",
              "      <th>ผู้รับผิดชอบ</th>\n",
              "    </tr>\n",
              "  </thead>\n",
              "  <tbody>\n",
              "    <tr>\n",
              "      <th>687</th>\n",
              "      <td>งบเพิ่มเติม</td>\n",
              "      <td>1</td>\n",
              "      <td>66</td>\n",
              "      <td>50460000</td>\n",
              "      <td>สำนักงานเขตคลองสามวา</td>\n",
              "      <td>NaN</td>\n",
              "      <td>งบลงทุน</td>\n",
              "      <td>ขุดลอกคลองผักกะเฉด</td>\n",
              "      <td>3686000</td>\n",
              "      <td>บักตู่</td>\n",
              "    </tr>\n",
              "    <tr>\n",
              "      <th>688</th>\n",
              "      <td>งบเพิ่มเติม</td>\n",
              "      <td>1</td>\n",
              "      <td>66</td>\n",
              "      <td>50460000</td>\n",
              "      <td>สำนักงานเขตคลองสามวา</td>\n",
              "      <td>NaN</td>\n",
              "      <td>งบลงทุน</td>\n",
              "      <td>ขุดลอกคลองบึงทรายกองดิน</td>\n",
              "      <td>2575000</td>\n",
              "      <td>อีป้อม</td>\n",
              "    </tr>\n",
              "    <tr>\n",
              "      <th>689</th>\n",
              "      <td>งบเพิ่มเติม</td>\n",
              "      <td>1</td>\n",
              "      <td>66</td>\n",
              "      <td>50460000</td>\n",
              "      <td>สำนักงานเขตคลองสามวา</td>\n",
              "      <td>NaN</td>\n",
              "      <td>งบลงทุน</td>\n",
              "      <td>ขุดลอกลำรางซาฟารี</td>\n",
              "      <td>689000</td>\n",
              "      <td>ผู้ว่าชัชชาติ</td>\n",
              "    </tr>\n",
              "    <tr>\n",
              "      <th>690</th>\n",
              "      <td>งบเพิ่มเติม</td>\n",
              "      <td>1</td>\n",
              "      <td>66</td>\n",
              "      <td>50460000</td>\n",
              "      <td>สำนักงานเขตคลองสามวา</td>\n",
              "      <td>NaN</td>\n",
              "      <td>งบลงทุน</td>\n",
              "      <td>ขุดลอกลำรางตาจันทร์</td>\n",
              "      <td>464000</td>\n",
              "      <td>คุณพิธา</td>\n",
              "    </tr>\n",
              "    <tr>\n",
              "      <th>691</th>\n",
              "      <td>งบเพิ่มเติม</td>\n",
              "      <td>1</td>\n",
              "      <td>66</td>\n",
              "      <td>50500000</td>\n",
              "      <td>สำนักงานเขตบางบอน</td>\n",
              "      <td>NaN</td>\n",
              "      <td>งบลงทุน</td>\n",
              "      <td>ขุดลอกคลองบางบอนต่อจากของเดิมถึงคลองนายผล</td>\n",
              "      <td>7578000</td>\n",
              "      <td>คุณไอติม</td>\n",
              "    </tr>\n",
              "  </tbody>\n",
              "</table>\n",
              "</div>\n",
              "      <button class=\"colab-df-convert\" onclick=\"convertToInteractive('df-5c098835-131e-45ca-8a40-811164301640')\"\n",
              "              title=\"Convert this dataframe to an interactive table.\"\n",
              "              style=\"display:none;\">\n",
              "\n",
              "  <svg xmlns=\"http://www.w3.org/2000/svg\" height=\"24px\"viewBox=\"0 0 24 24\"\n",
              "       width=\"24px\">\n",
              "    <path d=\"M0 0h24v24H0V0z\" fill=\"none\"/>\n",
              "    <path d=\"M18.56 5.44l.94 2.06.94-2.06 2.06-.94-2.06-.94-.94-2.06-.94 2.06-2.06.94zm-11 1L8.5 8.5l.94-2.06 2.06-.94-2.06-.94L8.5 2.5l-.94 2.06-2.06.94zm10 10l.94 2.06.94-2.06 2.06-.94-2.06-.94-.94-2.06-.94 2.06-2.06.94z\"/><path d=\"M17.41 7.96l-1.37-1.37c-.4-.4-.92-.59-1.43-.59-.52 0-1.04.2-1.43.59L10.3 9.45l-7.72 7.72c-.78.78-.78 2.05 0 2.83L4 21.41c.39.39.9.59 1.41.59.51 0 1.02-.2 1.41-.59l7.78-7.78 2.81-2.81c.8-.78.8-2.07 0-2.86zM5.41 20L4 18.59l7.72-7.72 1.47 1.35L5.41 20z\"/>\n",
              "  </svg>\n",
              "      </button>\n",
              "\n",
              "\n",
              "\n",
              "    <div id=\"df-506c02cf-fa22-4f20-a798-ca3409d367d4\">\n",
              "      <button class=\"colab-df-quickchart\" onclick=\"quickchart('df-506c02cf-fa22-4f20-a798-ca3409d367d4')\"\n",
              "              title=\"Suggest charts.\"\n",
              "              style=\"display:none;\">\n",
              "\n",
              "<svg xmlns=\"http://www.w3.org/2000/svg\" height=\"24px\"viewBox=\"0 0 24 24\"\n",
              "     width=\"24px\">\n",
              "    <g>\n",
              "        <path d=\"M19 3H5c-1.1 0-2 .9-2 2v14c0 1.1.9 2 2 2h14c1.1 0 2-.9 2-2V5c0-1.1-.9-2-2-2zM9 17H7v-7h2v7zm4 0h-2V7h2v10zm4 0h-2v-4h2v4z\"/>\n",
              "    </g>\n",
              "</svg>\n",
              "      </button>\n",
              "    </div>\n",
              "\n",
              "<style>\n",
              "  .colab-df-quickchart {\n",
              "    background-color: #E8F0FE;\n",
              "    border: none;\n",
              "    border-radius: 50%;\n",
              "    cursor: pointer;\n",
              "    display: none;\n",
              "    fill: #1967D2;\n",
              "    height: 32px;\n",
              "    padding: 0 0 0 0;\n",
              "    width: 32px;\n",
              "  }\n",
              "\n",
              "  .colab-df-quickchart:hover {\n",
              "    background-color: #E2EBFA;\n",
              "    box-shadow: 0px 1px 2px rgba(60, 64, 67, 0.3), 0px 1px 3px 1px rgba(60, 64, 67, 0.15);\n",
              "    fill: #174EA6;\n",
              "  }\n",
              "\n",
              "  [theme=dark] .colab-df-quickchart {\n",
              "    background-color: #3B4455;\n",
              "    fill: #D2E3FC;\n",
              "  }\n",
              "\n",
              "  [theme=dark] .colab-df-quickchart:hover {\n",
              "    background-color: #434B5C;\n",
              "    box-shadow: 0px 1px 3px 1px rgba(0, 0, 0, 0.15);\n",
              "    filter: drop-shadow(0px 1px 2px rgba(0, 0, 0, 0.3));\n",
              "    fill: #FFFFFF;\n",
              "  }\n",
              "</style>\n",
              "\n",
              "    <script>\n",
              "      async function quickchart(key) {\n",
              "        const containerElement = document.querySelector('#' + key);\n",
              "        const charts = await google.colab.kernel.invokeFunction(\n",
              "            'suggestCharts', [key], {});\n",
              "      }\n",
              "    </script>\n",
              "\n",
              "      <script>\n",
              "\n",
              "function displayQuickchartButton(domScope) {\n",
              "  let quickchartButtonEl =\n",
              "    domScope.querySelector('#df-506c02cf-fa22-4f20-a798-ca3409d367d4 button.colab-df-quickchart');\n",
              "  quickchartButtonEl.style.display =\n",
              "    google.colab.kernel.accessAllowed ? 'block' : 'none';\n",
              "}\n",
              "\n",
              "        displayQuickchartButton(document);\n",
              "      </script>\n",
              "      <style>\n",
              "    .colab-df-container {\n",
              "      display:flex;\n",
              "      flex-wrap:wrap;\n",
              "      gap: 12px;\n",
              "    }\n",
              "\n",
              "    .colab-df-convert {\n",
              "      background-color: #E8F0FE;\n",
              "      border: none;\n",
              "      border-radius: 50%;\n",
              "      cursor: pointer;\n",
              "      display: none;\n",
              "      fill: #1967D2;\n",
              "      height: 32px;\n",
              "      padding: 0 0 0 0;\n",
              "      width: 32px;\n",
              "    }\n",
              "\n",
              "    .colab-df-convert:hover {\n",
              "      background-color: #E2EBFA;\n",
              "      box-shadow: 0px 1px 2px rgba(60, 64, 67, 0.3), 0px 1px 3px 1px rgba(60, 64, 67, 0.15);\n",
              "      fill: #174EA6;\n",
              "    }\n",
              "\n",
              "    [theme=dark] .colab-df-convert {\n",
              "      background-color: #3B4455;\n",
              "      fill: #D2E3FC;\n",
              "    }\n",
              "\n",
              "    [theme=dark] .colab-df-convert:hover {\n",
              "      background-color: #434B5C;\n",
              "      box-shadow: 0px 1px 3px 1px rgba(0, 0, 0, 0.15);\n",
              "      filter: drop-shadow(0px 1px 2px rgba(0, 0, 0, 0.3));\n",
              "      fill: #FFFFFF;\n",
              "    }\n",
              "  </style>\n",
              "\n",
              "      <script>\n",
              "        const buttonEl =\n",
              "          document.querySelector('#df-5c098835-131e-45ca-8a40-811164301640 button.colab-df-convert');\n",
              "        buttonEl.style.display =\n",
              "          google.colab.kernel.accessAllowed ? 'block' : 'none';\n",
              "\n",
              "        async function convertToInteractive(key) {\n",
              "          const element = document.querySelector('#df-5c098835-131e-45ca-8a40-811164301640');\n",
              "          const dataTable =\n",
              "            await google.colab.kernel.invokeFunction('convertToInteractive',\n",
              "                                                     [key], {});\n",
              "          if (!dataTable) return;\n",
              "\n",
              "          const docLinkHtml = 'Like what you see? Visit the ' +\n",
              "            '<a target=\"_blank\" href=https://colab.research.google.com/notebooks/data_table.ipynb>data table notebook</a>'\n",
              "            + ' to learn more about interactive tables.';\n",
              "          element.innerHTML = '';\n",
              "          dataTable['output_type'] = 'display_data';\n",
              "          await google.colab.output.renderOutput(dataTable, element);\n",
              "          const docLink = document.createElement('div');\n",
              "          docLink.innerHTML = docLinkHtml;\n",
              "          element.appendChild(docLink);\n",
              "        }\n",
              "      </script>\n",
              "    </div>\n",
              "  </div>\n"
            ]
          },
          "metadata": {},
          "execution_count": 35
        }
      ]
    },
    {
      "cell_type": "code",
      "metadata": {
        "id": "WekNYPgMtwxX"
      },
      "source": [
        "for each_row in this_data.iterrows():\n",
        "    # print(each_row)\n",
        "    # print(each_row[1])\n",
        "    # print(each_row[1]['sex'])\n",
        "    if (each_row[1]['age'] <= 20) and (each_row[1]['province_of_onset'] == 'ขอนแก่น'):\n",
        "        print(each_row)"
      ],
      "execution_count": null,
      "outputs": []
    },
    {
      "cell_type": "markdown",
      "source": [
        "##การลบCOLUMNS"
      ],
      "metadata": {
        "id": "U0qJt2TyPavs"
      }
    },
    {
      "cell_type": "code",
      "source": [
        "small_df.drop(axis=1,columns=['Core_budget_code']) ##AXISคือเเกน"
      ],
      "metadata": {
        "id": "MTO8_SaTPEpI",
        "outputId": "341ae7e4-b9d9-47fd-d37f-21c6cb3b7b8b",
        "colab": {
          "base_uri": "https://localhost:8080/",
          "height": 354
        }
      },
      "execution_count": 36,
      "outputs": [
        {
          "output_type": "execute_result",
          "data": {
            "text/plain": [
              "    Budget_resource  Issue_No  Fiscal_year  Department_code  \\\n",
              "687     งบเพิ่มเติม         1           66         50460000   \n",
              "688     งบเพิ่มเติม         1           66         50460000   \n",
              "689     งบเพิ่มเติม         1           66         50460000   \n",
              "690     งบเพิ่มเติม         1           66         50460000   \n",
              "691     งบเพิ่มเติม         1           66         50500000   \n",
              "\n",
              "               Department Expenditure_category  \\\n",
              "687  สำนักงานเขตคลองสามวา              งบลงทุน   \n",
              "688  สำนักงานเขตคลองสามวา              งบลงทุน   \n",
              "689  สำนักงานเขตคลองสามวา              งบลงทุน   \n",
              "690  สำนักงานเขตคลองสามวา              งบลงทุน   \n",
              "691     สำนักงานเขตบางบอน              งบลงทุน   \n",
              "\n",
              "                                     Item_name  Approved_buget   ผู้รับผิดชอบ  \n",
              "687                         ขุดลอกคลองผักกะเฉด         3686000         บักตู่  \n",
              "688                    ขุดลอกคลองบึงทรายกองดิน         2575000         อีป้อม  \n",
              "689                          ขุดลอกลำรางซาฟารี          689000  ผู้ว่าชัชชาติ  \n",
              "690                        ขุดลอกลำรางตาจันทร์          464000        คุณพิธา  \n",
              "691  ขุดลอกคลองบางบอนต่อจากของเดิมถึงคลองนายผล         7578000       คุณไอติม  "
            ],
            "text/html": [
              "\n",
              "\n",
              "  <div id=\"df-f8bd8afc-088a-4394-b519-f2517788e06e\">\n",
              "    <div class=\"colab-df-container\">\n",
              "      <div>\n",
              "<style scoped>\n",
              "    .dataframe tbody tr th:only-of-type {\n",
              "        vertical-align: middle;\n",
              "    }\n",
              "\n",
              "    .dataframe tbody tr th {\n",
              "        vertical-align: top;\n",
              "    }\n",
              "\n",
              "    .dataframe thead th {\n",
              "        text-align: right;\n",
              "    }\n",
              "</style>\n",
              "<table border=\"1\" class=\"dataframe\">\n",
              "  <thead>\n",
              "    <tr style=\"text-align: right;\">\n",
              "      <th></th>\n",
              "      <th>Budget_resource</th>\n",
              "      <th>Issue_No</th>\n",
              "      <th>Fiscal_year</th>\n",
              "      <th>Department_code</th>\n",
              "      <th>Department</th>\n",
              "      <th>Expenditure_category</th>\n",
              "      <th>Item_name</th>\n",
              "      <th>Approved_buget</th>\n",
              "      <th>ผู้รับผิดชอบ</th>\n",
              "    </tr>\n",
              "  </thead>\n",
              "  <tbody>\n",
              "    <tr>\n",
              "      <th>687</th>\n",
              "      <td>งบเพิ่มเติม</td>\n",
              "      <td>1</td>\n",
              "      <td>66</td>\n",
              "      <td>50460000</td>\n",
              "      <td>สำนักงานเขตคลองสามวา</td>\n",
              "      <td>งบลงทุน</td>\n",
              "      <td>ขุดลอกคลองผักกะเฉด</td>\n",
              "      <td>3686000</td>\n",
              "      <td>บักตู่</td>\n",
              "    </tr>\n",
              "    <tr>\n",
              "      <th>688</th>\n",
              "      <td>งบเพิ่มเติม</td>\n",
              "      <td>1</td>\n",
              "      <td>66</td>\n",
              "      <td>50460000</td>\n",
              "      <td>สำนักงานเขตคลองสามวา</td>\n",
              "      <td>งบลงทุน</td>\n",
              "      <td>ขุดลอกคลองบึงทรายกองดิน</td>\n",
              "      <td>2575000</td>\n",
              "      <td>อีป้อม</td>\n",
              "    </tr>\n",
              "    <tr>\n",
              "      <th>689</th>\n",
              "      <td>งบเพิ่มเติม</td>\n",
              "      <td>1</td>\n",
              "      <td>66</td>\n",
              "      <td>50460000</td>\n",
              "      <td>สำนักงานเขตคลองสามวา</td>\n",
              "      <td>งบลงทุน</td>\n",
              "      <td>ขุดลอกลำรางซาฟารี</td>\n",
              "      <td>689000</td>\n",
              "      <td>ผู้ว่าชัชชาติ</td>\n",
              "    </tr>\n",
              "    <tr>\n",
              "      <th>690</th>\n",
              "      <td>งบเพิ่มเติม</td>\n",
              "      <td>1</td>\n",
              "      <td>66</td>\n",
              "      <td>50460000</td>\n",
              "      <td>สำนักงานเขตคลองสามวา</td>\n",
              "      <td>งบลงทุน</td>\n",
              "      <td>ขุดลอกลำรางตาจันทร์</td>\n",
              "      <td>464000</td>\n",
              "      <td>คุณพิธา</td>\n",
              "    </tr>\n",
              "    <tr>\n",
              "      <th>691</th>\n",
              "      <td>งบเพิ่มเติม</td>\n",
              "      <td>1</td>\n",
              "      <td>66</td>\n",
              "      <td>50500000</td>\n",
              "      <td>สำนักงานเขตบางบอน</td>\n",
              "      <td>งบลงทุน</td>\n",
              "      <td>ขุดลอกคลองบางบอนต่อจากของเดิมถึงคลองนายผล</td>\n",
              "      <td>7578000</td>\n",
              "      <td>คุณไอติม</td>\n",
              "    </tr>\n",
              "  </tbody>\n",
              "</table>\n",
              "</div>\n",
              "      <button class=\"colab-df-convert\" onclick=\"convertToInteractive('df-f8bd8afc-088a-4394-b519-f2517788e06e')\"\n",
              "              title=\"Convert this dataframe to an interactive table.\"\n",
              "              style=\"display:none;\">\n",
              "\n",
              "  <svg xmlns=\"http://www.w3.org/2000/svg\" height=\"24px\"viewBox=\"0 0 24 24\"\n",
              "       width=\"24px\">\n",
              "    <path d=\"M0 0h24v24H0V0z\" fill=\"none\"/>\n",
              "    <path d=\"M18.56 5.44l.94 2.06.94-2.06 2.06-.94-2.06-.94-.94-2.06-.94 2.06-2.06.94zm-11 1L8.5 8.5l.94-2.06 2.06-.94-2.06-.94L8.5 2.5l-.94 2.06-2.06.94zm10 10l.94 2.06.94-2.06 2.06-.94-2.06-.94-.94-2.06-.94 2.06-2.06.94z\"/><path d=\"M17.41 7.96l-1.37-1.37c-.4-.4-.92-.59-1.43-.59-.52 0-1.04.2-1.43.59L10.3 9.45l-7.72 7.72c-.78.78-.78 2.05 0 2.83L4 21.41c.39.39.9.59 1.41.59.51 0 1.02-.2 1.41-.59l7.78-7.78 2.81-2.81c.8-.78.8-2.07 0-2.86zM5.41 20L4 18.59l7.72-7.72 1.47 1.35L5.41 20z\"/>\n",
              "  </svg>\n",
              "      </button>\n",
              "\n",
              "\n",
              "\n",
              "    <div id=\"df-278e3bbe-9b34-404e-8bf0-aeeffd6fc10d\">\n",
              "      <button class=\"colab-df-quickchart\" onclick=\"quickchart('df-278e3bbe-9b34-404e-8bf0-aeeffd6fc10d')\"\n",
              "              title=\"Suggest charts.\"\n",
              "              style=\"display:none;\">\n",
              "\n",
              "<svg xmlns=\"http://www.w3.org/2000/svg\" height=\"24px\"viewBox=\"0 0 24 24\"\n",
              "     width=\"24px\">\n",
              "    <g>\n",
              "        <path d=\"M19 3H5c-1.1 0-2 .9-2 2v14c0 1.1.9 2 2 2h14c1.1 0 2-.9 2-2V5c0-1.1-.9-2-2-2zM9 17H7v-7h2v7zm4 0h-2V7h2v10zm4 0h-2v-4h2v4z\"/>\n",
              "    </g>\n",
              "</svg>\n",
              "      </button>\n",
              "    </div>\n",
              "\n",
              "<style>\n",
              "  .colab-df-quickchart {\n",
              "    background-color: #E8F0FE;\n",
              "    border: none;\n",
              "    border-radius: 50%;\n",
              "    cursor: pointer;\n",
              "    display: none;\n",
              "    fill: #1967D2;\n",
              "    height: 32px;\n",
              "    padding: 0 0 0 0;\n",
              "    width: 32px;\n",
              "  }\n",
              "\n",
              "  .colab-df-quickchart:hover {\n",
              "    background-color: #E2EBFA;\n",
              "    box-shadow: 0px 1px 2px rgba(60, 64, 67, 0.3), 0px 1px 3px 1px rgba(60, 64, 67, 0.15);\n",
              "    fill: #174EA6;\n",
              "  }\n",
              "\n",
              "  [theme=dark] .colab-df-quickchart {\n",
              "    background-color: #3B4455;\n",
              "    fill: #D2E3FC;\n",
              "  }\n",
              "\n",
              "  [theme=dark] .colab-df-quickchart:hover {\n",
              "    background-color: #434B5C;\n",
              "    box-shadow: 0px 1px 3px 1px rgba(0, 0, 0, 0.15);\n",
              "    filter: drop-shadow(0px 1px 2px rgba(0, 0, 0, 0.3));\n",
              "    fill: #FFFFFF;\n",
              "  }\n",
              "</style>\n",
              "\n",
              "    <script>\n",
              "      async function quickchart(key) {\n",
              "        const containerElement = document.querySelector('#' + key);\n",
              "        const charts = await google.colab.kernel.invokeFunction(\n",
              "            'suggestCharts', [key], {});\n",
              "      }\n",
              "    </script>\n",
              "\n",
              "      <script>\n",
              "\n",
              "function displayQuickchartButton(domScope) {\n",
              "  let quickchartButtonEl =\n",
              "    domScope.querySelector('#df-278e3bbe-9b34-404e-8bf0-aeeffd6fc10d button.colab-df-quickchart');\n",
              "  quickchartButtonEl.style.display =\n",
              "    google.colab.kernel.accessAllowed ? 'block' : 'none';\n",
              "}\n",
              "\n",
              "        displayQuickchartButton(document);\n",
              "      </script>\n",
              "      <style>\n",
              "    .colab-df-container {\n",
              "      display:flex;\n",
              "      flex-wrap:wrap;\n",
              "      gap: 12px;\n",
              "    }\n",
              "\n",
              "    .colab-df-convert {\n",
              "      background-color: #E8F0FE;\n",
              "      border: none;\n",
              "      border-radius: 50%;\n",
              "      cursor: pointer;\n",
              "      display: none;\n",
              "      fill: #1967D2;\n",
              "      height: 32px;\n",
              "      padding: 0 0 0 0;\n",
              "      width: 32px;\n",
              "    }\n",
              "\n",
              "    .colab-df-convert:hover {\n",
              "      background-color: #E2EBFA;\n",
              "      box-shadow: 0px 1px 2px rgba(60, 64, 67, 0.3), 0px 1px 3px 1px rgba(60, 64, 67, 0.15);\n",
              "      fill: #174EA6;\n",
              "    }\n",
              "\n",
              "    [theme=dark] .colab-df-convert {\n",
              "      background-color: #3B4455;\n",
              "      fill: #D2E3FC;\n",
              "    }\n",
              "\n",
              "    [theme=dark] .colab-df-convert:hover {\n",
              "      background-color: #434B5C;\n",
              "      box-shadow: 0px 1px 3px 1px rgba(0, 0, 0, 0.15);\n",
              "      filter: drop-shadow(0px 1px 2px rgba(0, 0, 0, 0.3));\n",
              "      fill: #FFFFFF;\n",
              "    }\n",
              "  </style>\n",
              "\n",
              "      <script>\n",
              "        const buttonEl =\n",
              "          document.querySelector('#df-f8bd8afc-088a-4394-b519-f2517788e06e button.colab-df-convert');\n",
              "        buttonEl.style.display =\n",
              "          google.colab.kernel.accessAllowed ? 'block' : 'none';\n",
              "\n",
              "        async function convertToInteractive(key) {\n",
              "          const element = document.querySelector('#df-f8bd8afc-088a-4394-b519-f2517788e06e');\n",
              "          const dataTable =\n",
              "            await google.colab.kernel.invokeFunction('convertToInteractive',\n",
              "                                                     [key], {});\n",
              "          if (!dataTable) return;\n",
              "\n",
              "          const docLinkHtml = 'Like what you see? Visit the ' +\n",
              "            '<a target=\"_blank\" href=https://colab.research.google.com/notebooks/data_table.ipynb>data table notebook</a>'\n",
              "            + ' to learn more about interactive tables.';\n",
              "          element.innerHTML = '';\n",
              "          dataTable['output_type'] = 'display_data';\n",
              "          await google.colab.output.renderOutput(dataTable, element);\n",
              "          const docLink = document.createElement('div');\n",
              "          docLink.innerHTML = docLinkHtml;\n",
              "          element.appendChild(docLink);\n",
              "        }\n",
              "      </script>\n",
              "    </div>\n",
              "  </div>\n"
            ]
          },
          "metadata": {},
          "execution_count": 36
        }
      ]
    },
    {
      "cell_type": "code",
      "source": [
        "new_column = list()\n",
        "for row in data1.iterrows():\n",
        "  new_col = f\"{row[1]['Department']}-{row[1]['Expenditure_category']}-{row[1]['Item_name']}\"\n",
        "  new_column.append(new_col)"
      ],
      "metadata": {
        "id": "88o1TJA0QuaT"
      },
      "execution_count": 45,
      "outputs": []
    },
    {
      "cell_type": "code",
      "source": [
        "data1['description'] = new_column\n",
        "data1=data1.drop(axis=1,columns=['Department','Expenditure_category','Item_name'])"
      ],
      "metadata": {
        "id": "aY3mSW5gSfDq"
      },
      "execution_count": 48,
      "outputs": []
    },
    {
      "cell_type": "markdown",
      "source": [
        "##การวนลูป แบบมองตารางแพนด้าส์(pandas dataframe) เป็น numpy array (.iloc)"
      ],
      "metadata": {
        "id": "ZHoqV35eQFP9"
      }
    },
    {
      "cell_type": "code",
      "metadata": {
        "id": "-gT66JgMuBN0"
      },
      "source": [
        "for each_row in range(this_data.shape[0]):\n",
        "    if (this_data.iloc[each_row,1] <= 20) and (this_data.iloc[each_row,2] == 'ขอนแก่น'):  #each_row คือ ตัวเลข\n",
        "        print(each_row)\n",
        "        print(this_data.iloc[each_row,:])"
      ],
      "execution_count": null,
      "outputs": []
    },
    {
      "cell_type": "markdown",
      "metadata": {
        "id": "VlgREHOC0eXu"
      },
      "source": [
        "## Quiz ตัดตารางออกมาเฉพาะปี 2021 ```announce_date``` ในปี 2021\n",
        "\n",
        "**Hint**\n",
        "*   วนลูปหา index ของปี 2021\n",
        "*   ตัดตารางมาเฉพาะ ปี 2021\n",
        "\n"
      ]
    },
    {
      "cell_type": "code",
      "metadata": {
        "id": "E3C7RQIz8wtu"
      },
      "source": [
        "TF=list()\n",
        "for each_row in data_covid.iterrows():\n",
        "    if each_row[1]['announce_date'].split('/')[2] == '2021':\n",
        "        TF.append(True)\n",
        "    else:\n",
        "        TF.append(False)\n",
        "\n",
        "data_covid[TF].head()"
      ],
      "execution_count": null,
      "outputs": []
    },
    {
      "cell_type": "code",
      "source": [
        "TF"
      ],
      "metadata": {
        "id": "6-bZiKrFc_Yn"
      },
      "execution_count": null,
      "outputs": []
    },
    {
      "cell_type": "code",
      "source": [],
      "metadata": {
        "id": "sQSXrHg9dCYR"
      },
      "execution_count": null,
      "outputs": []
    },
    {
      "cell_type": "markdown",
      "source": [
        "### HW กลุ่ม 2 || เลือกข้อมูลมาเฉพาะวัน announce_date เป็นวันที่ 1-20  "
      ],
      "metadata": {
        "id": "nC3foO7jTFb9"
      }
    },
    {
      "cell_type": "markdown",
      "metadata": {
        "id": "gXOzi1O6BAFO"
      },
      "source": [
        "# Function ตัวช่วยใน pandas"
      ]
    },
    {
      "cell_type": "markdown",
      "metadata": {
        "id": "TvToU8hCCJL-"
      },
      "source": [
        "### ```.describe()``` คำนวณค่าทางสถิติของข้อมูลที่เป็นตัวเลข"
      ]
    },
    {
      "cell_type": "code",
      "metadata": {
        "id": "XM8qJ0o7A7ip"
      },
      "source": [
        "data_covid.describe()"
      ],
      "execution_count": null,
      "outputs": []
    },
    {
      "cell_type": "markdown",
      "metadata": {
        "id": "zXToQo4-CaPF"
      },
      "source": [
        "### ```.mean()``` คำนวณค่าเฉลี่ยของข้อมูลโดยไม่สนใจ missing"
      ]
    },
    {
      "cell_type": "code",
      "metadata": {
        "id": "TBwXJCRLBomc"
      },
      "source": [
        "data_covid[data_covid['sex']=='ชาย']['age'].mean()"
      ],
      "execution_count": null,
      "outputs": []
    },
    {
      "cell_type": "markdown",
      "metadata": {
        "id": "NuwVtwnjCpb5"
      },
      "source": [
        "### ```.isnull()```"
      ]
    },
    {
      "cell_type": "code",
      "metadata": {
        "id": "GNHkaDLMCo5t"
      },
      "source": [
        "data_covid.isnull()"
      ],
      "execution_count": null,
      "outputs": []
    },
    {
      "cell_type": "markdown",
      "metadata": {
        "id": "mkAeKL1D5HLi"
      },
      "source": [
        "# next\n",
        "\n",
        "*   ต่อตารางแกน X แกน y\n",
        "*   .groupby\n",
        "*   save table"
      ]
    },
    {
      "cell_type": "code",
      "metadata": {
        "id": "hqgXy4NYxy1W"
      },
      "source": [],
      "execution_count": null,
      "outputs": []
    }
  ]
}