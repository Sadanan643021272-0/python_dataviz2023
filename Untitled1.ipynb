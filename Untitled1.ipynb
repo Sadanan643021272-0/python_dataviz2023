{
  "nbformat": 4,
  "nbformat_minor": 0,
  "metadata": {
    "colab": {
      "provenance": [],
      "toc_visible": true,
      "authorship_tag": "ABX9TyMSn6ts6lGkolmBig7ReFkQ",
      "include_colab_link": true
    },
    "kernelspec": {
      "name": "python3",
      "display_name": "Python 3"
    },
    "language_info": {
      "name": "python"
    }
  },
  "cells": [
    {
      "cell_type": "markdown",
      "metadata": {
        "id": "view-in-github",
        "colab_type": "text"
      },
      "source": [
        "<a href=\"https://colab.research.google.com/github/Sadanan643021272-0/python_dataviz2023/blob/main/Untitled1.ipynb\" target=\"_parent\"><img src=\"https://colab.research.google.com/assets/colab-badge.svg\" alt=\"Open In Colab\"/></a>"
      ]
    },
    {
      "cell_type": "markdown",
      "source": [
        "##QUIZ1 PRINT มากที่มีก.ไก่100ตัว\n"
      ],
      "metadata": {
        "id": "pMHkd3BhziI1"
      }
    },
    {
      "cell_type": "code",
      "source": [
        "'มาก' + 'ก'*100"
      ],
      "metadata": {
        "colab": {
          "base_uri": "https://localhost:8080/",
          "height": 36
        },
        "id": "Wmlq9thfzmrK",
        "outputId": "40054a15-1c05-4563-9f45-7a2d17265eac"
      },
      "execution_count": 1,
      "outputs": [
        {
          "output_type": "execute_result",
          "data": {
            "text/plain": [
              "'มากกกกกกกกกกกกกกกกกกกกกกกกกกกกกกกกกกกกกกกกกกกกกกกกกกกกกกกกกกกกกกกกกกกกกกกกกกกกกกกกกกกกกกกกกกกกกกกกกกกกก'"
            ],
            "application/vnd.google.colaboratory.intrinsic+json": {
              "type": "string"
            }
          },
          "metadata": {},
          "execution_count": 1
        }
      ]
    },
    {
      "cell_type": "markdown",
      "source": [
        "##QUIZ 2\n",
        "กำหนด list เป็นประโยคคำว่า \"Department of Statistics,Faculty of Science,KhonKaen University, Thailand\"10July2023[15:25]\n",
        "\n",
        "1.ตัดมาเฉพาะคำว่า Faculty of Science\n",
        "\n",
        "2.ตัดเเบบเว้นที่ละ3ตัวอักษร\n",
        "\n",
        "3.ตัดคำว่า KhonKaen University ออกมาเเล้วเขียนกลับหลัง"
      ],
      "metadata": {
        "id": "FeGcMsuG0Y13"
      }
    },
    {
      "cell_type": "code",
      "source": [
        "list_a =\"Department of Statistics,Faculty of Science,Khon Kaen University, Thailand\""
      ],
      "metadata": {
        "id": "JBsfum-U0mml"
      },
      "execution_count": null,
      "outputs": []
    },
    {
      "cell_type": "code",
      "source": [
        "list_a"
      ],
      "metadata": {
        "id": "H-frE4hy0rUW"
      },
      "execution_count": null,
      "outputs": []
    },
    {
      "cell_type": "code",
      "source": [
        "list_a[25:44]"
      ],
      "metadata": {
        "id": "b3RZKQYn0ukP"
      },
      "execution_count": null,
      "outputs": []
    },
    {
      "cell_type": "code",
      "source": [
        "list_a[:74:3]"
      ],
      "metadata": {
        "id": "sNjwOAur0yip"
      },
      "execution_count": null,
      "outputs": []
    },
    {
      "cell_type": "code",
      "source": [
        "list_a[42::-1]"
      ],
      "metadata": {
        "id": "9u6YVPqw04VV"
      },
      "execution_count": null,
      "outputs": []
    },
    {
      "cell_type": "markdown",
      "source": [
        "####QUIZ3 อยากได้รายการที่ได้รับอนุมัติงบมากกว่า 1 ล้านบาท เเต่ไม่เกิน 2 ล้านบาท"
      ],
      "metadata": {
        "id": "yF-PDwUoAW2r"
      }
    },
    {
      "cell_type": "code",
      "source": [
        "data0 = pd.read_csv('/content/opendata_project.csv')"
      ],
      "metadata": {
        "id": "JZRcikG6BHcE"
      },
      "execution_count": null,
      "outputs": []
    },
    {
      "cell_type": "code",
      "source": [
        "from google.colab import drive\n",
        "drive.mount('/content/drive')"
      ],
      "metadata": {
        "id": "FTzE0yMRA67e"
      },
      "execution_count": null,
      "outputs": []
    },
    {
      "cell_type": "code",
      "source": [
        "data1 = pd.read_csv('/content/drive/MyDrive/DataViz23Data/csv.csv')\n",
        "data1.head(10)"
      ],
      "metadata": {
        "id": "kjRPXyRTAuaP"
      },
      "execution_count": null,
      "outputs": []
    },
    {
      "cell_type": "code",
      "source": [
        "data1[(data1['Approved_buget'] >1000000) & (data1['Approved_buget']<=2000000)]"
      ],
      "metadata": {
        "id": "XQm7HMGhAYPi"
      },
      "execution_count": null,
      "outputs": []
    },
    {
      "cell_type": "markdown",
      "source": [
        "##HW1\n",
        "คำนวณเวลาเป็นวินาทีของเวลาต่อไปนี้ ห่างกันกี่ชม กี่นาที กี่วินาที โดยใช้คำสั่ง split() ช่วย (print ออกมาให้สวยงาม)\n",
        "\n",
        "- 12:30:15- 13:41:07\n",
        "- 09:11:50- 21:30:15\n",
        "- 19:25:30- 03:10:15"
      ],
      "metadata": {
        "id": "95WodLiG07X4"
      }
    },
    {
      "cell_type": "code",
      "source": [
        "q1 = '12:30:15'\n",
        "Q1 = q1.split(\":\")\n",
        "hours1 = int(Q1[0])*3600\n",
        "minutes1 = int(Q1[1])*60\n",
        "seconds1 = int(Q1[2])\n",
        "q2 = '13:41:07'\n",
        "Q2 = q2.split(\":\")\n",
        "hours2 = int(Q2[0])*3600\n",
        "minutes2 = int(Q2[1])*60\n",
        "seconds2 = int(Q2[2])\n",
        "f1 =  hours1 + minutes1 + seconds1\n",
        "f2 =  hours2 + minutes2 + seconds2\n",
        "f3 =(f2-f1)\n",
        "rh = int(f3/3600)\n",
        "rm = int((f3%3600)/60)\n",
        "rs = int(f3%60)\n",
        "print(f'จาก{q1}ถึง{q2}ห่างกัน{rh:,}ชั่วโมง{rm:,}นาที{rs:,}วินาที')"
      ],
      "metadata": {
        "id": "KNnAxlL00aGm"
      },
      "execution_count": null,
      "outputs": []
    },
    {
      "cell_type": "code",
      "source": [
        "q4 = '09:11:50'\n",
        "Q4 = q4.split(\":\")\n",
        "hours4 = int(Q4[0])*3600\n",
        "minutes4 = int(Q4[1])*60\n",
        "seconds4 = int(Q4[2])\n",
        "q5 = '21:30:15'\n",
        "Q5 = q5.split(\":\")\n",
        "hours5 = int(Q5[0])*3600\n",
        "minutes5 = int(Q5[1])*60\n",
        "seconds5 = int(Q5[2])\n",
        "f4 =  hours4 + minutes4 + seconds4\n",
        "f5 =  hours5 + minutes5 + seconds5\n",
        "f6 =(f5-f4)\n",
        "rh = int(f6/3600)\n",
        "rm = int((f6%3600)/60)\n",
        "rs = int(f6%60)\n",
        "print(f'จาก{q4}ถึง{q5}ห่างกัน{rh:,}ชั่วโมง{rm:,}นาที{rs:,}วินาที')"
      ],
      "metadata": {
        "id": "OuR2rtdw1Ckh"
      },
      "execution_count": null,
      "outputs": []
    },
    {
      "cell_type": "code",
      "source": [
        "q7 = '19:25:30'\n",
        "Q7 = q7.split(\":\")\n",
        "hours7 = int(Q7[0])*3600\n",
        "minutes7 = int(Q7[1])*60\n",
        "seconds7 = int(Q7[2])\n",
        "q8 = '03:10:15'\n",
        "Q8 = q8.split(\":\")\n",
        "hours8 = int(Q8[0])*3600\n",
        "minutes8 = int(Q8[1])*60\n",
        "seconds8 = int(Q8[2])\n",
        "f7 =  hours7 + minutes7 + seconds7\n",
        "f8 =  hours8 + minutes8 + seconds8\n",
        "f9 =(f7-f8)\n",
        "rh = int(f9/3600)\n",
        "rm = int((f9%3600)/60)\n",
        "rs = int(f9%60)\n",
        "print(f'จาก{q7}ถึง{q8}ห่างกัน{rh:,}ชั่วโมง{rm:,}นาที{rs:,}วินาที')"
      ],
      "metadata": {
        "id": "TKurtwBV1HL5"
      },
      "execution_count": null,
      "outputs": []
    },
    {
      "cell_type": "markdown",
      "source": [
        "###HW2 สร้างLogo พรรคก้าวไกล"
      ],
      "metadata": {
        "id": "67Ji-oAA_FcK"
      }
    },
    {
      "cell_type": "code",
      "source": [
        "Logo = np.ones((20,13))\n",
        "Logo[0,0:13] = 39\n",
        "Logo[1,0:13]= 39\n",
        "Logo[2,10:13]= 39\n",
        "Logo[3,0:7]= 39\n",
        "Logo[3,9:12]= 39\n",
        "Logo[4,0:7]= 39\n",
        "Logo[4,9:12]= 39\n",
        "Logo[4,11] = 1\n",
        "Logo[5,4:6] = 39\n",
        "Logo[5,8:10]= 39\n",
        "Logo[6,4] = 39\n",
        "Logo[6,8:10]= 39\n",
        "Logo[6:8,3]= 39\n",
        "Logo[7,7:9]= 39\n",
        "Logo[7:9,2]= 39\n",
        "Logo[8,7:9]= 39\n",
        "Logo[8:10,1]= 39\n",
        "Logo[9,0:2]= 39\n",
        "Logo[9,6:8]= 39\n",
        "Logo[10,0] = 39\n",
        "Logo[10,6:8]= 39\n",
        "Logo[10:12,6]= 39\n",
        "Logo[11,5]= 39\n",
        "Logo[11:15,5]= 39\n",
        "Logo[13:17,4]= 39\n",
        "Logo[12,6]= 39\n",
        "Logo[15:17,3]= 39\n",
        "Logo[15:19,3]= 39\n",
        "Logo[17:19,2]= 39\n",
        "Logo[18,1]= 39\n",
        "Logo[18:20,1]= 39\n",
        "Logo[19,0]= 39\n",
        "Logo[19:19,2]= 39\n",
        "\n",
        "print(Logo)\n"
      ],
      "metadata": {
        "id": "FcvCHqav_Upk"
      },
      "execution_count": null,
      "outputs": []
    },
    {
      "cell_type": "markdown",
      "source": [
        "##hw2.5 สร้างfunction print  logo พรรคก้าวไกล โดยinput พื้นหลังได้"
      ],
      "metadata": {
        "id": "CcpR8CoC6K4A"
      }
    },
    {
      "cell_type": "code",
      "source": [
        "import numpy  as np# การเรียกใช้งาน package"
      ],
      "metadata": {
        "id": "9FGcvN2y6Y-k"
      },
      "execution_count": null,
      "outputs": []
    },
    {
      "cell_type": "code",
      "source": [
        "def NEW (X) :\n",
        "  Background = X * np.ones((20,13))\n",
        "  Background[0,0:13] = 39\n",
        "  Background[1,0:13]= 39\n",
        "  Background[2,10:13]= 39\n",
        "  Background[3,0:7]= 39\n",
        "  Background[3,9:12]= 39\n",
        "  Background[4,0:7]= 39\n",
        "  Background[4,9:12]= 39\n",
        "  Background[4,11] = 39\n",
        "  Background[5,4:6] = 39\n",
        "  Background[5,8:10]= 39\n",
        "  Background[6,4] = 39\n",
        "  Background[6,8:10]= 39\n",
        "  Background[6:8,3]= 39\n",
        "  Background[7,7:9]= 39\n",
        "  Background[7:9,2]= 39\n",
        "  Background[8,7:9]= 39\n",
        "  Background[8:10,1]= 39\n",
        "  Background[9,0:2]= 39\n",
        "  Background[9,6:8]= 39\n",
        "  Background[10,0] = 39\n",
        "  Background[10,6:8]= 39\n",
        "  Background[10:12,6]= 39\n",
        "  Background[11,5]= 39\n",
        "  Background[11:15,5]= 39\n",
        "  Background[13:17,4]= 39\n",
        "  Background[12,6]= 39\n",
        "  Background[15:17,3]= 39\n",
        "  Background[15:19,3]= 39\n",
        "  Background[17:19,2]= 39\n",
        "  Background[18,1]= 39\n",
        "  Background[18:20,1]= 39\n",
        "  Background[19,0]= 39\n",
        "  Background[19:19,2]= 39\n",
        "\n",
        "  print(Background)\n",
        "  NEW(6)"
      ],
      "metadata": {
        "id": "0sIOPZLB6Z9F"
      },
      "execution_count": null,
      "outputs": []
    },
    {
      "cell_type": "markdown",
      "source": [
        "##HW3\n",
        "-รายการที่เเพงที่สุดเเละถูกที่สุดคือรายการอะไร\n",
        "\n",
        "-รายการขุดลอกคูคอง 'สำนักงานเขตคลองสาม'เเละ'สำนักงานเขตคลองสามวา'\n",
        "\n",
        "-จากข้อ2 เขตไหนใช้งบประมาณเยอะกว่ากัน\n",
        "\n",
        "-Core Budget ไหน ('12-เงินสำรองจ่ายทั่วไป กรณีค่าใช้จ่ายต่างๆ เกี่ยวกับน้ำท่วม', '17-เงินสำรองจ่ายทั่วไป กรณีค่าใช้จ่ายเพื่อการพัฒนากรุงเทพมหานคร', '28-เงินสำรองค่าใช้จ่าย ในการพัฒนาเขต') มีค่าเฉลี่ยงบประมาณที่ถูกอนุมัติมากที่สุด"
      ],
      "metadata": {
        "id": "ifUh51Sk1gox"
      }
    },
    {
      "cell_type": "markdown",
      "source": [
        "### ข้อ 1 รายการที่เเพงที่สุดเเละถูกที่สุดคือรายการอะไร"
      ],
      "metadata": {
        "id": "Xwo3C_ec1rLX"
      }
    },
    {
      "cell_type": "code",
      "source": [
        "import pandas as pd\n",
        "data0 = pd.read_csv('/content/csv.csv')"
      ],
      "metadata": {
        "id": "tUaXLIlz2H_P"
      },
      "execution_count": null,
      "outputs": []
    },
    {
      "cell_type": "code",
      "source": [
        "data0 = pd.read_csv('')"
      ],
      "metadata": {
        "id": "lGgHW9M02Pjn"
      },
      "execution_count": null,
      "outputs": []
    },
    {
      "cell_type": "code",
      "source": [
        "from google.colab import drive\n",
        "drive.mount('/content/drive')  # mount =  เชื่อมไดร์ฟ"
      ],
      "metadata": {
        "id": "N7lhSc0X2gM6"
      },
      "execution_count": null,
      "outputs": []
    },
    {
      "cell_type": "code",
      "source": [
        "data1 = pd.read_csv('/content/drive/MyDrive/DataViz23Data/csv.csv')\n",
        "data1.head(10)"
      ],
      "metadata": {
        "id": "t4OzXUsB2hZD"
      },
      "execution_count": null,
      "outputs": []
    },
    {
      "cell_type": "code",
      "source": [
        "data1"
      ],
      "metadata": {
        "id": "ypj0jKi01pGS"
      },
      "execution_count": null,
      "outputs": []
    },
    {
      "cell_type": "code",
      "source": [
        "data1.max()\n",
        "data1.min()"
      ],
      "metadata": {
        "id": "aw1F9e8q1jLL"
      },
      "execution_count": null,
      "outputs": []
    },
    {
      "cell_type": "code",
      "source": [
        "data1_max =data1['Approved_buget'].max()\n",
        "data1_min = data1['Approved_buget'].min()\n",
        "data1[(data1['Approved_buget'] == data1_max)|(data1['Approved_buget'] == data1_min)]"
      ],
      "metadata": {
        "id": "dTp3J_532Bjy"
      },
      "execution_count": null,
      "outputs": []
    },
    {
      "cell_type": "markdown",
      "source": [
        "###ข้อ2 รายการขุดลอกคูคอง 'สำนักงานเขตคลองสาม'เเละ'สำนักงานเขตคลองสามวา'"
      ],
      "metadata": {
        "id": "osoDcygp3Fry"
      }
    },
    {
      "cell_type": "code",
      "source": [
        "data1[(data1['Department'] == 'สำนักงานเขตคลองสาน') | (data1['Department'] == 'สำนักงานเขตคลองสามวา')]"
      ],
      "metadata": {
        "id": "un6EwZct3EZS"
      },
      "execution_count": null,
      "outputs": []
    },
    {
      "cell_type": "markdown",
      "source": [
        "###ข้อ3 -จากข้อ2 เขตไหนใช้งบประมาณเยอะกว่ากัน"
      ],
      "metadata": {
        "id": "R7OjFHnp3TQn"
      }
    },
    {
      "cell_type": "code",
      "source": [
        "data_6= data1[(data1['Department'] == 'สำนักงานเขตคลองสาน')]\n",
        "data_7= data_6['Approved_buget'].sum()\n",
        "print('สำนักงานเขตคลองสาน ใช้งบประมาณไปทั้งหมด', data_7) ,\n",
        "data_8 = data1[(data1['Department'] == 'สำนักงานเขตคลองสามวา')]\n",
        "data_9 = data_8['Approved_buget'].sum()\n",
        "print('สำนักงานเขตคลองสามวา ใช้งบประมาณไปทั้งหมด', data_9)\n"
      ],
      "metadata": {
        "id": "GGeWFtx23ZwN"
      },
      "execution_count": null,
      "outputs": []
    },
    {
      "cell_type": "code",
      "source": [
        "if (data_7 < data_9):\n",
        "   print('สำนักงานเขตคลองสานใช้งบประมาณมากกว่า')\n",
        "elif (data_7 > data_9):\n",
        "   print('สำนักงานเขตคลองสามวาใช้งบประมาณมากว่า')"
      ],
      "metadata": {
        "id": "yr3cpABU3hb5"
      },
      "execution_count": null,
      "outputs": []
    },
    {
      "cell_type": "markdown",
      "source": [
        "###ข้อ4 Core Budget ไหน ('12-เงินสำรองจ่ายทั่วไป กรณีค่าใช้จ่ายต่างๆ เกี่ยวกับน้ำท่วม', '17-เงินสำรองจ่ายทั่วไป กรณีค่าใช้จ่ายเพื่อการพัฒนากรุงเทพมหานคร', '28-เงินสำรองค่าใช้จ่าย ในการพัฒนาเขต') มีค่าเฉลี่ยงบประมาณที่ถูกอนุมัติมากที่สุด"
      ],
      "metadata": {
        "id": "vCeOFPK631Ru"
      }
    },
    {
      "cell_type": "code",
      "source": [
        "ore_data1 = data1.dropna()\n",
        "CoreBudget_data1 = Core_data1[Core_data1['Core_budget_code'] != '-']\n",
        "CoreBudget_data1_12 =CoreBudget_data1[CoreBudget_data1['Core_budget_code'] == '12-เงินสำรองจ่ายทั่วไป กรณีค่าใช้จ่ายต่างๆ เกี่ยวกับน้ำท่วม']\n",
        "CoreBudget_data1_28 =CoreBudget_data1[CoreBudget_data1['Core_budget_code'] == '28-เงินสำรองค่าใช้จ่าย ในการพัฒนาเขต']\n",
        "CoreBudget_data1_17 =CoreBudget_data1[CoreBudget_data1['Core_budget_code'] == '17-เงินสำรองจ่ายทั่วไป กรณีค่าใช้จ่ายเพื่อการพัฒนากรุงเทพมหานคร']\n",
        "CoreBudget = []\n",
        "x=set(CoreBudget_data1['Core_budget_code'])\n",
        "for n in x:\n",
        "  CoreBudget.append(n)\n",
        "CoreBudget_data1_12_MEAN =CoreBudget_data1_12['Approved_buget'].mean()\n",
        "CoreBudget_data1_17_MEAN =CoreBudget_data1_17['Approved_buget'].mean()\n",
        "CoreBudget_data1_28_MEAN =CoreBudget_data1_28['Approved_buget'].mean()\n",
        "if (CoreBudget_data1_12_MEAN > CoreBudget_data1_17_MEAN ) & (CoreBudget_data1_12_MEAN > CoreBudget_data1_28_MEAN ):\n",
        "  print(f'รายการนี้ {CoreBudget[2]} มีค่าเฉลี่ยงบประมาณที่ถูกอนุมัติสูงที่สุด {CoreBudget_data1_12_MEAN}')\n",
        "elif (CoreBudget_data1_17_MEAN > CoreBudget_data1_12_MEAN ) & (CoreBudget_data1_17_MEAN > CoreBudget_data1_28_MEAN ):\n",
        "  print(f'รายการนี้ {CoreBudget[0]} มีค่าเฉลี่ยงบประมาณที่ถูกอนุมัติสูงที่สุด {CoreBudget_data1_17_MEAN}')\n",
        "elif (CoreBudget_data1_28_MEAN > CoreBudget_data1_12_MEAN ) & (CoreBudget_data1_28_MEAN > CoreBudget_data1_17_MEAN ):\n",
        "  print(f'รายการนี้ {CoreBudget[1]} มีค่าเฉลี่ยงบประมาณที่ถูกอนุมัติสูงที่สุด {CoreBudget_data1_28_MEAN}')"
      ],
      "metadata": {
        "id": "tLPFDNbk34ol"
      },
      "execution_count": null,
      "outputs": []
    },
    {
      "cell_type": "markdown",
      "source": [
        "###HW4 จากตาราง sep_oct_df\n",
        "1.งบประมาณประจำหรืองบประมาณลงทุน สูงกว่ากัน\n",
        "\n",
        "2.งบรวม เดือน oct หรือ sep อันไหนมากกว่ากัน\n",
        "\n",
        "3.เเก้ค่า Missing พร้อมทั้งให้เหตุผล\n",
        "\n",
        "4.เดือนไหนเบิกจ่ายรวมมากกว่ากัน(การใช้จ่าย(PO+เบิกจ่าย))"
      ],
      "metadata": {
        "id": "2bHSP3EV7O8b"
      }
    },
    {
      "cell_type": "markdown",
      "source": [
        "##1.งบประมาณประจำหรืองบประมาณลงทุน สูงกว่ากัน"
      ],
      "metadata": {
        "id": "5qM6jOfJ7e0N"
      }
    },
    {
      "cell_type": "code",
      "source": [
        "import pandas as pd\n",
        "import os"
      ],
      "metadata": {
        "id": "r2j0L5O87RrZ"
      },
      "execution_count": null,
      "outputs": []
    },
    {
      "cell_type": "code",
      "source": [
        "from google.colab import drive # เชื่อมบัญชีกับ google drive\n",
        "drive.mount('/content/drive') # เช็คว่าเชื่อมติดหรือไม่\n",
        " # ชี้ว่าใน google drive โฟลเดอร์ที่เราอยากได้"
      ],
      "metadata": {
        "id": "ckgsnZyT7XmU"
      },
      "execution_count": null,
      "outputs": []
    },
    {
      "cell_type": "code",
      "source": [
        "oct_df =pd.read_excel('/content/drive/MyDrive/DataViz23Data/Oct65.xlsx')\n",
        "oct_df"
      ],
      "metadata": {
        "id": "AI2IKR0Z7gub"
      },
      "execution_count": null,
      "outputs": []
    },
    {
      "cell_type": "code",
      "source": [
        "sep_df =pd.read_excel('/content/drive/MyDrive/DataViz23Data/Sep65.xlsx',header=8,skipfooter=26)#skiprowsข้ามลง2อัน#skipfooterกคือการกระโดดจากด้านล่าง\n",
        "sep_df"
      ],
      "metadata": {
        "id": "F-pyjg_e7j3L"
      },
      "execution_count": null,
      "outputs": []
    },
    {
      "cell_type": "code",
      "source": [
        "Octo_df = pd.read_excel('/content/drive/MyDrive/DataViz23Data/Oct65.xlsx', header=9,skipfooter=27)"
      ],
      "metadata": {
        "id": "JM5GwkBD7sCm"
      },
      "execution_count": null,
      "outputs": []
    },
    {
      "cell_type": "code",
      "source": [
        "sep_df =pd.read_excel('/content/drive/MyDrive/DataViz23Data/Sep65.xlsx',header=8,skipfooter=26)#skiprowsตัดตารางจากด้านล่าง\n",
        "sep_df\n"
      ],
      "metadata": {
        "id": "DusLzOkC73Iw"
      },
      "execution_count": null,
      "outputs": []
    },
    {
      "cell_type": "code",
      "source": [
        "data_file_path = os.path.join(path,'pm-20-jan-2021.csv') # เชื่อมกับไฟล์ .csv\n",
        "data_df = pd.read_csv(data_file_path)"
      ],
      "metadata": {
        "id": "FTBNLO7j7964"
      },
      "execution_count": null,
      "outputs": []
    },
    {
      "cell_type": "code",
      "source": [
        "sep_df=sep_df.iloc[-2:,:15] #เอาตั้งเเต่เเถว-2ด้านล่าง ถึงคอลัมน์0ถึง15\n",
        "sep_df['เดือน-ปี'] = len(sep_df)*['sep-65']#เพิ่มคอลัมน์เดือนปี  โดยเอาจำนวนrowคูณด้วยข้อมูลที่ต้องการใส่(การลูปข้อมูลซ้ำๆ)\n",
        "sep_df"
      ],
      "metadata": {
        "id": "hsUjBXZh8k3y"
      },
      "execution_count": null,
      "outputs": []
    },
    {
      "cell_type": "code",
      "source": [
        "oct_df= Octo_df.iloc[-2:,:15]\n",
        "oct_df['เดือน-ปี'] = len(oct_df)*['Octo-65']\n",
        "oct_df"
      ],
      "metadata": {
        "id": "YjuEzjD78qVR"
      },
      "execution_count": null,
      "outputs": []
    },
    {
      "cell_type": "code",
      "source": [
        "sep_df = sep_df.iloc[-2:,:15]\n",
        "sep_df\n"
      ],
      "metadata": {
        "id": "pith2iWU802r"
      },
      "execution_count": null,
      "outputs": []
    },
    {
      "cell_type": "code",
      "source": [
        "sep_df ['เดือน-ปี'] = len(sep_df)*['sep-65']\n",
        "sep_df"
      ],
      "metadata": {
        "id": "Lf3XS1q481AO"
      },
      "execution_count": null,
      "outputs": []
    },
    {
      "cell_type": "code",
      "source": [
        "oct_df =pd.read_excel('/content/drive/MyDrive/DataViz23Data/Oct65.xlsx',header=9,skipfooter=27)#skiprowsข้ามลง2อัน#skipfooterกคือการกระโดดจากด้านล่าง\n",
        "oct_df = oct_df.iloc[-2:,:15]\n",
        "oct_df['เดือน-ปี'] = len(oct_df)*['oct_65']\n",
        "oct_df"
      ],
      "metadata": {
        "id": "xLsNq5oB81Hn"
      },
      "execution_count": null,
      "outputs": []
    },
    {
      "cell_type": "code",
      "source": [
        "sep_oct_df = pd.concat([sep_df,oct_df])#เชื่อม2ตาราง\n",
        "sep_oct_df"
      ],
      "metadata": {
        "id": "ClNrshzC81V8"
      },
      "execution_count": null,
      "outputs": []
    },
    {
      "cell_type": "code",
      "source": [
        "งบประมาณประจำ =sep_oct_df['งบประมาณ'][2].sum()#เอาเเถวที่\n",
        "งบประมาณลงทุน =sep_oct_df['งบประมาณ'][3].sum()\n",
        "list_name =[]\n",
        "for x in set(sep_oct_df['รายการ']):\n",
        "  list_name.append(x) #appendคือเอาไปอยู่ในlist\n",
        "list_name #list_name[:] ตัวเเรก=0 ตัวที่สอง=1\n",
        "if งบประมาณประจำ  > งบประมาณลงทุน :\n",
        "  print (f'งบประมาณที่มากที่สุดคือ {list_name[0]} ซึ่งเป็นเงินจำนวน {int(งบประมาณประจำ):,} บาท' )\n",
        "elif fix_sum < invest_sum:\n",
        "  print (f'งบประมาณที่มากที่สุดคือ {list_name[1]} ซึ่งเป็นเงินจำนวน {int(งบประมาณลงทุน):,} บาท' )"
      ],
      "metadata": {
        "id": "wG2YbPb091nY"
      },
      "execution_count": null,
      "outputs": []
    },
    {
      "cell_type": "markdown",
      "source": [
        "##2.งบรวม เดือน oct หรือ sep อันไหนมากกว่ากัน"
      ],
      "metadata": {
        "id": "zPOGOCFW999g"
      }
    },
    {
      "cell_type": "code",
      "source": [
        "sep_df = sep_oct_df[sep_oct_df[\"เดือน-ปี\"] == sep_df[\"เดือน-ปี\"][2]]\n",
        "oct1_df = sep_oct_df[sep_oct_df[\"เดือน-ปี\"] == oct_df[\"เดือน-ปี\"][2]]\n",
        "งบประมาณประจำเดือนกันยา = sep_df['งบประมาณ'][2]\n",
        "งบประมาณลงทุนเดือนกันยา = sep_df['งบประมาณ'][3]\n",
        "งบรวมเดือนกันยา = งบประมาณประจำเดือนกันยา + งบประมาณลงทุนเดือนกันยา\n",
        "งบประมาณประจำเดือนตุลา = oct1_df['งบประมาณ'][2]\n",
        "งบประมาณลงทุนเดือนตุลา= oct1_df['งบประมาณ'][3]\n",
        "งบรวมเดือนตุลา = งบประมาณประจำเดือนตุลา + งบประมาณลงทุนเดือนตุลา\n",
        "list_name =[]\n",
        "for x in set(oct_df['รายการ']):\n",
        "  list_name.append(x)\n",
        "list_name\n",
        "if งบรวมเดือนกันยา > งบรวมเดือนตุลา :\n",
        "  print (f'งบรวมที่มากที่สุดคือเดือน {sep_df[\"เดือน-ปี\"][2]} ซึ่งประกอบไปด้วย \"{list_name[0]}\" เป็นจำนวน {int(งบประมาณประจำเดือนกันยา):,} บาท เเละ \"{list_name[1]}\" ซึ่งเป็นเงินจำนวน {int(งบประมาณลงทุนเดือนกันยา):,} บาท รวมเป็นเงินทั้งสิ้น {int(งบรวมเดือนกันยา):,} บาท')\n",
        "elif งบรวมเดือนกันยา < งบรวมเดือนตุลา :\n",
        "  print (f'งบรวมที่มากที่สุดคือเดือน {oct1_df[\"เดือน-ปี\"][2]} ซึ่งประกอบไปด้วย \"{list_name[0]}\" เป็นจำนวน {int(งบประมาณประจำเดือนตุลา):,} บาท เเละ \"{list_name[1]}\" ซึ่งเป็นเงินจำนวน {int(งบประมาณลงทุนเดือนตุลา):,} บาท รวมเป็นเงินทั้งสิ้น {int(งบรวมเดือนตุลา):,} บาท')\n"
      ],
      "metadata": {
        "id": "fUAULzqU9_XH"
      },
      "execution_count": null,
      "outputs": []
    },
    {
      "cell_type": "markdown",
      "source": [
        "##3. เเก้ค่า missing พร้อมทั้งให้เหตุผล"
      ],
      "metadata": {
        "id": "fIUsvNfb-Fmz"
      }
    },
    {
      "cell_type": "code",
      "source": [
        "x_df = sep_oct_df.fillna('-')\n",
        "print ('เหตุผลที่เปลี่ยนค่า Nan เป็น null เพราะ')\n",
        "print ('1.หากใช้ .dropna จะทำให้rowทั้งหมดหายไปเนื่องจากทุก row มีค่า Nanหมด')\n",
        "print ('2.ในงบประจำเดือนกันยายนไม่มีเป้าหมาย Q1 เเละลำดับเบิกจ่าย')\n",
        "print ('ในเดือนตุลาคมก็ไม่มีสำรองเงินมีหนี้ เเละ เงินประจำจะไม่มีลำดับเบิก/ใช้จ่าย')\n",
        "print ('3.ในงบลงทุนเดือนกันยายนไม่มีเป้าหมาย Q1')\n",
        "print ('ในเดือนตุลาคมก็ไม่มีสำรองเงินมีหนี้')\n",
        "print ('4.ค่าที่เปลี่ยนนั้นเป็นข้อมูลเชิงคุณภาพที่หากใส่ตัวเลขเข้าไปก็สามารถทำให้เกิดความเข้าใจผิดได้ ดังนั้นเพื่อไม่ให้ความเข้าใจคาดเคลื่อนจึงใช้เป็น \"-\" เเทน ')\n",
        "print ('')\n",
        "print ('ตารางที่มีการเเก้ไขค่า missing เเล้ว')\n",
        "x_df"
      ],
      "metadata": {
        "id": "N5zV4M9_-KnG"
      },
      "execution_count": null,
      "outputs": []
    },
    {
      "cell_type": "markdown",
      "source": [
        "##4. เดือนไหนเบิกจ่ายรวมมากกว่ากัน (การใช้จ่าย (PO+เบิกจ่าย))"
      ],
      "metadata": {
        "id": "ToBhf7os-ULV"
      }
    },
    {
      "cell_type": "code",
      "source": [
        "sep1_df = sep_oct_df[sep_oct_df[\"เดือน-ปี\"] == sep_df[\"เดือน-ปี\"][2]]\n",
        "octo1_df = sep_oct_df[sep_oct_df[\"เดือน-ปี\"] == oct_df[\"เดือน-ปี\"][2]]\n",
        "sep_fix = sep1_df['การใช้จ่าย (PO+เบิกจ่าย)'][2]\n",
        "sep_invest = sep1_df['การใช้จ่าย (PO+เบิกจ่าย)'][3]\n",
        "sep_sum = sep_fix + sep_invest\n",
        "octo_fix = octo1_df['การใช้จ่าย (PO+เบิกจ่าย)'][2]\n",
        "octo_invest = octo1_df['การใช้จ่าย (PO+เบิกจ่าย)'][3]\n",
        "octo_sum = octo_fix + octo_invest\n",
        "list_name =[]\n",
        "for x in set(oct_df['รายการ']):\n",
        "  list_name.append(x)\n",
        "list_name\n",
        "if sep_sum > octo_sum :\n",
        "  print (f'งบรวมที่มากที่สุดคือเดือน {sep1_df[\"เดือน-ปี\"][2]} ซึ่งประกอบไปด้วย \"{list_name[0]}\" เป็นจำนวน {int(sep_fix):,} บาท เเละ \"{list_name[1]}\" ซึ่งเป็นเงินจำนวน {int(sep_invest):,} บาท รวมเป็นเงินทั้งสิ้น {int(sep_sum):,} บาท')\n",
        "elif sep_sum < octo_sum :\n",
        "  print (f'งบรวมที่มากที่สุดคือเดือน {octo1_df[\"เดือน-ปี\"][2]} ซึ่งประกอบไปด้วย \"{list_name[0]}\" เป็นจำนวน {int(octo_fix):,} บาท เเละ \"{list_name[1]}\" ซึ่งเป็นเงินจำนวน {int(octo_invest):,} บาท รวมเป็นเงินทั้งสิ้น {int(octo_sum):,} บาท')"
      ],
      "metadata": {
        "id": "yaz6j5vV-YeF"
      },
      "execution_count": null,
      "outputs": []
    }
  ]
}